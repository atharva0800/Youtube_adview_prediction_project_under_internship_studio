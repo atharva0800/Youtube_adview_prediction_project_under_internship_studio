{
  "nbformat": 4,
  "nbformat_minor": 0,
  "metadata": {
    "kernelspec": {
      "display_name": "Python 3",
      "language": "python",
      "name": "python3"
    },
    "language_info": {
      "codemirror_mode": {
        "name": "ipython",
        "version": 3
      },
      "file_extension": ".py",
      "mimetype": "text/x-python",
      "name": "python",
      "nbconvert_exporter": "python",
      "pygments_lexer": "ipython3",
      "version": "3.8.3"
    },
    "colab": {
      "name": "Internship-Project-YouTube_Addviews-submission.ipynb",
      "provenance": [],
      "collapsed_sections": [
        "T1Bx8zJJAXt4"
      ]
    }
  },
  "cells": [
    {
      "cell_type": "markdown",
      "metadata": {
        "id": "Ops_owKCAXth"
      },
      "source": [
        "# Project: Youtube adview Prediction"
      ]
    },
    {
      "cell_type": "markdown",
      "metadata": {
        "id": "8ekOGcRbAXtk"
      },
      "source": [
        "# 1.Importing the datasets and libraries, check shape and datatype."
      ]
    },
    {
      "cell_type": "code",
      "metadata": {
        "colab": {
          "resources": {
            "http://localhost:8080/nbextensions/google.colab/files.js": {
              "data": "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",
              "ok": true,
              "headers": [
                [
                  "content-type",
                  "application/javascript"
                ]
              ],
              "status": 200,
              "status_text": ""
            }
          },
          "base_uri": "https://localhost:8080/",
          "height": 39
        },
        "id": "oLa23nZAAtGd",
        "outputId": "d266bfe1-08c3-48ad-df43-c9f2f2ed6869"
      },
      "source": [
        "from google.colab import files\n",
        "uploaded = files.upload()"
      ],
      "execution_count": 98,
      "outputs": [
        {
          "output_type": "display_data",
          "data": {
            "text/html": [
              "\n",
              "     <input type=\"file\" id=\"files-e3e88010-edc8-4bc1-8db3-41e3fc0ed73a\" name=\"files[]\" multiple disabled\n",
              "        style=\"border:none\" />\n",
              "     <output id=\"result-e3e88010-edc8-4bc1-8db3-41e3fc0ed73a\">\n",
              "      Upload widget is only available when the cell has been executed in the\n",
              "      current browser session. Please rerun this cell to enable.\n",
              "      </output>\n",
              "      <script src=\"/nbextensions/google.colab/files.js\"></script> "
            ],
            "text/plain": [
              "<IPython.core.display.HTML object>"
            ]
          },
          "metadata": {
            "tags": []
          }
        }
      ]
    },
    {
      "cell_type": "code",
      "metadata": {
        "id": "pa4Kp63GAXtl"
      },
      "source": [
        "#importing the libraries\n",
        "import numpy as np\n",
        "import pandas as pd\n",
        "import matplotlib.cm as cm\n",
        "import matplotlib.pyplot as plt\n",
        "import seaborn as sns"
      ],
      "execution_count": 99,
      "outputs": []
    },
    {
      "cell_type": "code",
      "metadata": {
        "id": "KnTEOr91AXtl"
      },
      "source": [
        "#importing the datasets\n",
        "data_train = pd.read_csv(\"train.csv\") "
      ],
      "execution_count": 100,
      "outputs": []
    },
    {
      "cell_type": "code",
      "metadata": {
        "colab": {
          "base_uri": "https://localhost:8080/",
          "height": 417
        },
        "id": "W17TOKEHAXtm",
        "outputId": "3166e70e-d44f-40b9-d738-e487253696f2"
      },
      "source": [
        "#Displaying the imported dataset\n",
        "data_train"
      ],
      "execution_count": 101,
      "outputs": [
        {
          "output_type": "execute_result",
          "data": {
            "text/html": [
              "<div>\n",
              "<style scoped>\n",
              "    .dataframe tbody tr th:only-of-type {\n",
              "        vertical-align: middle;\n",
              "    }\n",
              "\n",
              "    .dataframe tbody tr th {\n",
              "        vertical-align: top;\n",
              "    }\n",
              "\n",
              "    .dataframe thead th {\n",
              "        text-align: right;\n",
              "    }\n",
              "</style>\n",
              "<table border=\"1\" class=\"dataframe\">\n",
              "  <thead>\n",
              "    <tr style=\"text-align: right;\">\n",
              "      <th></th>\n",
              "      <th>vidid</th>\n",
              "      <th>adview</th>\n",
              "      <th>views</th>\n",
              "      <th>likes</th>\n",
              "      <th>dislikes</th>\n",
              "      <th>comment</th>\n",
              "      <th>published</th>\n",
              "      <th>duration</th>\n",
              "      <th>category</th>\n",
              "    </tr>\n",
              "  </thead>\n",
              "  <tbody>\n",
              "    <tr>\n",
              "      <th>0</th>\n",
              "      <td>VID_18655</td>\n",
              "      <td>40</td>\n",
              "      <td>1031602</td>\n",
              "      <td>8523</td>\n",
              "      <td>363</td>\n",
              "      <td>1095</td>\n",
              "      <td>2016-09-14</td>\n",
              "      <td>PT7M37S</td>\n",
              "      <td>F</td>\n",
              "    </tr>\n",
              "    <tr>\n",
              "      <th>1</th>\n",
              "      <td>VID_14135</td>\n",
              "      <td>2</td>\n",
              "      <td>1707</td>\n",
              "      <td>56</td>\n",
              "      <td>2</td>\n",
              "      <td>6</td>\n",
              "      <td>2016-10-01</td>\n",
              "      <td>PT9M30S</td>\n",
              "      <td>D</td>\n",
              "    </tr>\n",
              "    <tr>\n",
              "      <th>2</th>\n",
              "      <td>VID_2187</td>\n",
              "      <td>1</td>\n",
              "      <td>2023</td>\n",
              "      <td>25</td>\n",
              "      <td>0</td>\n",
              "      <td>2</td>\n",
              "      <td>2016-07-02</td>\n",
              "      <td>PT2M16S</td>\n",
              "      <td>C</td>\n",
              "    </tr>\n",
              "    <tr>\n",
              "      <th>3</th>\n",
              "      <td>VID_23096</td>\n",
              "      <td>6</td>\n",
              "      <td>620860</td>\n",
              "      <td>777</td>\n",
              "      <td>161</td>\n",
              "      <td>153</td>\n",
              "      <td>2016-07-27</td>\n",
              "      <td>PT4M22S</td>\n",
              "      <td>H</td>\n",
              "    </tr>\n",
              "    <tr>\n",
              "      <th>4</th>\n",
              "      <td>VID_10175</td>\n",
              "      <td>1</td>\n",
              "      <td>666</td>\n",
              "      <td>1</td>\n",
              "      <td>0</td>\n",
              "      <td>0</td>\n",
              "      <td>2016-06-29</td>\n",
              "      <td>PT31S</td>\n",
              "      <td>D</td>\n",
              "    </tr>\n",
              "    <tr>\n",
              "      <th>...</th>\n",
              "      <td>...</td>\n",
              "      <td>...</td>\n",
              "      <td>...</td>\n",
              "      <td>...</td>\n",
              "      <td>...</td>\n",
              "      <td>...</td>\n",
              "      <td>...</td>\n",
              "      <td>...</td>\n",
              "      <td>...</td>\n",
              "    </tr>\n",
              "    <tr>\n",
              "      <th>14994</th>\n",
              "      <td>VID_31</td>\n",
              "      <td>2</td>\n",
              "      <td>525949</td>\n",
              "      <td>1137</td>\n",
              "      <td>83</td>\n",
              "      <td>86</td>\n",
              "      <td>2015-05-18</td>\n",
              "      <td>PT6M10S</td>\n",
              "      <td>A</td>\n",
              "    </tr>\n",
              "    <tr>\n",
              "      <th>14995</th>\n",
              "      <td>VID_5861</td>\n",
              "      <td>1</td>\n",
              "      <td>665673</td>\n",
              "      <td>3849</td>\n",
              "      <td>156</td>\n",
              "      <td>569</td>\n",
              "      <td>2015-10-20</td>\n",
              "      <td>PT3M56S</td>\n",
              "      <td>D</td>\n",
              "    </tr>\n",
              "    <tr>\n",
              "      <th>14996</th>\n",
              "      <td>VID_805</td>\n",
              "      <td>4</td>\n",
              "      <td>3479</td>\n",
              "      <td>16</td>\n",
              "      <td>1</td>\n",
              "      <td>1</td>\n",
              "      <td>2013-08-23</td>\n",
              "      <td>PT3M13S</td>\n",
              "      <td>B</td>\n",
              "    </tr>\n",
              "    <tr>\n",
              "      <th>14997</th>\n",
              "      <td>VID_19843</td>\n",
              "      <td>1</td>\n",
              "      <td>963</td>\n",
              "      <td>0</td>\n",
              "      <td>0</td>\n",
              "      <td>0</td>\n",
              "      <td>2010-10-02</td>\n",
              "      <td>PT26S</td>\n",
              "      <td>G</td>\n",
              "    </tr>\n",
              "    <tr>\n",
              "      <th>14998</th>\n",
              "      <td>VID_8534</td>\n",
              "      <td>1</td>\n",
              "      <td>15212</td>\n",
              "      <td>22</td>\n",
              "      <td>5</td>\n",
              "      <td>4</td>\n",
              "      <td>2016-02-19</td>\n",
              "      <td>PT1M1S</td>\n",
              "      <td>D</td>\n",
              "    </tr>\n",
              "  </tbody>\n",
              "</table>\n",
              "<p>14999 rows × 9 columns</p>\n",
              "</div>"
            ],
            "text/plain": [
              "           vidid  adview    views likes  ... comment   published duration category\n",
              "0      VID_18655      40  1031602  8523  ...    1095  2016-09-14  PT7M37S        F\n",
              "1      VID_14135       2     1707    56  ...       6  2016-10-01  PT9M30S        D\n",
              "2       VID_2187       1     2023    25  ...       2  2016-07-02  PT2M16S        C\n",
              "3      VID_23096       6   620860   777  ...     153  2016-07-27  PT4M22S        H\n",
              "4      VID_10175       1      666     1  ...       0  2016-06-29    PT31S        D\n",
              "...          ...     ...      ...   ...  ...     ...         ...      ...      ...\n",
              "14994     VID_31       2   525949  1137  ...      86  2015-05-18  PT6M10S        A\n",
              "14995   VID_5861       1   665673  3849  ...     569  2015-10-20  PT3M56S        D\n",
              "14996    VID_805       4     3479    16  ...       1  2013-08-23  PT3M13S        B\n",
              "14997  VID_19843       1      963     0  ...       0  2010-10-02    PT26S        G\n",
              "14998   VID_8534       1    15212    22  ...       4  2016-02-19   PT1M1S        D\n",
              "\n",
              "[14999 rows x 9 columns]"
            ]
          },
          "metadata": {
            "tags": []
          },
          "execution_count": 101
        }
      ]
    },
    {
      "cell_type": "code",
      "metadata": {
        "colab": {
          "base_uri": "https://localhost:8080/"
        },
        "id": "o1EwPhKHAXtn",
        "outputId": "f3c32e64-7095-4ef4-bfc7-4e770f51e21c"
      },
      "source": [
        "#checking the shape of dataset\n",
        "data_train.shape"
      ],
      "execution_count": 102,
      "outputs": [
        {
          "output_type": "execute_result",
          "data": {
            "text/plain": [
              "(14999, 9)"
            ]
          },
          "metadata": {
            "tags": []
          },
          "execution_count": 102
        }
      ]
    },
    {
      "cell_type": "code",
      "metadata": {
        "colab": {
          "base_uri": "https://localhost:8080/",
          "height": 203
        },
        "id": "ZiQ-kIegAXto",
        "outputId": "5f92218c-f9e2-4977-9df9-5f5a4d4e4a05"
      },
      "source": [
        "#checking the head part of the dataset\n",
        "data_train.head()"
      ],
      "execution_count": 103,
      "outputs": [
        {
          "output_type": "execute_result",
          "data": {
            "text/html": [
              "<div>\n",
              "<style scoped>\n",
              "    .dataframe tbody tr th:only-of-type {\n",
              "        vertical-align: middle;\n",
              "    }\n",
              "\n",
              "    .dataframe tbody tr th {\n",
              "        vertical-align: top;\n",
              "    }\n",
              "\n",
              "    .dataframe thead th {\n",
              "        text-align: right;\n",
              "    }\n",
              "</style>\n",
              "<table border=\"1\" class=\"dataframe\">\n",
              "  <thead>\n",
              "    <tr style=\"text-align: right;\">\n",
              "      <th></th>\n",
              "      <th>vidid</th>\n",
              "      <th>adview</th>\n",
              "      <th>views</th>\n",
              "      <th>likes</th>\n",
              "      <th>dislikes</th>\n",
              "      <th>comment</th>\n",
              "      <th>published</th>\n",
              "      <th>duration</th>\n",
              "      <th>category</th>\n",
              "    </tr>\n",
              "  </thead>\n",
              "  <tbody>\n",
              "    <tr>\n",
              "      <th>0</th>\n",
              "      <td>VID_18655</td>\n",
              "      <td>40</td>\n",
              "      <td>1031602</td>\n",
              "      <td>8523</td>\n",
              "      <td>363</td>\n",
              "      <td>1095</td>\n",
              "      <td>2016-09-14</td>\n",
              "      <td>PT7M37S</td>\n",
              "      <td>F</td>\n",
              "    </tr>\n",
              "    <tr>\n",
              "      <th>1</th>\n",
              "      <td>VID_14135</td>\n",
              "      <td>2</td>\n",
              "      <td>1707</td>\n",
              "      <td>56</td>\n",
              "      <td>2</td>\n",
              "      <td>6</td>\n",
              "      <td>2016-10-01</td>\n",
              "      <td>PT9M30S</td>\n",
              "      <td>D</td>\n",
              "    </tr>\n",
              "    <tr>\n",
              "      <th>2</th>\n",
              "      <td>VID_2187</td>\n",
              "      <td>1</td>\n",
              "      <td>2023</td>\n",
              "      <td>25</td>\n",
              "      <td>0</td>\n",
              "      <td>2</td>\n",
              "      <td>2016-07-02</td>\n",
              "      <td>PT2M16S</td>\n",
              "      <td>C</td>\n",
              "    </tr>\n",
              "    <tr>\n",
              "      <th>3</th>\n",
              "      <td>VID_23096</td>\n",
              "      <td>6</td>\n",
              "      <td>620860</td>\n",
              "      <td>777</td>\n",
              "      <td>161</td>\n",
              "      <td>153</td>\n",
              "      <td>2016-07-27</td>\n",
              "      <td>PT4M22S</td>\n",
              "      <td>H</td>\n",
              "    </tr>\n",
              "    <tr>\n",
              "      <th>4</th>\n",
              "      <td>VID_10175</td>\n",
              "      <td>1</td>\n",
              "      <td>666</td>\n",
              "      <td>1</td>\n",
              "      <td>0</td>\n",
              "      <td>0</td>\n",
              "      <td>2016-06-29</td>\n",
              "      <td>PT31S</td>\n",
              "      <td>D</td>\n",
              "    </tr>\n",
              "  </tbody>\n",
              "</table>\n",
              "</div>"
            ],
            "text/plain": [
              "       vidid  adview    views likes  ... comment   published duration category\n",
              "0  VID_18655      40  1031602  8523  ...    1095  2016-09-14  PT7M37S        F\n",
              "1  VID_14135       2     1707    56  ...       6  2016-10-01  PT9M30S        D\n",
              "2   VID_2187       1     2023    25  ...       2  2016-07-02  PT2M16S        C\n",
              "3  VID_23096       6   620860   777  ...     153  2016-07-27  PT4M22S        H\n",
              "4  VID_10175       1      666     1  ...       0  2016-06-29    PT31S        D\n",
              "\n",
              "[5 rows x 9 columns]"
            ]
          },
          "metadata": {
            "tags": []
          },
          "execution_count": 103
        }
      ]
    },
    {
      "cell_type": "code",
      "metadata": {
        "colab": {
          "base_uri": "https://localhost:8080/",
          "height": 203
        },
        "id": "ITOZY5yKAXtp",
        "outputId": "7e4ba42f-466d-4aaf-cb82-af078356891b"
      },
      "source": [
        "#checking the tail part of the dataset\n",
        "data_train.tail()"
      ],
      "execution_count": 104,
      "outputs": [
        {
          "output_type": "execute_result",
          "data": {
            "text/html": [
              "<div>\n",
              "<style scoped>\n",
              "    .dataframe tbody tr th:only-of-type {\n",
              "        vertical-align: middle;\n",
              "    }\n",
              "\n",
              "    .dataframe tbody tr th {\n",
              "        vertical-align: top;\n",
              "    }\n",
              "\n",
              "    .dataframe thead th {\n",
              "        text-align: right;\n",
              "    }\n",
              "</style>\n",
              "<table border=\"1\" class=\"dataframe\">\n",
              "  <thead>\n",
              "    <tr style=\"text-align: right;\">\n",
              "      <th></th>\n",
              "      <th>vidid</th>\n",
              "      <th>adview</th>\n",
              "      <th>views</th>\n",
              "      <th>likes</th>\n",
              "      <th>dislikes</th>\n",
              "      <th>comment</th>\n",
              "      <th>published</th>\n",
              "      <th>duration</th>\n",
              "      <th>category</th>\n",
              "    </tr>\n",
              "  </thead>\n",
              "  <tbody>\n",
              "    <tr>\n",
              "      <th>14994</th>\n",
              "      <td>VID_31</td>\n",
              "      <td>2</td>\n",
              "      <td>525949</td>\n",
              "      <td>1137</td>\n",
              "      <td>83</td>\n",
              "      <td>86</td>\n",
              "      <td>2015-05-18</td>\n",
              "      <td>PT6M10S</td>\n",
              "      <td>A</td>\n",
              "    </tr>\n",
              "    <tr>\n",
              "      <th>14995</th>\n",
              "      <td>VID_5861</td>\n",
              "      <td>1</td>\n",
              "      <td>665673</td>\n",
              "      <td>3849</td>\n",
              "      <td>156</td>\n",
              "      <td>569</td>\n",
              "      <td>2015-10-20</td>\n",
              "      <td>PT3M56S</td>\n",
              "      <td>D</td>\n",
              "    </tr>\n",
              "    <tr>\n",
              "      <th>14996</th>\n",
              "      <td>VID_805</td>\n",
              "      <td>4</td>\n",
              "      <td>3479</td>\n",
              "      <td>16</td>\n",
              "      <td>1</td>\n",
              "      <td>1</td>\n",
              "      <td>2013-08-23</td>\n",
              "      <td>PT3M13S</td>\n",
              "      <td>B</td>\n",
              "    </tr>\n",
              "    <tr>\n",
              "      <th>14997</th>\n",
              "      <td>VID_19843</td>\n",
              "      <td>1</td>\n",
              "      <td>963</td>\n",
              "      <td>0</td>\n",
              "      <td>0</td>\n",
              "      <td>0</td>\n",
              "      <td>2010-10-02</td>\n",
              "      <td>PT26S</td>\n",
              "      <td>G</td>\n",
              "    </tr>\n",
              "    <tr>\n",
              "      <th>14998</th>\n",
              "      <td>VID_8534</td>\n",
              "      <td>1</td>\n",
              "      <td>15212</td>\n",
              "      <td>22</td>\n",
              "      <td>5</td>\n",
              "      <td>4</td>\n",
              "      <td>2016-02-19</td>\n",
              "      <td>PT1M1S</td>\n",
              "      <td>D</td>\n",
              "    </tr>\n",
              "  </tbody>\n",
              "</table>\n",
              "</div>"
            ],
            "text/plain": [
              "           vidid  adview   views likes  ... comment   published duration category\n",
              "14994     VID_31       2  525949  1137  ...      86  2015-05-18  PT6M10S        A\n",
              "14995   VID_5861       1  665673  3849  ...     569  2015-10-20  PT3M56S        D\n",
              "14996    VID_805       4    3479    16  ...       1  2013-08-23  PT3M13S        B\n",
              "14997  VID_19843       1     963     0  ...       0  2010-10-02    PT26S        G\n",
              "14998   VID_8534       1   15212    22  ...       4  2016-02-19   PT1M1S        D\n",
              "\n",
              "[5 rows x 9 columns]"
            ]
          },
          "metadata": {
            "tags": []
          },
          "execution_count": 104
        }
      ]
    },
    {
      "cell_type": "code",
      "metadata": {
        "colab": {
          "base_uri": "https://localhost:8080/"
        },
        "id": "UVVklc9ZAXtq",
        "outputId": "38c2fc2f-d657-4601-e334-2430ff342fed"
      },
      "source": [
        "#describing the dataset\n",
        "data_train.describe"
      ],
      "execution_count": 105,
      "outputs": [
        {
          "output_type": "execute_result",
          "data": {
            "text/plain": [
              "<bound method NDFrame.describe of            vidid  adview    views likes  ... comment   published duration category\n",
              "0      VID_18655      40  1031602  8523  ...    1095  2016-09-14  PT7M37S        F\n",
              "1      VID_14135       2     1707    56  ...       6  2016-10-01  PT9M30S        D\n",
              "2       VID_2187       1     2023    25  ...       2  2016-07-02  PT2M16S        C\n",
              "3      VID_23096       6   620860   777  ...     153  2016-07-27  PT4M22S        H\n",
              "4      VID_10175       1      666     1  ...       0  2016-06-29    PT31S        D\n",
              "...          ...     ...      ...   ...  ...     ...         ...      ...      ...\n",
              "14994     VID_31       2   525949  1137  ...      86  2015-05-18  PT6M10S        A\n",
              "14995   VID_5861       1   665673  3849  ...     569  2015-10-20  PT3M56S        D\n",
              "14996    VID_805       4     3479    16  ...       1  2013-08-23  PT3M13S        B\n",
              "14997  VID_19843       1      963     0  ...       0  2010-10-02    PT26S        G\n",
              "14998   VID_8534       1    15212    22  ...       4  2016-02-19   PT1M1S        D\n",
              "\n",
              "[14999 rows x 9 columns]>"
            ]
          },
          "metadata": {
            "tags": []
          },
          "execution_count": 105
        }
      ]
    },
    {
      "cell_type": "code",
      "metadata": {
        "colab": {
          "base_uri": "https://localhost:8080/"
        },
        "id": "vovWEyrpAXtr",
        "outputId": "e6c34f39-4b7f-4ee3-8baa-170123a5968a"
      },
      "source": [
        "#checking the datatype of the dataset\n",
        "type(data_train)"
      ],
      "execution_count": 106,
      "outputs": [
        {
          "output_type": "execute_result",
          "data": {
            "text/plain": [
              "pandas.core.frame.DataFrame"
            ]
          },
          "metadata": {
            "tags": []
          },
          "execution_count": 106
        }
      ]
    },
    {
      "cell_type": "markdown",
      "metadata": {
        "id": "v-RvMhBZAXtr"
      },
      "source": [
        "# 2.Visualizing the dataset using plotting, using heatmaps abd plots"
      ]
    },
    {
      "cell_type": "code",
      "metadata": {
        "colab": {
          "base_uri": "https://localhost:8080/",
          "height": 276
        },
        "id": "0Rsv5XEvAXtr",
        "outputId": "9088e38c-f703-425c-d4ca-89e22c1eaea0"
      },
      "source": [
        "#visualization of the dataset\n",
        "\n",
        "#2D plotting\n",
        "  #Individual plots\n",
        "\n",
        "#line graph \n",
        "plt.plot(data_train[\"adview\"])\n",
        "plt.show()"
      ],
      "execution_count": 107,
      "outputs": [
        {
          "output_type": "display_data",
          "data": {
            "image/png": "[encoded data removed]",
            "text/plain": [
              "<Figure size 432x288 with 1 Axes>"
            ]
          },
          "metadata": {
            "tags": [],
            "needs_background": "light"
          }
        }
      ]
    },
    {
      "cell_type": "code",
      "metadata": {
        "colab": {
          "base_uri": "https://localhost:8080/",
          "height": 265
        },
        "id": "CSLOBIdRAXts",
        "outputId": "fe64a877-5e59-4baa-f5b3-ebad5be821ff"
      },
      "source": [
        "plt.plot(data_train[\"views\"])\n",
        "plt.show()"
      ],
      "execution_count": 108,
      "outputs": [
        {
          "output_type": "display_data",
          "data": {
            "image/png": "[encoded data removed]",
            "text/plain": [
              "<Figure size 432x288 with 1 Axes>"
            ]
          },
          "metadata": {
            "tags": [],
            "needs_background": "light"
          }
        }
      ]
    },
    {
      "cell_type": "code",
      "metadata": {
        "colab": {
          "base_uri": "https://localhost:8080/",
          "height": 265
        },
        "id": "76iH8iKwAXtt",
        "outputId": "2ef72c01-529e-402a-ddc2-777dd8848f4e"
      },
      "source": [
        "plt.plot(data_train[\"likes\"])\n",
        "plt.show()"
      ],
      "execution_count": 109,
      "outputs": [
        {
          "output_type": "display_data",
          "data": {
            "image/png": "[encoded data removed]",
            "text/plain": [
              "<Figure size 432x288 with 1 Axes>"
            ]
          },
          "metadata": {
            "tags": [],
            "needs_background": "light"
          }
        }
      ]
    },
    {
      "cell_type": "code",
      "metadata": {
        "colab": {
          "base_uri": "https://localhost:8080/",
          "height": 265
        },
        "id": "h4FAyVfyAXtt",
        "outputId": "07de9a27-7462-419d-e958-349c6d0b024f"
      },
      "source": [
        "plt.plot(data_train[\"dislikes\"])\n",
        "plt.show()"
      ],
      "execution_count": 110,
      "outputs": [
        {
          "output_type": "display_data",
          "data": {
            "image/png": "[encoded data removed]",
            "text/plain": [
              "<Figure size 432x288 with 1 Axes>"
            ]
          },
          "metadata": {
            "tags": [],
            "needs_background": "light"
          }
        }
      ]
    },
    {
      "cell_type": "code",
      "metadata": {
        "colab": {
          "base_uri": "https://localhost:8080/",
          "height": 265
        },
        "id": "8zrPbtPdAXtu",
        "outputId": "4f69410b-ee20-43e1-b703-8eb4311d3e7a"
      },
      "source": [
        "plt.plot(data_train[\"comment\"])\n",
        "plt.show()"
      ],
      "execution_count": 111,
      "outputs": [
        {
          "output_type": "display_data",
          "data": {
            "image/png": "[encoded data removed]",
            "text/plain": [
              "<Figure size 432x288 with 1 Axes>"
            ]
          },
          "metadata": {
            "tags": [],
            "needs_background": "light"
          }
        }
      ]
    },
    {
      "cell_type": "code",
      "metadata": {
        "colab": {
          "base_uri": "https://localhost:8080/",
          "height": 265
        },
        "id": "TFo54M_zAXtu",
        "outputId": "cbe8c725-a431-4345-d766-a48c50815b63"
      },
      "source": [
        "plt.plot(data_train[\"category\"])\n",
        "plt.show()"
      ],
      "execution_count": 112,
      "outputs": [
        {
          "output_type": "display_data",
          "data": {
            "image/png": "[encoded data removed]",
            "text/plain": [
              "<Figure size 432x288 with 1 Axes>"
            ]
          },
          "metadata": {
            "tags": [],
            "needs_background": "light"
          }
        }
      ]
    },
    {
      "cell_type": "code",
      "metadata": {
        "colab": {
          "base_uri": "https://localhost:8080/",
          "height": 265
        },
        "id": "63ssqydNAXtu",
        "outputId": "c60e339d-a95a-41ef-ebb2-7ea005b773fd"
      },
      "source": [
        "plt.plot(data_train[\"duration\"])\n",
        "plt.show()"
      ],
      "execution_count": 113,
      "outputs": [
        {
          "output_type": "display_data",
          "data": {
            "image/png": "[encoded data removed]",
            "text/plain": [
              "<Figure size 432x288 with 1 Axes>"
            ]
          },
          "metadata": {
            "tags": [],
            "needs_background": "light"
          }
        }
      ]
    },
    {
      "cell_type": "code",
      "metadata": {
        "colab": {
          "base_uri": "https://localhost:8080/",
          "height": 265
        },
        "id": "ez3AO5F4AXtu",
        "outputId": "5800facd-b4e3-436c-b1db-a52511e10e35"
      },
      "source": [
        "#plotting histogram plot\n",
        "plt.hist(data_train[\"category\"])\n",
        "plt.show()"
      ],
      "execution_count": 114,
      "outputs": [
        {
          "output_type": "display_data",
          "data": {
            "image/png": "[encoded data removed]",
            "text/plain": [
              "<Figure size 432x288 with 1 Axes>"
            ]
          },
          "metadata": {
            "tags": [],
            "needs_background": "light"
          }
        }
      ]
    },
    {
      "cell_type": "code",
      "metadata": {
        "colab": {
          "base_uri": "https://localhost:8080/",
          "height": 276
        },
        "id": "wgvPtCozAXtu",
        "outputId": "01c19f7d-a0da-46d3-aa2a-80c8e5025793"
      },
      "source": [
        "#ploting the 2D graph before removal of the outlier\n",
        "plt.plot(data_train[\"adview\"])\n",
        "plt.show()"
      ],
      "execution_count": 115,
      "outputs": [
        {
          "output_type": "display_data",
          "data": {
            "image/png": "[encoded data removed]",
            "text/plain": [
              "<Figure size 432x288 with 1 Axes>"
            ]
          },
          "metadata": {
            "tags": [],
            "needs_background": "light"
          }
        }
      ]
    },
    {
      "cell_type": "code",
      "metadata": {
        "id": "D9pZIQdYAXtv"
      },
      "source": [
        "#Considering the adview column as per the objective of this model\n",
        "#removing the outliers: lets remove thevideos with adview grater than 2000000\n",
        "data_train = data_train[data_train[\"adview\"]<2000000]"
      ],
      "execution_count": 116,
      "outputs": []
    },
    {
      "cell_type": "code",
      "metadata": {
        "colab": {
          "base_uri": "https://localhost:8080/",
          "height": 276
        },
        "id": "WohmLub7AXtv",
        "outputId": "028630bc-cd5d-494f-c3e8-953d62c379b7"
      },
      "source": [
        "#ploting the 2D graph to check the removal of the outlier\n",
        "plt.plot(data_train[\"adview\"])\n",
        "plt.show()"
      ],
      "execution_count": 117,
      "outputs": [
        {
          "output_type": "display_data",
          "data": {
            "image/png": "[encoded data removed]",
            "text/plain": [
              "<Figure size 432x288 with 1 Axes>"
            ]
          },
          "metadata": {
            "tags": [],
            "needs_background": "light"
          }
        }
      ]
    },
    {
      "cell_type": "code",
      "metadata": {
        "colab": {
          "base_uri": "https://localhost:8080/",
          "height": 487
        },
        "id": "x27NFvEaAXtv",
        "outputId": "2c8962af-f7f8-477b-93d9-bb855dd1ee2f"
      },
      "source": [
        "#Ploting Heatmap\n",
        "f, ax = plt.subplots(figsize=(10,8))\n",
        "corr = data_train.corr()\n",
        "sns.heatmap(corr, mask=np.zeros_like(corr, dtype=np.bool), cmap=sns.diverging_palette(220, 10, as_cmap=True), square=True, ax=ax, annot=True)\n",
        "plt.show()"
      ],
      "execution_count": 118,
      "outputs": [
        {
          "output_type": "display_data",
          "data": {
            "image/png": "[encoded data removed]",
            "text/plain": [
              "<Figure size 720x576 with 2 Axes>"
            ]
          },
          "metadata": {
            "tags": [],
            "needs_background": "light"
          }
        }
      ]
    },
    {
      "cell_type": "markdown",
      "metadata": {
        "id": "nHoMVLVcAXtv"
      },
      "source": [
        "# 3.Cleaning the datasets by removing missing values and other things"
      ]
    },
    {
      "cell_type": "code",
      "metadata": {
        "colab": {
          "base_uri": "https://localhost:8080/",
          "height": 203
        },
        "id": "OYScOIe5AXtw",
        "outputId": "78d45550-a598-49b3-b7b5-c92152ea5bfb"
      },
      "source": [
        "#removing chharacter \"F\" present in data\n",
        "data_train = data_train[data_train.views != 'F']\n",
        "data_train = data_train[data_train.likes != 'F']\n",
        "data_train = data_train[data_train.dislikes != 'F']\n",
        "data_train = data_train[data_train.comment != 'F']\n",
        "\n",
        "data_train.head()"
      ],
      "execution_count": 119,
      "outputs": [
        {
          "output_type": "execute_result",
          "data": {
            "text/html": [
              "<div>\n",
              "<style scoped>\n",
              "    .dataframe tbody tr th:only-of-type {\n",
              "        vertical-align: middle;\n",
              "    }\n",
              "\n",
              "    .dataframe tbody tr th {\n",
              "        vertical-align: top;\n",
              "    }\n",
              "\n",
              "    .dataframe thead th {\n",
              "        text-align: right;\n",
              "    }\n",
              "</style>\n",
              "<table border=\"1\" class=\"dataframe\">\n",
              "  <thead>\n",
              "    <tr style=\"text-align: right;\">\n",
              "      <th></th>\n",
              "      <th>vidid</th>\n",
              "      <th>adview</th>\n",
              "      <th>views</th>\n",
              "      <th>likes</th>\n",
              "      <th>dislikes</th>\n",
              "      <th>comment</th>\n",
              "      <th>published</th>\n",
              "      <th>duration</th>\n",
              "      <th>category</th>\n",
              "    </tr>\n",
              "  </thead>\n",
              "  <tbody>\n",
              "    <tr>\n",
              "      <th>0</th>\n",
              "      <td>VID_18655</td>\n",
              "      <td>40</td>\n",
              "      <td>1031602</td>\n",
              "      <td>8523</td>\n",
              "      <td>363</td>\n",
              "      <td>1095</td>\n",
              "      <td>2016-09-14</td>\n",
              "      <td>PT7M37S</td>\n",
              "      <td>F</td>\n",
              "    </tr>\n",
              "    <tr>\n",
              "      <th>1</th>\n",
              "      <td>VID_14135</td>\n",
              "      <td>2</td>\n",
              "      <td>1707</td>\n",
              "      <td>56</td>\n",
              "      <td>2</td>\n",
              "      <td>6</td>\n",
              "      <td>2016-10-01</td>\n",
              "      <td>PT9M30S</td>\n",
              "      <td>D</td>\n",
              "    </tr>\n",
              "    <tr>\n",
              "      <th>2</th>\n",
              "      <td>VID_2187</td>\n",
              "      <td>1</td>\n",
              "      <td>2023</td>\n",
              "      <td>25</td>\n",
              "      <td>0</td>\n",
              "      <td>2</td>\n",
              "      <td>2016-07-02</td>\n",
              "      <td>PT2M16S</td>\n",
              "      <td>C</td>\n",
              "    </tr>\n",
              "    <tr>\n",
              "      <th>3</th>\n",
              "      <td>VID_23096</td>\n",
              "      <td>6</td>\n",
              "      <td>620860</td>\n",
              "      <td>777</td>\n",
              "      <td>161</td>\n",
              "      <td>153</td>\n",
              "      <td>2016-07-27</td>\n",
              "      <td>PT4M22S</td>\n",
              "      <td>H</td>\n",
              "    </tr>\n",
              "    <tr>\n",
              "      <th>4</th>\n",
              "      <td>VID_10175</td>\n",
              "      <td>1</td>\n",
              "      <td>666</td>\n",
              "      <td>1</td>\n",
              "      <td>0</td>\n",
              "      <td>0</td>\n",
              "      <td>2016-06-29</td>\n",
              "      <td>PT31S</td>\n",
              "      <td>D</td>\n",
              "    </tr>\n",
              "  </tbody>\n",
              "</table>\n",
              "</div>"
            ],
            "text/plain": [
              "       vidid  adview    views likes  ... comment   published duration category\n",
              "0  VID_18655      40  1031602  8523  ...    1095  2016-09-14  PT7M37S        F\n",
              "1  VID_14135       2     1707    56  ...       6  2016-10-01  PT9M30S        D\n",
              "2   VID_2187       1     2023    25  ...       2  2016-07-02  PT2M16S        C\n",
              "3  VID_23096       6   620860   777  ...     153  2016-07-27  PT4M22S        H\n",
              "4  VID_10175       1      666     1  ...       0  2016-06-29    PT31S        D\n",
              "\n",
              "[5 rows x 9 columns]"
            ]
          },
          "metadata": {
            "tags": []
          },
          "execution_count": 119
        }
      ]
    },
    {
      "cell_type": "code",
      "metadata": {
        "colab": {
          "base_uri": "https://localhost:8080/",
          "height": 665
        },
        "id": "tjSWfJ6TAXtw",
        "outputId": "44345ac0-0fec-459a-8e31-b6246f0d0e1e"
      },
      "source": [
        "data_train.tail(20)"
      ],
      "execution_count": 120,
      "outputs": [
        {
          "output_type": "execute_result",
          "data": {
            "text/html": [
              "<div>\n",
              "<style scoped>\n",
              "    .dataframe tbody tr th:only-of-type {\n",
              "        vertical-align: middle;\n",
              "    }\n",
              "\n",
              "    .dataframe tbody tr th {\n",
              "        vertical-align: top;\n",
              "    }\n",
              "\n",
              "    .dataframe thead th {\n",
              "        text-align: right;\n",
              "    }\n",
              "</style>\n",
              "<table border=\"1\" class=\"dataframe\">\n",
              "  <thead>\n",
              "    <tr style=\"text-align: right;\">\n",
              "      <th></th>\n",
              "      <th>vidid</th>\n",
              "      <th>adview</th>\n",
              "      <th>views</th>\n",
              "      <th>likes</th>\n",
              "      <th>dislikes</th>\n",
              "      <th>comment</th>\n",
              "      <th>published</th>\n",
              "      <th>duration</th>\n",
              "      <th>category</th>\n",
              "    </tr>\n",
              "  </thead>\n",
              "  <tbody>\n",
              "    <tr>\n",
              "      <th>14976</th>\n",
              "      <td>VID_2132</td>\n",
              "      <td>1</td>\n",
              "      <td>12934</td>\n",
              "      <td>30</td>\n",
              "      <td>2</td>\n",
              "      <td>0</td>\n",
              "      <td>2016-07-06</td>\n",
              "      <td>PT2M33S</td>\n",
              "      <td>C</td>\n",
              "    </tr>\n",
              "    <tr>\n",
              "      <th>14978</th>\n",
              "      <td>VID_4424</td>\n",
              "      <td>1</td>\n",
              "      <td>216284</td>\n",
              "      <td>486</td>\n",
              "      <td>29</td>\n",
              "      <td>17</td>\n",
              "      <td>2014-04-27</td>\n",
              "      <td>PT3M49S</td>\n",
              "      <td>D</td>\n",
              "    </tr>\n",
              "    <tr>\n",
              "      <th>14979</th>\n",
              "      <td>VID_1314</td>\n",
              "      <td>272</td>\n",
              "      <td>1520441</td>\n",
              "      <td>18677</td>\n",
              "      <td>367</td>\n",
              "      <td>3971</td>\n",
              "      <td>2016-05-15</td>\n",
              "      <td>PT8M28S</td>\n",
              "      <td>B</td>\n",
              "    </tr>\n",
              "    <tr>\n",
              "      <th>14980</th>\n",
              "      <td>VID_14670</td>\n",
              "      <td>231</td>\n",
              "      <td>1532</td>\n",
              "      <td>266</td>\n",
              "      <td>24</td>\n",
              "      <td>5</td>\n",
              "      <td>2016-02-26</td>\n",
              "      <td>PT5M9S</td>\n",
              "      <td>D</td>\n",
              "    </tr>\n",
              "    <tr>\n",
              "      <th>14981</th>\n",
              "      <td>VID_7541</td>\n",
              "      <td>1</td>\n",
              "      <td>168226</td>\n",
              "      <td>184</td>\n",
              "      <td>27</td>\n",
              "      <td>29</td>\n",
              "      <td>2014-03-31</td>\n",
              "      <td>PT2M13S</td>\n",
              "      <td>D</td>\n",
              "    </tr>\n",
              "    <tr>\n",
              "      <th>14982</th>\n",
              "      <td>VID_4956</td>\n",
              "      <td>1</td>\n",
              "      <td>45964</td>\n",
              "      <td>36</td>\n",
              "      <td>5</td>\n",
              "      <td>2</td>\n",
              "      <td>2014-12-03</td>\n",
              "      <td>PT2M42S</td>\n",
              "      <td>D</td>\n",
              "    </tr>\n",
              "    <tr>\n",
              "      <th>14983</th>\n",
              "      <td>VID_7956</td>\n",
              "      <td>12</td>\n",
              "      <td>180204</td>\n",
              "      <td>361</td>\n",
              "      <td>17</td>\n",
              "      <td>20</td>\n",
              "      <td>2013-07-08</td>\n",
              "      <td>PT1M14S</td>\n",
              "      <td>D</td>\n",
              "    </tr>\n",
              "    <tr>\n",
              "      <th>14984</th>\n",
              "      <td>VID_13145</td>\n",
              "      <td>1</td>\n",
              "      <td>1511</td>\n",
              "      <td>6</td>\n",
              "      <td>1</td>\n",
              "      <td>0</td>\n",
              "      <td>2014-01-20</td>\n",
              "      <td>PT1M27S</td>\n",
              "      <td>D</td>\n",
              "    </tr>\n",
              "    <tr>\n",
              "      <th>14985</th>\n",
              "      <td>VID_566</td>\n",
              "      <td>1</td>\n",
              "      <td>32631</td>\n",
              "      <td>76</td>\n",
              "      <td>4</td>\n",
              "      <td>14</td>\n",
              "      <td>2014-01-03</td>\n",
              "      <td>PT13M24S</td>\n",
              "      <td>B</td>\n",
              "    </tr>\n",
              "    <tr>\n",
              "      <th>14986</th>\n",
              "      <td>VID_17470</td>\n",
              "      <td>3207</td>\n",
              "      <td>22237</td>\n",
              "      <td>52</td>\n",
              "      <td>4</td>\n",
              "      <td>14</td>\n",
              "      <td>2016-09-21</td>\n",
              "      <td>PT5M18S</td>\n",
              "      <td>E</td>\n",
              "    </tr>\n",
              "    <tr>\n",
              "      <th>14987</th>\n",
              "      <td>VID_18084</td>\n",
              "      <td>1</td>\n",
              "      <td>303879</td>\n",
              "      <td>481</td>\n",
              "      <td>51</td>\n",
              "      <td>76</td>\n",
              "      <td>2014-06-12</td>\n",
              "      <td>PT2M17S</td>\n",
              "      <td>F</td>\n",
              "    </tr>\n",
              "    <tr>\n",
              "      <th>14988</th>\n",
              "      <td>VID_22836</td>\n",
              "      <td>2</td>\n",
              "      <td>214596</td>\n",
              "      <td>1431</td>\n",
              "      <td>44</td>\n",
              "      <td>67</td>\n",
              "      <td>2015-08-06</td>\n",
              "      <td>PT3M32S</td>\n",
              "      <td>G</td>\n",
              "    </tr>\n",
              "    <tr>\n",
              "      <th>14989</th>\n",
              "      <td>VID_20638</td>\n",
              "      <td>22</td>\n",
              "      <td>1204587</td>\n",
              "      <td>10284</td>\n",
              "      <td>379</td>\n",
              "      <td>2016</td>\n",
              "      <td>2013-04-10</td>\n",
              "      <td>PT10H19S</td>\n",
              "      <td>G</td>\n",
              "    </tr>\n",
              "    <tr>\n",
              "      <th>14992</th>\n",
              "      <td>VID_11653</td>\n",
              "      <td>1</td>\n",
              "      <td>78021</td>\n",
              "      <td>422</td>\n",
              "      <td>19</td>\n",
              "      <td>14</td>\n",
              "      <td>2016-08-12</td>\n",
              "      <td>PT2M57S</td>\n",
              "      <td>D</td>\n",
              "    </tr>\n",
              "    <tr>\n",
              "      <th>14993</th>\n",
              "      <td>VID_13909</td>\n",
              "      <td>11</td>\n",
              "      <td>96816</td>\n",
              "      <td>122</td>\n",
              "      <td>9</td>\n",
              "      <td>11</td>\n",
              "      <td>2014-01-30</td>\n",
              "      <td>PT2M6S</td>\n",
              "      <td>D</td>\n",
              "    </tr>\n",
              "    <tr>\n",
              "      <th>14994</th>\n",
              "      <td>VID_31</td>\n",
              "      <td>2</td>\n",
              "      <td>525949</td>\n",
              "      <td>1137</td>\n",
              "      <td>83</td>\n",
              "      <td>86</td>\n",
              "      <td>2015-05-18</td>\n",
              "      <td>PT6M10S</td>\n",
              "      <td>A</td>\n",
              "    </tr>\n",
              "    <tr>\n",
              "      <th>14995</th>\n",
              "      <td>VID_5861</td>\n",
              "      <td>1</td>\n",
              "      <td>665673</td>\n",
              "      <td>3849</td>\n",
              "      <td>156</td>\n",
              "      <td>569</td>\n",
              "      <td>2015-10-20</td>\n",
              "      <td>PT3M56S</td>\n",
              "      <td>D</td>\n",
              "    </tr>\n",
              "    <tr>\n",
              "      <th>14996</th>\n",
              "      <td>VID_805</td>\n",
              "      <td>4</td>\n",
              "      <td>3479</td>\n",
              "      <td>16</td>\n",
              "      <td>1</td>\n",
              "      <td>1</td>\n",
              "      <td>2013-08-23</td>\n",
              "      <td>PT3M13S</td>\n",
              "      <td>B</td>\n",
              "    </tr>\n",
              "    <tr>\n",
              "      <th>14997</th>\n",
              "      <td>VID_19843</td>\n",
              "      <td>1</td>\n",
              "      <td>963</td>\n",
              "      <td>0</td>\n",
              "      <td>0</td>\n",
              "      <td>0</td>\n",
              "      <td>2010-10-02</td>\n",
              "      <td>PT26S</td>\n",
              "      <td>G</td>\n",
              "    </tr>\n",
              "    <tr>\n",
              "      <th>14998</th>\n",
              "      <td>VID_8534</td>\n",
              "      <td>1</td>\n",
              "      <td>15212</td>\n",
              "      <td>22</td>\n",
              "      <td>5</td>\n",
              "      <td>4</td>\n",
              "      <td>2016-02-19</td>\n",
              "      <td>PT1M1S</td>\n",
              "      <td>D</td>\n",
              "    </tr>\n",
              "  </tbody>\n",
              "</table>\n",
              "</div>"
            ],
            "text/plain": [
              "           vidid  adview    views  likes  ... comment   published  duration category\n",
              "14976   VID_2132       1    12934     30  ...       0  2016-07-06   PT2M33S        C\n",
              "14978   VID_4424       1   216284    486  ...      17  2014-04-27   PT3M49S        D\n",
              "14979   VID_1314     272  1520441  18677  ...    3971  2016-05-15   PT8M28S        B\n",
              "14980  VID_14670     231     1532    266  ...       5  2016-02-26    PT5M9S        D\n",
              "14981   VID_7541       1   168226    184  ...      29  2014-03-31   PT2M13S        D\n",
              "14982   VID_4956       1    45964     36  ...       2  2014-12-03   PT2M42S        D\n",
              "14983   VID_7956      12   180204    361  ...      20  2013-07-08   PT1M14S        D\n",
              "14984  VID_13145       1     1511      6  ...       0  2014-01-20   PT1M27S        D\n",
              "14985    VID_566       1    32631     76  ...      14  2014-01-03  PT13M24S        B\n",
              "14986  VID_17470    3207    22237     52  ...      14  2016-09-21   PT5M18S        E\n",
              "14987  VID_18084       1   303879    481  ...      76  2014-06-12   PT2M17S        F\n",
              "14988  VID_22836       2   214596   1431  ...      67  2015-08-06   PT3M32S        G\n",
              "14989  VID_20638      22  1204587  10284  ...    2016  2013-04-10  PT10H19S        G\n",
              "14992  VID_11653       1    78021    422  ...      14  2016-08-12   PT2M57S        D\n",
              "14993  VID_13909      11    96816    122  ...      11  2014-01-30    PT2M6S        D\n",
              "14994     VID_31       2   525949   1137  ...      86  2015-05-18   PT6M10S        A\n",
              "14995   VID_5861       1   665673   3849  ...     569  2015-10-20   PT3M56S        D\n",
              "14996    VID_805       4     3479     16  ...       1  2013-08-23   PT3M13S        B\n",
              "14997  VID_19843       1      963      0  ...       0  2010-10-02     PT26S        G\n",
              "14998   VID_8534       1    15212     22  ...       4  2016-02-19    PT1M1S        D\n",
              "\n",
              "[20 rows x 9 columns]"
            ]
          },
          "metadata": {
            "tags": []
          },
          "execution_count": 120
        }
      ]
    },
    {
      "cell_type": "code",
      "metadata": {
        "colab": {
          "base_uri": "https://localhost:8080/",
          "height": 203
        },
        "id": "SNgSL5ZgAXtw",
        "outputId": "2b111f83-c8e6-45db-a482-2c19a6d2eff4"
      },
      "source": [
        "#Assigning each category a number for category feature\n",
        "category = {'A':1 , 'B':2 , 'C':3 , 'D':4 , 'E':5 , 'F':6 , 'G':7 , 'H':8}\n",
        "data_train[\"category\"] = data_train[\"category\"].map(category)\n",
        "\n",
        "#Dataset after cleaning and categorizing the features\n",
        "data_train.head()"
      ],
      "execution_count": 121,
      "outputs": [
        {
          "output_type": "execute_result",
          "data": {
            "text/html": [
              "<div>\n",
              "<style scoped>\n",
              "    .dataframe tbody tr th:only-of-type {\n",
              "        vertical-align: middle;\n",
              "    }\n",
              "\n",
              "    .dataframe tbody tr th {\n",
              "        vertical-align: top;\n",
              "    }\n",
              "\n",
              "    .dataframe thead th {\n",
              "        text-align: right;\n",
              "    }\n",
              "</style>\n",
              "<table border=\"1\" class=\"dataframe\">\n",
              "  <thead>\n",
              "    <tr style=\"text-align: right;\">\n",
              "      <th></th>\n",
              "      <th>vidid</th>\n",
              "      <th>adview</th>\n",
              "      <th>views</th>\n",
              "      <th>likes</th>\n",
              "      <th>dislikes</th>\n",
              "      <th>comment</th>\n",
              "      <th>published</th>\n",
              "      <th>duration</th>\n",
              "      <th>category</th>\n",
              "    </tr>\n",
              "  </thead>\n",
              "  <tbody>\n",
              "    <tr>\n",
              "      <th>0</th>\n",
              "      <td>VID_18655</td>\n",
              "      <td>40</td>\n",
              "      <td>1031602</td>\n",
              "      <td>8523</td>\n",
              "      <td>363</td>\n",
              "      <td>1095</td>\n",
              "      <td>2016-09-14</td>\n",
              "      <td>PT7M37S</td>\n",
              "      <td>6</td>\n",
              "    </tr>\n",
              "    <tr>\n",
              "      <th>1</th>\n",
              "      <td>VID_14135</td>\n",
              "      <td>2</td>\n",
              "      <td>1707</td>\n",
              "      <td>56</td>\n",
              "      <td>2</td>\n",
              "      <td>6</td>\n",
              "      <td>2016-10-01</td>\n",
              "      <td>PT9M30S</td>\n",
              "      <td>4</td>\n",
              "    </tr>\n",
              "    <tr>\n",
              "      <th>2</th>\n",
              "      <td>VID_2187</td>\n",
              "      <td>1</td>\n",
              "      <td>2023</td>\n",
              "      <td>25</td>\n",
              "      <td>0</td>\n",
              "      <td>2</td>\n",
              "      <td>2016-07-02</td>\n",
              "      <td>PT2M16S</td>\n",
              "      <td>3</td>\n",
              "    </tr>\n",
              "    <tr>\n",
              "      <th>3</th>\n",
              "      <td>VID_23096</td>\n",
              "      <td>6</td>\n",
              "      <td>620860</td>\n",
              "      <td>777</td>\n",
              "      <td>161</td>\n",
              "      <td>153</td>\n",
              "      <td>2016-07-27</td>\n",
              "      <td>PT4M22S</td>\n",
              "      <td>8</td>\n",
              "    </tr>\n",
              "    <tr>\n",
              "      <th>4</th>\n",
              "      <td>VID_10175</td>\n",
              "      <td>1</td>\n",
              "      <td>666</td>\n",
              "      <td>1</td>\n",
              "      <td>0</td>\n",
              "      <td>0</td>\n",
              "      <td>2016-06-29</td>\n",
              "      <td>PT31S</td>\n",
              "      <td>4</td>\n",
              "    </tr>\n",
              "  </tbody>\n",
              "</table>\n",
              "</div>"
            ],
            "text/plain": [
              "       vidid  adview    views likes  ... comment   published duration category\n",
              "0  VID_18655      40  1031602  8523  ...    1095  2016-09-14  PT7M37S        6\n",
              "1  VID_14135       2     1707    56  ...       6  2016-10-01  PT9M30S        4\n",
              "2   VID_2187       1     2023    25  ...       2  2016-07-02  PT2M16S        3\n",
              "3  VID_23096       6   620860   777  ...     153  2016-07-27  PT4M22S        8\n",
              "4  VID_10175       1      666     1  ...       0  2016-06-29    PT31S        4\n",
              "\n",
              "[5 rows x 9 columns]"
            ]
          },
          "metadata": {
            "tags": []
          },
          "execution_count": 121
        }
      ]
    },
    {
      "cell_type": "code",
      "metadata": {
        "colab": {
          "base_uri": "https://localhost:8080/",
          "height": 665
        },
        "id": "8DkpBGVGAXtw",
        "outputId": "d48660ee-fe29-4275-b8f0-38f1095d991b"
      },
      "source": [
        "data_train.tail(20)"
      ],
      "execution_count": 122,
      "outputs": [
        {
          "output_type": "execute_result",
          "data": {
            "text/html": [
              "<div>\n",
              "<style scoped>\n",
              "    .dataframe tbody tr th:only-of-type {\n",
              "        vertical-align: middle;\n",
              "    }\n",
              "\n",
              "    .dataframe tbody tr th {\n",
              "        vertical-align: top;\n",
              "    }\n",
              "\n",
              "    .dataframe thead th {\n",
              "        text-align: right;\n",
              "    }\n",
              "</style>\n",
              "<table border=\"1\" class=\"dataframe\">\n",
              "  <thead>\n",
              "    <tr style=\"text-align: right;\">\n",
              "      <th></th>\n",
              "      <th>vidid</th>\n",
              "      <th>adview</th>\n",
              "      <th>views</th>\n",
              "      <th>likes</th>\n",
              "      <th>dislikes</th>\n",
              "      <th>comment</th>\n",
              "      <th>published</th>\n",
              "      <th>duration</th>\n",
              "      <th>category</th>\n",
              "    </tr>\n",
              "  </thead>\n",
              "  <tbody>\n",
              "    <tr>\n",
              "      <th>14976</th>\n",
              "      <td>VID_2132</td>\n",
              "      <td>1</td>\n",
              "      <td>12934</td>\n",
              "      <td>30</td>\n",
              "      <td>2</td>\n",
              "      <td>0</td>\n",
              "      <td>2016-07-06</td>\n",
              "      <td>PT2M33S</td>\n",
              "      <td>3</td>\n",
              "    </tr>\n",
              "    <tr>\n",
              "      <th>14978</th>\n",
              "      <td>VID_4424</td>\n",
              "      <td>1</td>\n",
              "      <td>216284</td>\n",
              "      <td>486</td>\n",
              "      <td>29</td>\n",
              "      <td>17</td>\n",
              "      <td>2014-04-27</td>\n",
              "      <td>PT3M49S</td>\n",
              "      <td>4</td>\n",
              "    </tr>\n",
              "    <tr>\n",
              "      <th>14979</th>\n",
              "      <td>VID_1314</td>\n",
              "      <td>272</td>\n",
              "      <td>1520441</td>\n",
              "      <td>18677</td>\n",
              "      <td>367</td>\n",
              "      <td>3971</td>\n",
              "      <td>2016-05-15</td>\n",
              "      <td>PT8M28S</td>\n",
              "      <td>2</td>\n",
              "    </tr>\n",
              "    <tr>\n",
              "      <th>14980</th>\n",
              "      <td>VID_14670</td>\n",
              "      <td>231</td>\n",
              "      <td>1532</td>\n",
              "      <td>266</td>\n",
              "      <td>24</td>\n",
              "      <td>5</td>\n",
              "      <td>2016-02-26</td>\n",
              "      <td>PT5M9S</td>\n",
              "      <td>4</td>\n",
              "    </tr>\n",
              "    <tr>\n",
              "      <th>14981</th>\n",
              "      <td>VID_7541</td>\n",
              "      <td>1</td>\n",
              "      <td>168226</td>\n",
              "      <td>184</td>\n",
              "      <td>27</td>\n",
              "      <td>29</td>\n",
              "      <td>2014-03-31</td>\n",
              "      <td>PT2M13S</td>\n",
              "      <td>4</td>\n",
              "    </tr>\n",
              "    <tr>\n",
              "      <th>14982</th>\n",
              "      <td>VID_4956</td>\n",
              "      <td>1</td>\n",
              "      <td>45964</td>\n",
              "      <td>36</td>\n",
              "      <td>5</td>\n",
              "      <td>2</td>\n",
              "      <td>2014-12-03</td>\n",
              "      <td>PT2M42S</td>\n",
              "      <td>4</td>\n",
              "    </tr>\n",
              "    <tr>\n",
              "      <th>14983</th>\n",
              "      <td>VID_7956</td>\n",
              "      <td>12</td>\n",
              "      <td>180204</td>\n",
              "      <td>361</td>\n",
              "      <td>17</td>\n",
              "      <td>20</td>\n",
              "      <td>2013-07-08</td>\n",
              "      <td>PT1M14S</td>\n",
              "      <td>4</td>\n",
              "    </tr>\n",
              "    <tr>\n",
              "      <th>14984</th>\n",
              "      <td>VID_13145</td>\n",
              "      <td>1</td>\n",
              "      <td>1511</td>\n",
              "      <td>6</td>\n",
              "      <td>1</td>\n",
              "      <td>0</td>\n",
              "      <td>2014-01-20</td>\n",
              "      <td>PT1M27S</td>\n",
              "      <td>4</td>\n",
              "    </tr>\n",
              "    <tr>\n",
              "      <th>14985</th>\n",
              "      <td>VID_566</td>\n",
              "      <td>1</td>\n",
              "      <td>32631</td>\n",
              "      <td>76</td>\n",
              "      <td>4</td>\n",
              "      <td>14</td>\n",
              "      <td>2014-01-03</td>\n",
              "      <td>PT13M24S</td>\n",
              "      <td>2</td>\n",
              "    </tr>\n",
              "    <tr>\n",
              "      <th>14986</th>\n",
              "      <td>VID_17470</td>\n",
              "      <td>3207</td>\n",
              "      <td>22237</td>\n",
              "      <td>52</td>\n",
              "      <td>4</td>\n",
              "      <td>14</td>\n",
              "      <td>2016-09-21</td>\n",
              "      <td>PT5M18S</td>\n",
              "      <td>5</td>\n",
              "    </tr>\n",
              "    <tr>\n",
              "      <th>14987</th>\n",
              "      <td>VID_18084</td>\n",
              "      <td>1</td>\n",
              "      <td>303879</td>\n",
              "      <td>481</td>\n",
              "      <td>51</td>\n",
              "      <td>76</td>\n",
              "      <td>2014-06-12</td>\n",
              "      <td>PT2M17S</td>\n",
              "      <td>6</td>\n",
              "    </tr>\n",
              "    <tr>\n",
              "      <th>14988</th>\n",
              "      <td>VID_22836</td>\n",
              "      <td>2</td>\n",
              "      <td>214596</td>\n",
              "      <td>1431</td>\n",
              "      <td>44</td>\n",
              "      <td>67</td>\n",
              "      <td>2015-08-06</td>\n",
              "      <td>PT3M32S</td>\n",
              "      <td>7</td>\n",
              "    </tr>\n",
              "    <tr>\n",
              "      <th>14989</th>\n",
              "      <td>VID_20638</td>\n",
              "      <td>22</td>\n",
              "      <td>1204587</td>\n",
              "      <td>10284</td>\n",
              "      <td>379</td>\n",
              "      <td>2016</td>\n",
              "      <td>2013-04-10</td>\n",
              "      <td>PT10H19S</td>\n",
              "      <td>7</td>\n",
              "    </tr>\n",
              "    <tr>\n",
              "      <th>14992</th>\n",
              "      <td>VID_11653</td>\n",
              "      <td>1</td>\n",
              "      <td>78021</td>\n",
              "      <td>422</td>\n",
              "      <td>19</td>\n",
              "      <td>14</td>\n",
              "      <td>2016-08-12</td>\n",
              "      <td>PT2M57S</td>\n",
              "      <td>4</td>\n",
              "    </tr>\n",
              "    <tr>\n",
              "      <th>14993</th>\n",
              "      <td>VID_13909</td>\n",
              "      <td>11</td>\n",
              "      <td>96816</td>\n",
              "      <td>122</td>\n",
              "      <td>9</td>\n",
              "      <td>11</td>\n",
              "      <td>2014-01-30</td>\n",
              "      <td>PT2M6S</td>\n",
              "      <td>4</td>\n",
              "    </tr>\n",
              "    <tr>\n",
              "      <th>14994</th>\n",
              "      <td>VID_31</td>\n",
              "      <td>2</td>\n",
              "      <td>525949</td>\n",
              "      <td>1137</td>\n",
              "      <td>83</td>\n",
              "      <td>86</td>\n",
              "      <td>2015-05-18</td>\n",
              "      <td>PT6M10S</td>\n",
              "      <td>1</td>\n",
              "    </tr>\n",
              "    <tr>\n",
              "      <th>14995</th>\n",
              "      <td>VID_5861</td>\n",
              "      <td>1</td>\n",
              "      <td>665673</td>\n",
              "      <td>3849</td>\n",
              "      <td>156</td>\n",
              "      <td>569</td>\n",
              "      <td>2015-10-20</td>\n",
              "      <td>PT3M56S</td>\n",
              "      <td>4</td>\n",
              "    </tr>\n",
              "    <tr>\n",
              "      <th>14996</th>\n",
              "      <td>VID_805</td>\n",
              "      <td>4</td>\n",
              "      <td>3479</td>\n",
              "      <td>16</td>\n",
              "      <td>1</td>\n",
              "      <td>1</td>\n",
              "      <td>2013-08-23</td>\n",
              "      <td>PT3M13S</td>\n",
              "      <td>2</td>\n",
              "    </tr>\n",
              "    <tr>\n",
              "      <th>14997</th>\n",
              "      <td>VID_19843</td>\n",
              "      <td>1</td>\n",
              "      <td>963</td>\n",
              "      <td>0</td>\n",
              "      <td>0</td>\n",
              "      <td>0</td>\n",
              "      <td>2010-10-02</td>\n",
              "      <td>PT26S</td>\n",
              "      <td>7</td>\n",
              "    </tr>\n",
              "    <tr>\n",
              "      <th>14998</th>\n",
              "      <td>VID_8534</td>\n",
              "      <td>1</td>\n",
              "      <td>15212</td>\n",
              "      <td>22</td>\n",
              "      <td>5</td>\n",
              "      <td>4</td>\n",
              "      <td>2016-02-19</td>\n",
              "      <td>PT1M1S</td>\n",
              "      <td>4</td>\n",
              "    </tr>\n",
              "  </tbody>\n",
              "</table>\n",
              "</div>"
            ],
            "text/plain": [
              "           vidid  adview    views  ...   published  duration category\n",
              "14976   VID_2132       1    12934  ...  2016-07-06   PT2M33S        3\n",
              "14978   VID_4424       1   216284  ...  2014-04-27   PT3M49S        4\n",
              "14979   VID_1314     272  1520441  ...  2016-05-15   PT8M28S        2\n",
              "14980  VID_14670     231     1532  ...  2016-02-26    PT5M9S        4\n",
              "14981   VID_7541       1   168226  ...  2014-03-31   PT2M13S        4\n",
              "14982   VID_4956       1    45964  ...  2014-12-03   PT2M42S        4\n",
              "14983   VID_7956      12   180204  ...  2013-07-08   PT1M14S        4\n",
              "14984  VID_13145       1     1511  ...  2014-01-20   PT1M27S        4\n",
              "14985    VID_566       1    32631  ...  2014-01-03  PT13M24S        2\n",
              "14986  VID_17470    3207    22237  ...  2016-09-21   PT5M18S        5\n",
              "14987  VID_18084       1   303879  ...  2014-06-12   PT2M17S        6\n",
              "14988  VID_22836       2   214596  ...  2015-08-06   PT3M32S        7\n",
              "14989  VID_20638      22  1204587  ...  2013-04-10  PT10H19S        7\n",
              "14992  VID_11653       1    78021  ...  2016-08-12   PT2M57S        4\n",
              "14993  VID_13909      11    96816  ...  2014-01-30    PT2M6S        4\n",
              "14994     VID_31       2   525949  ...  2015-05-18   PT6M10S        1\n",
              "14995   VID_5861       1   665673  ...  2015-10-20   PT3M56S        4\n",
              "14996    VID_805       4     3479  ...  2013-08-23   PT3M13S        2\n",
              "14997  VID_19843       1      963  ...  2010-10-02     PT26S        7\n",
              "14998   VID_8534       1    15212  ...  2016-02-19    PT1M1S        4\n",
              "\n",
              "[20 rows x 9 columns]"
            ]
          },
          "metadata": {
            "tags": []
          },
          "execution_count": 122
        }
      ]
    },
    {
      "cell_type": "markdown",
      "metadata": {
        "id": "lM0D98FPAXtw"
      },
      "source": [
        "# 4.Transforming the attributes into numerical values and other necessary transformations"
      ]
    },
    {
      "cell_type": "code",
      "metadata": {
        "id": "Hp0ncO6SAXtx"
      },
      "source": [
        "#Converting all floating point numbers to integers for views, likes, comments, dislikes, and adviews\n",
        "\n",
        "data_train[\"views\"] = pd.to_numeric(data_train[\"views\"])\n",
        "data_train[\"comment\"] = pd.to_numeric(data_train[\"comment\"])\n",
        "data_train[\"likes\"] = pd.to_numeric(data_train[\"likes\"])\n",
        "data_train[\"dislikes\"] = pd.to_numeric(data_train[\"dislikes\"])\n",
        "data_train[\"adview\"] = pd.to_numeric(data_train[\"adview\"])\n",
        "\n",
        "column_vidid = data_train[\"vidid\"]"
      ],
      "execution_count": 123,
      "outputs": []
    },
    {
      "cell_type": "code",
      "metadata": {
        "colab": {
          "base_uri": "https://localhost:8080/",
          "height": 203
        },
        "id": "8p0mgCQ2AXtx",
        "outputId": "8f328248-f2a8-4728-c657-54e13fbbc9a7"
      },
      "source": [
        "#Encoding features like category, duration and vidid\n",
        "\n",
        "from sklearn.preprocessing import LabelEncoder\n",
        "data_train['duration'] = LabelEncoder().fit_transform(data_train['duration'])\n",
        "data_train['vidid'] = LabelEncoder().fit_transform(data_train['vidid'])\n",
        "data_train['published'] = LabelEncoder().fit_transform(data_train['published'])\n",
        "\n",
        "data_train.head()"
      ],
      "execution_count": 124,
      "outputs": [
        {
          "output_type": "execute_result",
          "data": {
            "text/html": [
              "<div>\n",
              "<style scoped>\n",
              "    .dataframe tbody tr th:only-of-type {\n",
              "        vertical-align: middle;\n",
              "    }\n",
              "\n",
              "    .dataframe tbody tr th {\n",
              "        vertical-align: top;\n",
              "    }\n",
              "\n",
              "    .dataframe thead th {\n",
              "        text-align: right;\n",
              "    }\n",
              "</style>\n",
              "<table border=\"1\" class=\"dataframe\">\n",
              "  <thead>\n",
              "    <tr style=\"text-align: right;\">\n",
              "      <th></th>\n",
              "      <th>vidid</th>\n",
              "      <th>adview</th>\n",
              "      <th>views</th>\n",
              "      <th>likes</th>\n",
              "      <th>dislikes</th>\n",
              "      <th>comment</th>\n",
              "      <th>published</th>\n",
              "      <th>duration</th>\n",
              "      <th>category</th>\n",
              "    </tr>\n",
              "  </thead>\n",
              "  <tbody>\n",
              "    <tr>\n",
              "      <th>0</th>\n",
              "      <td>5912</td>\n",
              "      <td>40</td>\n",
              "      <td>1031602</td>\n",
              "      <td>8523</td>\n",
              "      <td>363</td>\n",
              "      <td>1095</td>\n",
              "      <td>2168</td>\n",
              "      <td>2925</td>\n",
              "      <td>6</td>\n",
              "    </tr>\n",
              "    <tr>\n",
              "      <th>1</th>\n",
              "      <td>2741</td>\n",
              "      <td>2</td>\n",
              "      <td>1707</td>\n",
              "      <td>56</td>\n",
              "      <td>2</td>\n",
              "      <td>6</td>\n",
              "      <td>2185</td>\n",
              "      <td>3040</td>\n",
              "      <td>4</td>\n",
              "    </tr>\n",
              "    <tr>\n",
              "      <th>2</th>\n",
              "      <td>8138</td>\n",
              "      <td>1</td>\n",
              "      <td>2023</td>\n",
              "      <td>25</td>\n",
              "      <td>0</td>\n",
              "      <td>2</td>\n",
              "      <td>2094</td>\n",
              "      <td>1863</td>\n",
              "      <td>3</td>\n",
              "    </tr>\n",
              "    <tr>\n",
              "      <th>3</th>\n",
              "      <td>9004</td>\n",
              "      <td>6</td>\n",
              "      <td>620860</td>\n",
              "      <td>777</td>\n",
              "      <td>161</td>\n",
              "      <td>153</td>\n",
              "      <td>2119</td>\n",
              "      <td>2546</td>\n",
              "      <td>8</td>\n",
              "    </tr>\n",
              "    <tr>\n",
              "      <th>4</th>\n",
              "      <td>122</td>\n",
              "      <td>1</td>\n",
              "      <td>666</td>\n",
              "      <td>1</td>\n",
              "      <td>0</td>\n",
              "      <td>0</td>\n",
              "      <td>2091</td>\n",
              "      <td>1963</td>\n",
              "      <td>4</td>\n",
              "    </tr>\n",
              "  </tbody>\n",
              "</table>\n",
              "</div>"
            ],
            "text/plain": [
              "   vidid  adview    views  likes  ...  comment  published  duration  category\n",
              "0   5912      40  1031602   8523  ...     1095       2168      2925         6\n",
              "1   2741       2     1707     56  ...        6       2185      3040         4\n",
              "2   8138       1     2023     25  ...        2       2094      1863         3\n",
              "3   9004       6   620860    777  ...      153       2119      2546         8\n",
              "4    122       1      666      1  ...        0       2091      1963         4\n",
              "\n",
              "[5 rows x 9 columns]"
            ]
          },
          "metadata": {
            "tags": []
          },
          "execution_count": 124
        }
      ]
    },
    {
      "cell_type": "code",
      "metadata": {
        "colab": {
          "base_uri": "https://localhost:8080/",
          "height": 357
        },
        "id": "y61BA7NPAXtx",
        "outputId": "1cc6379e-583b-488b-f9cf-84db2714e42a"
      },
      "source": [
        "data_train.tail(10)"
      ],
      "execution_count": 125,
      "outputs": [
        {
          "output_type": "execute_result",
          "data": {
            "text/html": [
              "<div>\n",
              "<style scoped>\n",
              "    .dataframe tbody tr th:only-of-type {\n",
              "        vertical-align: middle;\n",
              "    }\n",
              "\n",
              "    .dataframe tbody tr th {\n",
              "        vertical-align: top;\n",
              "    }\n",
              "\n",
              "    .dataframe thead th {\n",
              "        text-align: right;\n",
              "    }\n",
              "</style>\n",
              "<table border=\"1\" class=\"dataframe\">\n",
              "  <thead>\n",
              "    <tr style=\"text-align: right;\">\n",
              "      <th></th>\n",
              "      <th>vidid</th>\n",
              "      <th>adview</th>\n",
              "      <th>views</th>\n",
              "      <th>likes</th>\n",
              "      <th>dislikes</th>\n",
              "      <th>comment</th>\n",
              "      <th>published</th>\n",
              "      <th>duration</th>\n",
              "      <th>category</th>\n",
              "    </tr>\n",
              "  </thead>\n",
              "  <tbody>\n",
              "    <tr>\n",
              "      <th>14987</th>\n",
              "      <td>5510</td>\n",
              "      <td>1</td>\n",
              "      <td>303879</td>\n",
              "      <td>481</td>\n",
              "      <td>51</td>\n",
              "      <td>76</td>\n",
              "      <td>1345</td>\n",
              "      <td>1864</td>\n",
              "      <td>6</td>\n",
              "    </tr>\n",
              "    <tr>\n",
              "      <th>14988</th>\n",
              "      <td>8829</td>\n",
              "      <td>2</td>\n",
              "      <td>214596</td>\n",
              "      <td>1431</td>\n",
              "      <td>44</td>\n",
              "      <td>67</td>\n",
              "      <td>1763</td>\n",
              "      <td>2231</td>\n",
              "      <td>7</td>\n",
              "    </tr>\n",
              "    <tr>\n",
              "      <th>14989</th>\n",
              "      <td>7286</td>\n",
              "      <td>22</td>\n",
              "      <td>1204587</td>\n",
              "      <td>10284</td>\n",
              "      <td>379</td>\n",
              "      <td>2016</td>\n",
              "      <td>921</td>\n",
              "      <td>2</td>\n",
              "      <td>7</td>\n",
              "    </tr>\n",
              "    <tr>\n",
              "      <th>14992</th>\n",
              "      <td>1105</td>\n",
              "      <td>1</td>\n",
              "      <td>78021</td>\n",
              "      <td>422</td>\n",
              "      <td>19</td>\n",
              "      <td>14</td>\n",
              "      <td>2135</td>\n",
              "      <td>1908</td>\n",
              "      <td>4</td>\n",
              "    </tr>\n",
              "    <tr>\n",
              "      <th>14993</th>\n",
              "      <td>2591</td>\n",
              "      <td>11</td>\n",
              "      <td>96816</td>\n",
              "      <td>122</td>\n",
              "      <td>9</td>\n",
              "      <td>11</td>\n",
              "      <td>1212</td>\n",
              "      <td>1912</td>\n",
              "      <td>4</td>\n",
              "    </tr>\n",
              "    <tr>\n",
              "      <th>14994</th>\n",
              "      <td>9868</td>\n",
              "      <td>2</td>\n",
              "      <td>525949</td>\n",
              "      <td>1137</td>\n",
              "      <td>83</td>\n",
              "      <td>86</td>\n",
              "      <td>1683</td>\n",
              "      <td>2833</td>\n",
              "      <td>1</td>\n",
              "    </tr>\n",
              "    <tr>\n",
              "      <th>14995</th>\n",
              "      <td>11757</td>\n",
              "      <td>1</td>\n",
              "      <td>665673</td>\n",
              "      <td>3849</td>\n",
              "      <td>156</td>\n",
              "      <td>569</td>\n",
              "      <td>1838</td>\n",
              "      <td>2257</td>\n",
              "      <td>4</td>\n",
              "    </tr>\n",
              "    <tr>\n",
              "      <th>14996</th>\n",
              "      <td>13262</td>\n",
              "      <td>4</td>\n",
              "      <td>3479</td>\n",
              "      <td>16</td>\n",
              "      <td>1</td>\n",
              "      <td>1</td>\n",
              "      <td>1053</td>\n",
              "      <td>2210</td>\n",
              "      <td>2</td>\n",
              "    </tr>\n",
              "    <tr>\n",
              "      <th>14997</th>\n",
              "      <td>6736</td>\n",
              "      <td>1</td>\n",
              "      <td>963</td>\n",
              "      <td>0</td>\n",
              "      <td>0</td>\n",
              "      <td>0</td>\n",
              "      <td>222</td>\n",
              "      <td>1364</td>\n",
              "      <td>7</td>\n",
              "    </tr>\n",
              "    <tr>\n",
              "      <th>14998</th>\n",
              "      <td>13591</td>\n",
              "      <td>1</td>\n",
              "      <td>15212</td>\n",
              "      <td>22</td>\n",
              "      <td>5</td>\n",
              "      <td>4</td>\n",
              "      <td>1960</td>\n",
              "      <td>1050</td>\n",
              "      <td>4</td>\n",
              "    </tr>\n",
              "  </tbody>\n",
              "</table>\n",
              "</div>"
            ],
            "text/plain": [
              "       vidid  adview    views  likes  ...  comment  published  duration  category\n",
              "14987   5510       1   303879    481  ...       76       1345      1864         6\n",
              "14988   8829       2   214596   1431  ...       67       1763      2231         7\n",
              "14989   7286      22  1204587  10284  ...     2016        921         2         7\n",
              "14992   1105       1    78021    422  ...       14       2135      1908         4\n",
              "14993   2591      11    96816    122  ...       11       1212      1912         4\n",
              "14994   9868       2   525949   1137  ...       86       1683      2833         1\n",
              "14995  11757       1   665673   3849  ...      569       1838      2257         4\n",
              "14996  13262       4     3479     16  ...        1       1053      2210         2\n",
              "14997   6736       1      963      0  ...        0        222      1364         7\n",
              "14998  13591       1    15212     22  ...        4       1960      1050         4\n",
              "\n",
              "[10 rows x 9 columns]"
            ]
          },
          "metadata": {
            "tags": []
          },
          "execution_count": 125
        }
      ]
    },
    {
      "cell_type": "code",
      "metadata": {
        "colab": {
          "base_uri": "https://localhost:8080/",
          "height": 203
        },
        "id": "MLjS9vO8AXtx",
        "outputId": "9ae4369a-506e-43e5-fc8d-4c1698e5ac0b"
      },
      "source": [
        "#Converting Time_in_sec for duration\n",
        "import datetime\n",
        "import time\n",
        "\n",
        "#defining a functionc\"checki\" to check the duration of the adds\n",
        "def checki(x):\n",
        "  y = x[2:]\n",
        "  h = ''\n",
        "  m = ''\n",
        "  s = ''\n",
        "  mm = ''\n",
        "  p = ['H' , 'M' , 'S']\n",
        "  \n",
        "  for i in y:\n",
        "    if i not in p:\n",
        "      mm+=i\n",
        "    else:\n",
        "      if (i == \"H\"):\n",
        "        h = mm\n",
        "        mm = ''\n",
        "      elif (i == \"M\"):\n",
        "        m = mm\n",
        "        mm = ''\n",
        "      else:\n",
        "        s = mm\n",
        "        mm = ''\n",
        "  \n",
        "  if (h == ''):\n",
        "    h = '00'\n",
        "  if (m == ''):\n",
        "    m = '00'\n",
        "  if (s == ''):\n",
        "    s = '00'\n",
        "\n",
        "  bp = h+':'+m+':'+s\n",
        "  return bp\n",
        "\n",
        "#reloading the csv file to the project and assiging it to train\n",
        "train = pd.read_csv(\"train.csv\")\n",
        "mp = pd.read_csv(\"train.csv\")[\"duration\"]\n",
        "\n",
        "#applying the \"checki\" function to the csv file\n",
        "time = mp.apply(checki)\n",
        "\n",
        "#defining a function \"func_sec\" to transform the time into seconds\n",
        "def func_sec(time_string):\n",
        "  h, m, s =time_string.split(':')\n",
        "  return int(h) * 3600 + int(m) * 60 + int(s)\n",
        "\n",
        "#calling the function \"func_sec\" and applying to the above function variable _time_\n",
        "time1 = time.apply(func_sec)\n",
        "\n",
        "#applying the above all functions to the the dataset (\"data_train\")\n",
        "data_train[\"duration\"] = time1\n",
        "\n",
        "#displaying the newly modified dataset\n",
        "data_train.head()\n"
      ],
      "execution_count": 126,
      "outputs": [
        {
          "output_type": "execute_result",
          "data": {
            "text/html": [
              "<div>\n",
              "<style scoped>\n",
              "    .dataframe tbody tr th:only-of-type {\n",
              "        vertical-align: middle;\n",
              "    }\n",
              "\n",
              "    .dataframe tbody tr th {\n",
              "        vertical-align: top;\n",
              "    }\n",
              "\n",
              "    .dataframe thead th {\n",
              "        text-align: right;\n",
              "    }\n",
              "</style>\n",
              "<table border=\"1\" class=\"dataframe\">\n",
              "  <thead>\n",
              "    <tr style=\"text-align: right;\">\n",
              "      <th></th>\n",
              "      <th>vidid</th>\n",
              "      <th>adview</th>\n",
              "      <th>views</th>\n",
              "      <th>likes</th>\n",
              "      <th>dislikes</th>\n",
              "      <th>comment</th>\n",
              "      <th>published</th>\n",
              "      <th>duration</th>\n",
              "      <th>category</th>\n",
              "    </tr>\n",
              "  </thead>\n",
              "  <tbody>\n",
              "    <tr>\n",
              "      <th>0</th>\n",
              "      <td>5912</td>\n",
              "      <td>40</td>\n",
              "      <td>1031602</td>\n",
              "      <td>8523</td>\n",
              "      <td>363</td>\n",
              "      <td>1095</td>\n",
              "      <td>2168</td>\n",
              "      <td>457</td>\n",
              "      <td>6</td>\n",
              "    </tr>\n",
              "    <tr>\n",
              "      <th>1</th>\n",
              "      <td>2741</td>\n",
              "      <td>2</td>\n",
              "      <td>1707</td>\n",
              "      <td>56</td>\n",
              "      <td>2</td>\n",
              "      <td>6</td>\n",
              "      <td>2185</td>\n",
              "      <td>570</td>\n",
              "      <td>4</td>\n",
              "    </tr>\n",
              "    <tr>\n",
              "      <th>2</th>\n",
              "      <td>8138</td>\n",
              "      <td>1</td>\n",
              "      <td>2023</td>\n",
              "      <td>25</td>\n",
              "      <td>0</td>\n",
              "      <td>2</td>\n",
              "      <td>2094</td>\n",
              "      <td>136</td>\n",
              "      <td>3</td>\n",
              "    </tr>\n",
              "    <tr>\n",
              "      <th>3</th>\n",
              "      <td>9004</td>\n",
              "      <td>6</td>\n",
              "      <td>620860</td>\n",
              "      <td>777</td>\n",
              "      <td>161</td>\n",
              "      <td>153</td>\n",
              "      <td>2119</td>\n",
              "      <td>262</td>\n",
              "      <td>8</td>\n",
              "    </tr>\n",
              "    <tr>\n",
              "      <th>4</th>\n",
              "      <td>122</td>\n",
              "      <td>1</td>\n",
              "      <td>666</td>\n",
              "      <td>1</td>\n",
              "      <td>0</td>\n",
              "      <td>0</td>\n",
              "      <td>2091</td>\n",
              "      <td>31</td>\n",
              "      <td>4</td>\n",
              "    </tr>\n",
              "  </tbody>\n",
              "</table>\n",
              "</div>"
            ],
            "text/plain": [
              "   vidid  adview    views  likes  ...  comment  published  duration  category\n",
              "0   5912      40  1031602   8523  ...     1095       2168       457         6\n",
              "1   2741       2     1707     56  ...        6       2185       570         4\n",
              "2   8138       1     2023     25  ...        2       2094       136         3\n",
              "3   9004       6   620860    777  ...      153       2119       262         8\n",
              "4    122       1      666      1  ...        0       2091        31         4\n",
              "\n",
              "[5 rows x 9 columns]"
            ]
          },
          "metadata": {
            "tags": []
          },
          "execution_count": 126
        }
      ]
    },
    {
      "cell_type": "code",
      "metadata": {
        "colab": {
          "base_uri": "https://localhost:8080/",
          "height": 357
        },
        "id": "EBsk0UsnAXty",
        "outputId": "89602d5e-8208-4f7a-c631-4f628321f671"
      },
      "source": [
        "data_train.tail(10)"
      ],
      "execution_count": 127,
      "outputs": [
        {
          "output_type": "execute_result",
          "data": {
            "text/html": [
              "<div>\n",
              "<style scoped>\n",
              "    .dataframe tbody tr th:only-of-type {\n",
              "        vertical-align: middle;\n",
              "    }\n",
              "\n",
              "    .dataframe tbody tr th {\n",
              "        vertical-align: top;\n",
              "    }\n",
              "\n",
              "    .dataframe thead th {\n",
              "        text-align: right;\n",
              "    }\n",
              "</style>\n",
              "<table border=\"1\" class=\"dataframe\">\n",
              "  <thead>\n",
              "    <tr style=\"text-align: right;\">\n",
              "      <th></th>\n",
              "      <th>vidid</th>\n",
              "      <th>adview</th>\n",
              "      <th>views</th>\n",
              "      <th>likes</th>\n",
              "      <th>dislikes</th>\n",
              "      <th>comment</th>\n",
              "      <th>published</th>\n",
              "      <th>duration</th>\n",
              "      <th>category</th>\n",
              "    </tr>\n",
              "  </thead>\n",
              "  <tbody>\n",
              "    <tr>\n",
              "      <th>14987</th>\n",
              "      <td>5510</td>\n",
              "      <td>1</td>\n",
              "      <td>303879</td>\n",
              "      <td>481</td>\n",
              "      <td>51</td>\n",
              "      <td>76</td>\n",
              "      <td>1345</td>\n",
              "      <td>137</td>\n",
              "      <td>6</td>\n",
              "    </tr>\n",
              "    <tr>\n",
              "      <th>14988</th>\n",
              "      <td>8829</td>\n",
              "      <td>2</td>\n",
              "      <td>214596</td>\n",
              "      <td>1431</td>\n",
              "      <td>44</td>\n",
              "      <td>67</td>\n",
              "      <td>1763</td>\n",
              "      <td>212</td>\n",
              "      <td>7</td>\n",
              "    </tr>\n",
              "    <tr>\n",
              "      <th>14989</th>\n",
              "      <td>7286</td>\n",
              "      <td>22</td>\n",
              "      <td>1204587</td>\n",
              "      <td>10284</td>\n",
              "      <td>379</td>\n",
              "      <td>2016</td>\n",
              "      <td>921</td>\n",
              "      <td>36019</td>\n",
              "      <td>7</td>\n",
              "    </tr>\n",
              "    <tr>\n",
              "      <th>14992</th>\n",
              "      <td>1105</td>\n",
              "      <td>1</td>\n",
              "      <td>78021</td>\n",
              "      <td>422</td>\n",
              "      <td>19</td>\n",
              "      <td>14</td>\n",
              "      <td>2135</td>\n",
              "      <td>177</td>\n",
              "      <td>4</td>\n",
              "    </tr>\n",
              "    <tr>\n",
              "      <th>14993</th>\n",
              "      <td>2591</td>\n",
              "      <td>11</td>\n",
              "      <td>96816</td>\n",
              "      <td>122</td>\n",
              "      <td>9</td>\n",
              "      <td>11</td>\n",
              "      <td>1212</td>\n",
              "      <td>126</td>\n",
              "      <td>4</td>\n",
              "    </tr>\n",
              "    <tr>\n",
              "      <th>14994</th>\n",
              "      <td>9868</td>\n",
              "      <td>2</td>\n",
              "      <td>525949</td>\n",
              "      <td>1137</td>\n",
              "      <td>83</td>\n",
              "      <td>86</td>\n",
              "      <td>1683</td>\n",
              "      <td>370</td>\n",
              "      <td>1</td>\n",
              "    </tr>\n",
              "    <tr>\n",
              "      <th>14995</th>\n",
              "      <td>11757</td>\n",
              "      <td>1</td>\n",
              "      <td>665673</td>\n",
              "      <td>3849</td>\n",
              "      <td>156</td>\n",
              "      <td>569</td>\n",
              "      <td>1838</td>\n",
              "      <td>236</td>\n",
              "      <td>4</td>\n",
              "    </tr>\n",
              "    <tr>\n",
              "      <th>14996</th>\n",
              "      <td>13262</td>\n",
              "      <td>4</td>\n",
              "      <td>3479</td>\n",
              "      <td>16</td>\n",
              "      <td>1</td>\n",
              "      <td>1</td>\n",
              "      <td>1053</td>\n",
              "      <td>193</td>\n",
              "      <td>2</td>\n",
              "    </tr>\n",
              "    <tr>\n",
              "      <th>14997</th>\n",
              "      <td>6736</td>\n",
              "      <td>1</td>\n",
              "      <td>963</td>\n",
              "      <td>0</td>\n",
              "      <td>0</td>\n",
              "      <td>0</td>\n",
              "      <td>222</td>\n",
              "      <td>26</td>\n",
              "      <td>7</td>\n",
              "    </tr>\n",
              "    <tr>\n",
              "      <th>14998</th>\n",
              "      <td>13591</td>\n",
              "      <td>1</td>\n",
              "      <td>15212</td>\n",
              "      <td>22</td>\n",
              "      <td>5</td>\n",
              "      <td>4</td>\n",
              "      <td>1960</td>\n",
              "      <td>61</td>\n",
              "      <td>4</td>\n",
              "    </tr>\n",
              "  </tbody>\n",
              "</table>\n",
              "</div>"
            ],
            "text/plain": [
              "       vidid  adview    views  likes  ...  comment  published  duration  category\n",
              "14987   5510       1   303879    481  ...       76       1345       137         6\n",
              "14988   8829       2   214596   1431  ...       67       1763       212         7\n",
              "14989   7286      22  1204587  10284  ...     2016        921     36019         7\n",
              "14992   1105       1    78021    422  ...       14       2135       177         4\n",
              "14993   2591      11    96816    122  ...       11       1212       126         4\n",
              "14994   9868       2   525949   1137  ...       86       1683       370         1\n",
              "14995  11757       1   665673   3849  ...      569       1838       236         4\n",
              "14996  13262       4     3479     16  ...        1       1053       193         2\n",
              "14997   6736       1      963      0  ...        0        222        26         7\n",
              "14998  13591       1    15212     22  ...        4       1960        61         4\n",
              "\n",
              "[10 rows x 9 columns]"
            ]
          },
          "metadata": {
            "tags": []
          },
          "execution_count": 127
        }
      ]
    },
    {
      "cell_type": "code",
      "metadata": {
        "colab": {
          "base_uri": "https://localhost:8080/",
          "height": 276
        },
        "id": "SCBql2WLAXty",
        "outputId": "b229623d-ee05-4400-bf81-c31dc4198a83"
      },
      "source": [
        "#once again plotting the graph and checking the dataset\n",
        "#ploting the 2D graph to check the removal of the outlier\n",
        "plt.plot(data_train[\"adview\"])\n",
        "plt.show()"
      ],
      "execution_count": 128,
      "outputs": [
        {
          "output_type": "display_data",
          "data": {
            "image/png": "[encoded data removed]",
            "text/plain": [
              "<Figure size 432x288 with 1 Axes>"
            ]
          },
          "metadata": {
            "tags": [],
            "needs_background": "light"
          }
        }
      ]
    },
    {
      "cell_type": "code",
      "metadata": {
        "colab": {
          "base_uri": "https://localhost:8080/",
          "height": 487
        },
        "id": "dxkmnrtZAXty",
        "outputId": "9c628fe1-df70-4641-e504-54b27961694e"
      },
      "source": [
        "#Ploting Heatmap after succefully cleaning the dataset and transforming the necessary attributes\n",
        "f, ax = plt.subplots(figsize=(10,8))\n",
        "corr = data_train.corr()\n",
        "sns.heatmap(corr, mask=np.zeros_like(corr, dtype=np.bool), cmap=sns.diverging_palette(220, 10, as_cmap=True), square=True, ax=ax, annot=True)\n",
        "plt.show()"
      ],
      "execution_count": 129,
      "outputs": [
        {
          "output_type": "display_data",
          "data": {
            "image/png": "[encoded data removed]",
            "text/plain": [
              "<Figure size 720x576 with 2 Axes>"
            ]
          },
          "metadata": {
            "tags": [],
            "needs_background": "light"
          }
        }
      ]
    },
    {
      "cell_type": "markdown",
      "metadata": {
        "id": "JmpunPDxAXty"
      },
      "source": [
        "# 5.Normalizing the data and spliting the data into training, validation and testset in the appropriate ratio"
      ]
    },
    {
      "cell_type": "code",
      "metadata": {
        "colab": {
          "base_uri": "https://localhost:8080/",
          "height": 203
        },
        "id": "18807AcQAXty",
        "outputId": "0e8a4878-e28b-4923-ccac-6dc23bb59d3c"
      },
      "source": [
        "#Spliting the data into 80:20 ratio\n",
        "\n",
        "Y_train = pd.DataFrame(data = data_train.iloc[: , 1].values , columns = ['target'])\n",
        "data_train = data_train.drop([\"adview\"] , axis = 1)\n",
        "data_train = data_train.drop([\"vidid\"] , axis = 1)\n",
        "data_train.head()"
      ],
      "execution_count": 130,
      "outputs": [
        {
          "output_type": "execute_result",
          "data": {
            "text/html": [
              "<div>\n",
              "<style scoped>\n",
              "    .dataframe tbody tr th:only-of-type {\n",
              "        vertical-align: middle;\n",
              "    }\n",
              "\n",
              "    .dataframe tbody tr th {\n",
              "        vertical-align: top;\n",
              "    }\n",
              "\n",
              "    .dataframe thead th {\n",
              "        text-align: right;\n",
              "    }\n",
              "</style>\n",
              "<table border=\"1\" class=\"dataframe\">\n",
              "  <thead>\n",
              "    <tr style=\"text-align: right;\">\n",
              "      <th></th>\n",
              "      <th>views</th>\n",
              "      <th>likes</th>\n",
              "      <th>dislikes</th>\n",
              "      <th>comment</th>\n",
              "      <th>published</th>\n",
              "      <th>duration</th>\n",
              "      <th>category</th>\n",
              "    </tr>\n",
              "  </thead>\n",
              "  <tbody>\n",
              "    <tr>\n",
              "      <th>0</th>\n",
              "      <td>1031602</td>\n",
              "      <td>8523</td>\n",
              "      <td>363</td>\n",
              "      <td>1095</td>\n",
              "      <td>2168</td>\n",
              "      <td>457</td>\n",
              "      <td>6</td>\n",
              "    </tr>\n",
              "    <tr>\n",
              "      <th>1</th>\n",
              "      <td>1707</td>\n",
              "      <td>56</td>\n",
              "      <td>2</td>\n",
              "      <td>6</td>\n",
              "      <td>2185</td>\n",
              "      <td>570</td>\n",
              "      <td>4</td>\n",
              "    </tr>\n",
              "    <tr>\n",
              "      <th>2</th>\n",
              "      <td>2023</td>\n",
              "      <td>25</td>\n",
              "      <td>0</td>\n",
              "      <td>2</td>\n",
              "      <td>2094</td>\n",
              "      <td>136</td>\n",
              "      <td>3</td>\n",
              "    </tr>\n",
              "    <tr>\n",
              "      <th>3</th>\n",
              "      <td>620860</td>\n",
              "      <td>777</td>\n",
              "      <td>161</td>\n",
              "      <td>153</td>\n",
              "      <td>2119</td>\n",
              "      <td>262</td>\n",
              "      <td>8</td>\n",
              "    </tr>\n",
              "    <tr>\n",
              "      <th>4</th>\n",
              "      <td>666</td>\n",
              "      <td>1</td>\n",
              "      <td>0</td>\n",
              "      <td>0</td>\n",
              "      <td>2091</td>\n",
              "      <td>31</td>\n",
              "      <td>4</td>\n",
              "    </tr>\n",
              "  </tbody>\n",
              "</table>\n",
              "</div>"
            ],
            "text/plain": [
              "     views  likes  dislikes  comment  published  duration  category\n",
              "0  1031602   8523       363     1095       2168       457         6\n",
              "1     1707     56         2        6       2185       570         4\n",
              "2     2023     25         0        2       2094       136         3\n",
              "3   620860    777       161      153       2119       262         8\n",
              "4      666      1         0        0       2091        31         4"
            ]
          },
          "metadata": {
            "tags": []
          },
          "execution_count": 130
        }
      ]
    },
    {
      "cell_type": "code",
      "metadata": {
        "colab": {
          "base_uri": "https://localhost:8080/",
          "height": 417
        },
        "id": "ivKUzm6TAXtz",
        "outputId": "5f8d5dc2-65d5-46fe-9028-e1ee1a4de96a"
      },
      "source": [
        "Y_train"
      ],
      "execution_count": 131,
      "outputs": [
        {
          "output_type": "execute_result",
          "data": {
            "text/html": [
              "<div>\n",
              "<style scoped>\n",
              "    .dataframe tbody tr th:only-of-type {\n",
              "        vertical-align: middle;\n",
              "    }\n",
              "\n",
              "    .dataframe tbody tr th {\n",
              "        vertical-align: top;\n",
              "    }\n",
              "\n",
              "    .dataframe thead th {\n",
              "        text-align: right;\n",
              "    }\n",
              "</style>\n",
              "<table border=\"1\" class=\"dataframe\">\n",
              "  <thead>\n",
              "    <tr style=\"text-align: right;\">\n",
              "      <th></th>\n",
              "      <th>target</th>\n",
              "    </tr>\n",
              "  </thead>\n",
              "  <tbody>\n",
              "    <tr>\n",
              "      <th>0</th>\n",
              "      <td>40</td>\n",
              "    </tr>\n",
              "    <tr>\n",
              "      <th>1</th>\n",
              "      <td>2</td>\n",
              "    </tr>\n",
              "    <tr>\n",
              "      <th>2</th>\n",
              "      <td>1</td>\n",
              "    </tr>\n",
              "    <tr>\n",
              "      <th>3</th>\n",
              "      <td>6</td>\n",
              "    </tr>\n",
              "    <tr>\n",
              "      <th>4</th>\n",
              "      <td>1</td>\n",
              "    </tr>\n",
              "    <tr>\n",
              "      <th>...</th>\n",
              "      <td>...</td>\n",
              "    </tr>\n",
              "    <tr>\n",
              "      <th>14631</th>\n",
              "      <td>2</td>\n",
              "    </tr>\n",
              "    <tr>\n",
              "      <th>14632</th>\n",
              "      <td>1</td>\n",
              "    </tr>\n",
              "    <tr>\n",
              "      <th>14633</th>\n",
              "      <td>4</td>\n",
              "    </tr>\n",
              "    <tr>\n",
              "      <th>14634</th>\n",
              "      <td>1</td>\n",
              "    </tr>\n",
              "    <tr>\n",
              "      <th>14635</th>\n",
              "      <td>1</td>\n",
              "    </tr>\n",
              "  </tbody>\n",
              "</table>\n",
              "<p>14636 rows × 1 columns</p>\n",
              "</div>"
            ],
            "text/plain": [
              "       target\n",
              "0          40\n",
              "1           2\n",
              "2           1\n",
              "3           6\n",
              "4           1\n",
              "...       ...\n",
              "14631       2\n",
              "14632       1\n",
              "14633       4\n",
              "14634       1\n",
              "14635       1\n",
              "\n",
              "[14636 rows x 1 columns]"
            ]
          },
          "metadata": {
            "tags": []
          },
          "execution_count": 131
        }
      ]
    },
    {
      "cell_type": "code",
      "metadata": {
        "id": "YhwrB205AXtz"
      },
      "source": [
        "from sklearn.model_selection import train_test_split\n",
        "x_train , x_test , y_train , y_test = train_test_split ( data_train , Y_train , test_size = 0.2 , random_state = 42)"
      ],
      "execution_count": 132,
      "outputs": []
    },
    {
      "cell_type": "code",
      "metadata": {
        "colab": {
          "base_uri": "https://localhost:8080/",
          "height": 417
        },
        "id": "ETlKORuAAXtz",
        "outputId": "c04926e1-20bc-4a5c-ba51-d4d21b398989"
      },
      "source": [
        "x_train"
      ],
      "execution_count": 133,
      "outputs": [
        {
          "output_type": "execute_result",
          "data": {
            "text/html": [
              "<div>\n",
              "<style scoped>\n",
              "    .dataframe tbody tr th:only-of-type {\n",
              "        vertical-align: middle;\n",
              "    }\n",
              "\n",
              "    .dataframe tbody tr th {\n",
              "        vertical-align: top;\n",
              "    }\n",
              "\n",
              "    .dataframe thead th {\n",
              "        text-align: right;\n",
              "    }\n",
              "</style>\n",
              "<table border=\"1\" class=\"dataframe\">\n",
              "  <thead>\n",
              "    <tr style=\"text-align: right;\">\n",
              "      <th></th>\n",
              "      <th>views</th>\n",
              "      <th>likes</th>\n",
              "      <th>dislikes</th>\n",
              "      <th>comment</th>\n",
              "      <th>published</th>\n",
              "      <th>duration</th>\n",
              "      <th>category</th>\n",
              "    </tr>\n",
              "  </thead>\n",
              "  <tbody>\n",
              "    <tr>\n",
              "      <th>13440</th>\n",
              "      <td>86739</td>\n",
              "      <td>117</td>\n",
              "      <td>9</td>\n",
              "      <td>4</td>\n",
              "      <td>1217</td>\n",
              "      <td>180</td>\n",
              "      <td>4</td>\n",
              "    </tr>\n",
              "    <tr>\n",
              "      <th>9523</th>\n",
              "      <td>1419766</td>\n",
              "      <td>887</td>\n",
              "      <td>362</td>\n",
              "      <td>232</td>\n",
              "      <td>1547</td>\n",
              "      <td>5811</td>\n",
              "      <td>7</td>\n",
              "    </tr>\n",
              "    <tr>\n",
              "      <th>3012</th>\n",
              "      <td>26086</td>\n",
              "      <td>19</td>\n",
              "      <td>0</td>\n",
              "      <td>9</td>\n",
              "      <td>966</td>\n",
              "      <td>178</td>\n",
              "      <td>6</td>\n",
              "    </tr>\n",
              "    <tr>\n",
              "      <th>1888</th>\n",
              "      <td>305445</td>\n",
              "      <td>3662</td>\n",
              "      <td>45</td>\n",
              "      <td>555</td>\n",
              "      <td>1484</td>\n",
              "      <td>257</td>\n",
              "      <td>7</td>\n",
              "    </tr>\n",
              "    <tr>\n",
              "      <th>11378</th>\n",
              "      <td>737649</td>\n",
              "      <td>1702</td>\n",
              "      <td>96</td>\n",
              "      <td>53</td>\n",
              "      <td>1127</td>\n",
              "      <td>895</td>\n",
              "      <td>4</td>\n",
              "    </tr>\n",
              "    <tr>\n",
              "      <th>...</th>\n",
              "      <td>...</td>\n",
              "      <td>...</td>\n",
              "      <td>...</td>\n",
              "      <td>...</td>\n",
              "      <td>...</td>\n",
              "      <td>...</td>\n",
              "      <td>...</td>\n",
              "    </tr>\n",
              "    <tr>\n",
              "      <th>5316</th>\n",
              "      <td>31648</td>\n",
              "      <td>140</td>\n",
              "      <td>24</td>\n",
              "      <td>14</td>\n",
              "      <td>1925</td>\n",
              "      <td>231</td>\n",
              "      <td>7</td>\n",
              "    </tr>\n",
              "    <tr>\n",
              "      <th>13748</th>\n",
              "      <td>1804</td>\n",
              "      <td>4</td>\n",
              "      <td>1</td>\n",
              "      <td>0</td>\n",
              "      <td>1049</td>\n",
              "      <td>232</td>\n",
              "      <td>4</td>\n",
              "    </tr>\n",
              "    <tr>\n",
              "      <th>5522</th>\n",
              "      <td>204817</td>\n",
              "      <td>86</td>\n",
              "      <td>35</td>\n",
              "      <td>11</td>\n",
              "      <td>1237</td>\n",
              "      <td>218</td>\n",
              "      <td>4</td>\n",
              "    </tr>\n",
              "    <tr>\n",
              "      <th>883</th>\n",
              "      <td>1361366</td>\n",
              "      <td>1384</td>\n",
              "      <td>757</td>\n",
              "      <td>185</td>\n",
              "      <td>2145</td>\n",
              "      <td>240</td>\n",
              "      <td>7</td>\n",
              "    </tr>\n",
              "    <tr>\n",
              "      <th>7445</th>\n",
              "      <td>39758</td>\n",
              "      <td>122</td>\n",
              "      <td>6</td>\n",
              "      <td>3</td>\n",
              "      <td>224</td>\n",
              "      <td>354</td>\n",
              "      <td>4</td>\n",
              "    </tr>\n",
              "  </tbody>\n",
              "</table>\n",
              "<p>11708 rows × 7 columns</p>\n",
              "</div>"
            ],
            "text/plain": [
              "         views  likes  dislikes  comment  published  duration  category\n",
              "13440    86739    117         9        4       1217       180         4\n",
              "9523   1419766    887       362      232       1547      5811         7\n",
              "3012     26086     19         0        9        966       178         6\n",
              "1888    305445   3662        45      555       1484       257         7\n",
              "11378   737649   1702        96       53       1127       895         4\n",
              "...        ...    ...       ...      ...        ...       ...       ...\n",
              "5316     31648    140        24       14       1925       231         7\n",
              "13748     1804      4         1        0       1049       232         4\n",
              "5522    204817     86        35       11       1237       218         4\n",
              "883    1361366   1384       757      185       2145       240         7\n",
              "7445     39758    122         6        3        224       354         4\n",
              "\n",
              "[11708 rows x 7 columns]"
            ]
          },
          "metadata": {
            "tags": []
          },
          "execution_count": 133
        }
      ]
    },
    {
      "cell_type": "code",
      "metadata": {
        "colab": {
          "base_uri": "https://localhost:8080/"
        },
        "id": "Q3Ji-vHxAXtz",
        "outputId": "33ab77ea-8a71-47de-ac5a-f1d41e96625a"
      },
      "source": [
        "x_train.shape"
      ],
      "execution_count": 134,
      "outputs": [
        {
          "output_type": "execute_result",
          "data": {
            "text/plain": [
              "(11708, 7)"
            ]
          },
          "metadata": {
            "tags": []
          },
          "execution_count": 134
        }
      ]
    },
    {
      "cell_type": "code",
      "metadata": {
        "colab": {
          "base_uri": "https://localhost:8080/",
          "height": 417
        },
        "id": "Wi3SE0pCAXtz",
        "outputId": "f706207c-5593-45ab-e0bd-448a9422e04b"
      },
      "source": [
        "x_test"
      ],
      "execution_count": 135,
      "outputs": [
        {
          "output_type": "execute_result",
          "data": {
            "text/html": [
              "<div>\n",
              "<style scoped>\n",
              "    .dataframe tbody tr th:only-of-type {\n",
              "        vertical-align: middle;\n",
              "    }\n",
              "\n",
              "    .dataframe tbody tr th {\n",
              "        vertical-align: top;\n",
              "    }\n",
              "\n",
              "    .dataframe thead th {\n",
              "        text-align: right;\n",
              "    }\n",
              "</style>\n",
              "<table border=\"1\" class=\"dataframe\">\n",
              "  <thead>\n",
              "    <tr style=\"text-align: right;\">\n",
              "      <th></th>\n",
              "      <th>views</th>\n",
              "      <th>likes</th>\n",
              "      <th>dislikes</th>\n",
              "      <th>comment</th>\n",
              "      <th>published</th>\n",
              "      <th>duration</th>\n",
              "      <th>category</th>\n",
              "    </tr>\n",
              "  </thead>\n",
              "  <tbody>\n",
              "    <tr>\n",
              "      <th>4912</th>\n",
              "      <td>630898</td>\n",
              "      <td>1625</td>\n",
              "      <td>117</td>\n",
              "      <td>80</td>\n",
              "      <td>370</td>\n",
              "      <td>365</td>\n",
              "      <td>4</td>\n",
              "    </tr>\n",
              "    <tr>\n",
              "      <th>4921</th>\n",
              "      <td>384</td>\n",
              "      <td>2</td>\n",
              "      <td>0</td>\n",
              "      <td>0</td>\n",
              "      <td>2047</td>\n",
              "      <td>15</td>\n",
              "      <td>5</td>\n",
              "    </tr>\n",
              "    <tr>\n",
              "      <th>3813</th>\n",
              "      <td>36772</td>\n",
              "      <td>138</td>\n",
              "      <td>4</td>\n",
              "      <td>7</td>\n",
              "      <td>1281</td>\n",
              "      <td>904</td>\n",
              "      <td>2</td>\n",
              "    </tr>\n",
              "    <tr>\n",
              "      <th>9091</th>\n",
              "      <td>73482</td>\n",
              "      <td>74</td>\n",
              "      <td>21</td>\n",
              "      <td>4</td>\n",
              "      <td>345</td>\n",
              "      <td>1308</td>\n",
              "      <td>4</td>\n",
              "    </tr>\n",
              "    <tr>\n",
              "      <th>8485</th>\n",
              "      <td>86827</td>\n",
              "      <td>257</td>\n",
              "      <td>5</td>\n",
              "      <td>128</td>\n",
              "      <td>1999</td>\n",
              "      <td>481</td>\n",
              "      <td>4</td>\n",
              "    </tr>\n",
              "    <tr>\n",
              "      <th>...</th>\n",
              "      <td>...</td>\n",
              "      <td>...</td>\n",
              "      <td>...</td>\n",
              "      <td>...</td>\n",
              "      <td>...</td>\n",
              "      <td>...</td>\n",
              "      <td>...</td>\n",
              "    </tr>\n",
              "    <tr>\n",
              "      <th>3788</th>\n",
              "      <td>40389</td>\n",
              "      <td>250</td>\n",
              "      <td>7</td>\n",
              "      <td>9</td>\n",
              "      <td>2230</td>\n",
              "      <td>189</td>\n",
              "      <td>4</td>\n",
              "    </tr>\n",
              "    <tr>\n",
              "      <th>4993</th>\n",
              "      <td>127443</td>\n",
              "      <td>61</td>\n",
              "      <td>10</td>\n",
              "      <td>0</td>\n",
              "      <td>501</td>\n",
              "      <td>143</td>\n",
              "      <td>4</td>\n",
              "    </tr>\n",
              "    <tr>\n",
              "      <th>6953</th>\n",
              "      <td>85311</td>\n",
              "      <td>25</td>\n",
              "      <td>12</td>\n",
              "      <td>1</td>\n",
              "      <td>599</td>\n",
              "      <td>408</td>\n",
              "      <td>5</td>\n",
              "    </tr>\n",
              "    <tr>\n",
              "      <th>769</th>\n",
              "      <td>67541</td>\n",
              "      <td>691</td>\n",
              "      <td>19</td>\n",
              "      <td>66</td>\n",
              "      <td>2130</td>\n",
              "      <td>363</td>\n",
              "      <td>4</td>\n",
              "    </tr>\n",
              "    <tr>\n",
              "      <th>10392</th>\n",
              "      <td>231471</td>\n",
              "      <td>226</td>\n",
              "      <td>29</td>\n",
              "      <td>31</td>\n",
              "      <td>387</td>\n",
              "      <td>683</td>\n",
              "      <td>5</td>\n",
              "    </tr>\n",
              "  </tbody>\n",
              "</table>\n",
              "<p>2928 rows × 7 columns</p>\n",
              "</div>"
            ],
            "text/plain": [
              "        views  likes  dislikes  comment  published  duration  category\n",
              "4912   630898   1625       117       80        370       365         4\n",
              "4921      384      2         0        0       2047        15         5\n",
              "3813    36772    138         4        7       1281       904         2\n",
              "9091    73482     74        21        4        345      1308         4\n",
              "8485    86827    257         5      128       1999       481         4\n",
              "...       ...    ...       ...      ...        ...       ...       ...\n",
              "3788    40389    250         7        9       2230       189         4\n",
              "4993   127443     61        10        0        501       143         4\n",
              "6953    85311     25        12        1        599       408         5\n",
              "769     67541    691        19       66       2130       363         4\n",
              "10392  231471    226        29       31        387       683         5\n",
              "\n",
              "[2928 rows x 7 columns]"
            ]
          },
          "metadata": {
            "tags": []
          },
          "execution_count": 135
        }
      ]
    },
    {
      "cell_type": "code",
      "metadata": {
        "colab": {
          "base_uri": "https://localhost:8080/"
        },
        "id": "LMalHr9VAXtz",
        "outputId": "47696337-6d3c-44d8-f925-084b699a4702"
      },
      "source": [
        "x_test.shape"
      ],
      "execution_count": 136,
      "outputs": [
        {
          "output_type": "execute_result",
          "data": {
            "text/plain": [
              "(2928, 7)"
            ]
          },
          "metadata": {
            "tags": []
          },
          "execution_count": 136
        }
      ]
    },
    {
      "cell_type": "code",
      "metadata": {
        "colab": {
          "base_uri": "https://localhost:8080/",
          "height": 417
        },
        "id": "GQpk0ca-AXt0",
        "outputId": "16f14a55-65a9-4c5f-b2ab-2c76a6cae497"
      },
      "source": [
        "y_train "
      ],
      "execution_count": 137,
      "outputs": [
        {
          "output_type": "execute_result",
          "data": {
            "text/html": [
              "<div>\n",
              "<style scoped>\n",
              "    .dataframe tbody tr th:only-of-type {\n",
              "        vertical-align: middle;\n",
              "    }\n",
              "\n",
              "    .dataframe tbody tr th {\n",
              "        vertical-align: top;\n",
              "    }\n",
              "\n",
              "    .dataframe thead th {\n",
              "        text-align: right;\n",
              "    }\n",
              "</style>\n",
              "<table border=\"1\" class=\"dataframe\">\n",
              "  <thead>\n",
              "    <tr style=\"text-align: right;\">\n",
              "      <th></th>\n",
              "      <th>target</th>\n",
              "    </tr>\n",
              "  </thead>\n",
              "  <tbody>\n",
              "    <tr>\n",
              "      <th>13119</th>\n",
              "      <td>39</td>\n",
              "    </tr>\n",
              "    <tr>\n",
              "      <th>9293</th>\n",
              "      <td>4</td>\n",
              "    </tr>\n",
              "    <tr>\n",
              "      <th>2937</th>\n",
              "      <td>18782</td>\n",
              "    </tr>\n",
              "    <tr>\n",
              "      <th>1839</th>\n",
              "      <td>2</td>\n",
              "    </tr>\n",
              "    <tr>\n",
              "      <th>11099</th>\n",
              "      <td>20</td>\n",
              "    </tr>\n",
              "    <tr>\n",
              "      <th>...</th>\n",
              "      <td>...</td>\n",
              "    </tr>\n",
              "    <tr>\n",
              "      <th>5191</th>\n",
              "      <td>21127</td>\n",
              "    </tr>\n",
              "    <tr>\n",
              "      <th>13418</th>\n",
              "      <td>1</td>\n",
              "    </tr>\n",
              "    <tr>\n",
              "      <th>5390</th>\n",
              "      <td>1</td>\n",
              "    </tr>\n",
              "    <tr>\n",
              "      <th>860</th>\n",
              "      <td>2</td>\n",
              "    </tr>\n",
              "    <tr>\n",
              "      <th>7270</th>\n",
              "      <td>1</td>\n",
              "    </tr>\n",
              "  </tbody>\n",
              "</table>\n",
              "<p>11708 rows × 1 columns</p>\n",
              "</div>"
            ],
            "text/plain": [
              "       target\n",
              "13119      39\n",
              "9293        4\n",
              "2937    18782\n",
              "1839        2\n",
              "11099      20\n",
              "...       ...\n",
              "5191    21127\n",
              "13418       1\n",
              "5390        1\n",
              "860         2\n",
              "7270        1\n",
              "\n",
              "[11708 rows x 1 columns]"
            ]
          },
          "metadata": {
            "tags": []
          },
          "execution_count": 137
        }
      ]
    },
    {
      "cell_type": "code",
      "metadata": {
        "colab": {
          "base_uri": "https://localhost:8080/"
        },
        "id": "z-Q_KeGBAXt0",
        "outputId": "405713fe-86de-4144-efdc-fb45fdc18f14"
      },
      "source": [
        "y_train.shape"
      ],
      "execution_count": 138,
      "outputs": [
        {
          "output_type": "execute_result",
          "data": {
            "text/plain": [
              "(11708, 1)"
            ]
          },
          "metadata": {
            "tags": []
          },
          "execution_count": 138
        }
      ]
    },
    {
      "cell_type": "code",
      "metadata": {
        "colab": {
          "base_uri": "https://localhost:8080/",
          "height": 417
        },
        "id": "Ch8eTp_-AXt0",
        "outputId": "d8d96473-3745-4b7f-b112-fe89fe38249c"
      },
      "source": [
        "y_test"
      ],
      "execution_count": 139,
      "outputs": [
        {
          "output_type": "execute_result",
          "data": {
            "text/html": [
              "<div>\n",
              "<style scoped>\n",
              "    .dataframe tbody tr th:only-of-type {\n",
              "        vertical-align: middle;\n",
              "    }\n",
              "\n",
              "    .dataframe tbody tr th {\n",
              "        vertical-align: top;\n",
              "    }\n",
              "\n",
              "    .dataframe thead th {\n",
              "        text-align: right;\n",
              "    }\n",
              "</style>\n",
              "<table border=\"1\" class=\"dataframe\">\n",
              "  <thead>\n",
              "    <tr style=\"text-align: right;\">\n",
              "      <th></th>\n",
              "      <th>target</th>\n",
              "    </tr>\n",
              "  </thead>\n",
              "  <tbody>\n",
              "    <tr>\n",
              "      <th>4791</th>\n",
              "      <td>5</td>\n",
              "    </tr>\n",
              "    <tr>\n",
              "      <th>4800</th>\n",
              "      <td>2</td>\n",
              "    </tr>\n",
              "    <tr>\n",
              "      <th>3717</th>\n",
              "      <td>5</td>\n",
              "    </tr>\n",
              "    <tr>\n",
              "      <th>8876</th>\n",
              "      <td>1</td>\n",
              "    </tr>\n",
              "    <tr>\n",
              "      <th>8288</th>\n",
              "      <td>2</td>\n",
              "    </tr>\n",
              "    <tr>\n",
              "      <th>...</th>\n",
              "      <td>...</td>\n",
              "    </tr>\n",
              "    <tr>\n",
              "      <th>3694</th>\n",
              "      <td>1</td>\n",
              "    </tr>\n",
              "    <tr>\n",
              "      <th>4872</th>\n",
              "      <td>9</td>\n",
              "    </tr>\n",
              "    <tr>\n",
              "      <th>6791</th>\n",
              "      <td>1</td>\n",
              "    </tr>\n",
              "    <tr>\n",
              "      <th>750</th>\n",
              "      <td>2</td>\n",
              "    </tr>\n",
              "    <tr>\n",
              "      <th>10144</th>\n",
              "      <td>11</td>\n",
              "    </tr>\n",
              "  </tbody>\n",
              "</table>\n",
              "<p>2928 rows × 1 columns</p>\n",
              "</div>"
            ],
            "text/plain": [
              "       target\n",
              "4791        5\n",
              "4800        2\n",
              "3717        5\n",
              "8876        1\n",
              "8288        2\n",
              "...       ...\n",
              "3694        1\n",
              "4872        9\n",
              "6791        1\n",
              "750         2\n",
              "10144      11\n",
              "\n",
              "[2928 rows x 1 columns]"
            ]
          },
          "metadata": {
            "tags": []
          },
          "execution_count": 139
        }
      ]
    },
    {
      "cell_type": "code",
      "metadata": {
        "colab": {
          "base_uri": "https://localhost:8080/"
        },
        "id": "juC2FtmZAXt0",
        "outputId": "884cfe9b-86b5-44fd-b4de-e4ba6fe6749a"
      },
      "source": [
        "y_test.shape"
      ],
      "execution_count": 140,
      "outputs": [
        {
          "output_type": "execute_result",
          "data": {
            "text/plain": [
              "(2928, 1)"
            ]
          },
          "metadata": {
            "tags": []
          },
          "execution_count": 140
        }
      ]
    },
    {
      "cell_type": "code",
      "metadata": {
        "colab": {
          "base_uri": "https://localhost:8080/"
        },
        "id": "A2JN8TgUAXt0",
        "outputId": "562194aa-c420-4f8e-b25d-c377c597abf1"
      },
      "source": [
        "#Split of 80:20 ratio is :.... considering the 80% of the data set (14999 - 14636)\n",
        "11708 + 2928"
      ],
      "execution_count": 141,
      "outputs": [
        {
          "output_type": "execute_result",
          "data": {
            "text/plain": [
              "14636"
            ]
          },
          "metadata": {
            "tags": []
          },
          "execution_count": 141
        }
      ]
    },
    {
      "cell_type": "code",
      "metadata": {
        "id": "ky0vBC0MAXt0"
      },
      "source": [
        "#Normaliseing the data\n",
        "from sklearn.preprocessing import MinMaxScaler\n",
        "scaler = MinMaxScaler()\n",
        "x_train = scaler.fit_transform(x_train)\n",
        "x_test = scaler.fit_transform(x_test)"
      ],
      "execution_count": 142,
      "outputs": []
    },
    {
      "cell_type": "code",
      "metadata": {
        "colab": {
          "base_uri": "https://localhost:8080/"
        },
        "id": "2DwVXbIdAXt0",
        "outputId": "148567cc-7b3a-44d1-f1f4-602b3755decc"
      },
      "source": [
        "x_train.mean()"
      ],
      "execution_count": 143,
      "outputs": [
        {
          "output_type": "execute_result",
          "data": {
            "text/plain": [
              "0.1739096800320488"
            ]
          },
          "metadata": {
            "tags": []
          },
          "execution_count": 143
        }
      ]
    },
    {
      "cell_type": "code",
      "metadata": {
        "colab": {
          "base_uri": "https://localhost:8080/"
        },
        "id": "nSH_-TtBAXt0",
        "outputId": "2023837e-c35c-4265-ca2c-35ff8246e9b8"
      },
      "source": [
        "x_train , y_train"
      ],
      "execution_count": 144,
      "outputs": [
        {
          "output_type": "execute_result",
          "data": {
            "text/plain": [
              "(array([[6.27970800e-04, 4.12227296e-04, 1.82005703e-04, ...,\n",
              "         5.10700797e-01, 4.25360966e-03, 4.28571429e-01],\n",
              "        [1.02842406e-02, 3.12517617e-03, 7.32067383e-03, ...,\n",
              "         6.49181704e-01, 1.37320699e-01, 8.57142857e-01],\n",
              "        [1.88608556e-04, 6.69428942e-05, 0.00000000e+00, ...,\n",
              "         4.05371381e-01, 4.20634733e-03, 7.14285714e-01],\n",
              "        ...,\n",
              "        [1.48331209e-03, 3.03004679e-04, 7.07799956e-04, ...,\n",
              "         5.19093580e-01, 5.15159392e-03, 4.28571429e-01],\n",
              "        [9.86119882e-03, 4.87626135e-03, 1.53087019e-02, ...,\n",
              "         9.00125892e-01, 5.67147955e-03, 8.57142857e-01],\n",
              "        [2.87646701e-04, 4.29843847e-04, 1.21337135e-04, ...,\n",
              "         9.39991607e-02, 8.36543233e-03, 4.28571429e-01]]),        target\n",
              " 13119      39\n",
              " 9293        4\n",
              " 2937    18782\n",
              " 1839        2\n",
              " 11099      20\n",
              " ...       ...\n",
              " 5191    21127\n",
              " 13418       1\n",
              " 5390        1\n",
              " 860         2\n",
              " 7270        1\n",
              " \n",
              " [11708 rows x 1 columns])"
            ]
          },
          "metadata": {
            "tags": []
          },
          "execution_count": 144
        }
      ]
    },
    {
      "cell_type": "code",
      "metadata": {
        "colab": {
          "base_uri": "https://localhost:8080/"
        },
        "id": "XrFV8xmwAXt1",
        "outputId": "ef6971df-17fb-4746-81a9-034c1ccffbc8"
      },
      "source": [
        "x_test , y_test"
      ],
      "execution_count": 145,
      "outputs": [
        {
          "output_type": "execute_result",
          "data": {
            "text/plain": [
              "(array([[7.17372469e-03, 8.63080853e-03, 3.31069610e-03, ...,\n",
              "         1.54621849e-01, 1.32738468e-02, 4.28571429e-01],\n",
              "        [3.43438476e-06, 1.06225336e-05, 0.00000000e+00, ...,\n",
              "         8.59243697e-01, 3.68717968e-04, 5.71428571e-01],\n",
              "        [4.17243632e-04, 7.32954817e-04, 1.13186191e-04, ...,\n",
              "         5.37394958e-01, 3.31477453e-02, 1.42857143e-01],\n",
              "        ...,\n",
              "        [9.69235691e-04, 1.32781670e-04, 3.39558574e-04, ...,\n",
              "         2.50840336e-01, 1.48593341e-02, 5.71428571e-01],\n",
              "        [7.67152853e-04, 3.67008535e-03, 5.37634409e-04, ...,\n",
              "         8.94117647e-01, 1.32001032e-02, 4.28571429e-01],\n",
              "        [2.63138694e-03, 1.20034629e-03, 8.20599887e-04, ...,\n",
              "         1.61764706e-01, 2.49990782e-02, 5.71428571e-01]]),        target\n",
              " 4791        5\n",
              " 4800        2\n",
              " 3717        5\n",
              " 8876        1\n",
              " 8288        2\n",
              " ...       ...\n",
              " 3694        1\n",
              " 4872        9\n",
              " 6791        1\n",
              " 750         2\n",
              " 10144      11\n",
              " \n",
              " [2928 rows x 1 columns])"
            ]
          },
          "metadata": {
            "tags": []
          },
          "execution_count": 145
        }
      ]
    },
    {
      "cell_type": "code",
      "metadata": {
        "colab": {
          "base_uri": "https://localhost:8080/"
        },
        "id": "R7edVYqhAXt1",
        "outputId": "2222b185-f7a2-4612-bfe6-d95d67bfcd34"
      },
      "source": [
        "print(train.columns)"
      ],
      "execution_count": 146,
      "outputs": [
        {
          "output_type": "stream",
          "text": [
            "Index(['vidid', 'adview', 'views', 'likes', 'dislikes', 'comment', 'published',\n",
            "       'duration', 'category'],\n",
            "      dtype='object')\n"
          ],
          "name": "stdout"
        }
      ]
    },
    {
      "cell_type": "code",
      "metadata": {
        "id": "JcI5Q0K6AXt1"
      },
      "source": [
        "EDA_train = pd.read_csv('train.csv')"
      ],
      "execution_count": 147,
      "outputs": []
    },
    {
      "cell_type": "code",
      "metadata": {
        "colab": {
          "base_uri": "https://localhost:8080/"
        },
        "id": "mAZ-yH0-AXt1",
        "outputId": "92975279-42af-4d04-8e72-00e78cb34416"
      },
      "source": [
        "EDA_train['adview'].value_counts()"
      ],
      "execution_count": 148,
      "outputs": [
        {
          "output_type": "execute_result",
          "data": {
            "text/plain": [
              "1         6397\n",
              "2         2232\n",
              "3         1106\n",
              "4          769\n",
              "5          509\n",
              "          ... \n",
              "200815       1\n",
              "28683        1\n",
              "26600        1\n",
              "2020         1\n",
              "20330        1\n",
              "Name: adview, Length: 999, dtype: int64"
            ]
          },
          "metadata": {
            "tags": []
          },
          "execution_count": 148
        }
      ]
    },
    {
      "cell_type": "code",
      "metadata": {
        "colab": {
          "base_uri": "https://localhost:8080/",
          "height": 279
        },
        "id": "nkpMyMaAAXt1",
        "outputId": "a3d65e87-a024-4310-e7e9-f15c1c6b9d97"
      },
      "source": [
        "EDA_train.plot(kind=\"scatter\",x=\"adview\",y=\"likes\")\n",
        "plt.show()"
      ],
      "execution_count": 149,
      "outputs": [
        {
          "output_type": "display_data",
          "data": {
            "image/png": "[encoded data removed]",
            "text/plain": [
              "<Figure size 432x288 with 1 Axes>"
            ]
          },
          "metadata": {
            "tags": [],
            "needs_background": "light"
          }
        }
      ]
    },
    {
      "cell_type": "markdown",
      "metadata": {
        "id": "F-gw58BKAXt1"
      },
      "source": [
        "# 6. Using Linear regression, Support vector Regressor for training and get errors"
      ]
    },
    {
      "cell_type": "code",
      "metadata": {
        "id": "E-ioY8lEAXt1"
      },
      "source": [
        "#Evaluation metrics\n",
        "from sklearn import  metrics\n",
        "\n",
        "def print_error(x_test, y_test, model_name):\n",
        "    prediction = model_name.predict(x_test)\n",
        "    \n",
        "    print('Mean Absolute Error:', metrics.mean_absolute_error(y_test, prediction))\n",
        "    print('Mean Squared Error:', metrics.mean_squared_error(y_test, prediction))\n",
        "    print('Root Mean Squared Error:', np.sqrt(metrics.mean_squared_error(y_test, prediction)))"
      ],
      "execution_count": 150,
      "outputs": []
    },
    {
      "cell_type": "code",
      "metadata": {
        "colab": {
          "base_uri": "https://localhost:8080/"
        },
        "id": "xcR-CWl1AXt1",
        "outputId": "fbf427f4-b5a8-4d2a-9001-a1c4d3d5e3a8"
      },
      "source": [
        "#Linear Regression\n",
        "\n",
        "from sklearn import linear_model\n",
        "linear_regression = linear_model.LinearRegression()\n",
        "linear_regression.fit(x_train, y_train)\n",
        "print_error(x_test, y_test, linear_regression)"
      ],
      "execution_count": 151,
      "outputs": [
        {
          "output_type": "stream",
          "text": [
            "Mean Absolute Error: 3707.378005824532\n",
            "Mean Squared Error: 835663131.1210337\n",
            "Root Mean Squared Error: 28907.83857573986\n"
          ],
          "name": "stdout"
        }
      ]
    },
    {
      "cell_type": "code",
      "metadata": {
        "colab": {
          "base_uri": "https://localhost:8080/",
          "height": 295
        },
        "id": "0ZbQYy-YAXt2",
        "outputId": "46b8edf9-687d-43e2-c8be-e73a782f8490"
      },
      "source": [
        "data_train.describe()"
      ],
      "execution_count": 152,
      "outputs": [
        {
          "output_type": "execute_result",
          "data": {
            "text/html": [
              "<div>\n",
              "<style scoped>\n",
              "    .dataframe tbody tr th:only-of-type {\n",
              "        vertical-align: middle;\n",
              "    }\n",
              "\n",
              "    .dataframe tbody tr th {\n",
              "        vertical-align: top;\n",
              "    }\n",
              "\n",
              "    .dataframe thead th {\n",
              "        text-align: right;\n",
              "    }\n",
              "</style>\n",
              "<table border=\"1\" class=\"dataframe\">\n",
              "  <thead>\n",
              "    <tr style=\"text-align: right;\">\n",
              "      <th></th>\n",
              "      <th>views</th>\n",
              "      <th>likes</th>\n",
              "      <th>dislikes</th>\n",
              "      <th>comment</th>\n",
              "      <th>published</th>\n",
              "      <th>duration</th>\n",
              "      <th>category</th>\n",
              "    </tr>\n",
              "  </thead>\n",
              "  <tbody>\n",
              "    <tr>\n",
              "      <th>count</th>\n",
              "      <td>1.463600e+04</td>\n",
              "      <td>14636.000000</td>\n",
              "      <td>14636.000000</td>\n",
              "      <td>14636.000000</td>\n",
              "      <td>14636.000000</td>\n",
              "      <td>14636.000000</td>\n",
              "      <td>14636.000000</td>\n",
              "    </tr>\n",
              "    <tr>\n",
              "      <th>mean</th>\n",
              "      <td>7.107934e+05</td>\n",
              "      <td>2784.093946</td>\n",
              "      <td>254.150724</td>\n",
              "      <td>409.035597</td>\n",
              "      <td>1547.316617</td>\n",
              "      <td>1040.232441</td>\n",
              "      <td>4.607065</td>\n",
              "    </tr>\n",
              "    <tr>\n",
              "      <th>std</th>\n",
              "      <td>2.731062e+06</td>\n",
              "      <td>8936.295816</td>\n",
              "      <td>1029.257991</td>\n",
              "      <td>1511.180179</td>\n",
              "      <td>582.891902</td>\n",
              "      <td>2316.888900</td>\n",
              "      <td>1.576242</td>\n",
              "    </tr>\n",
              "    <tr>\n",
              "      <th>min</th>\n",
              "      <td>4.900000e+01</td>\n",
              "      <td>0.000000</td>\n",
              "      <td>0.000000</td>\n",
              "      <td>0.000000</td>\n",
              "      <td>0.000000</td>\n",
              "      <td>0.000000</td>\n",
              "      <td>1.000000</td>\n",
              "    </tr>\n",
              "    <tr>\n",
              "      <th>25%</th>\n",
              "      <td>3.151425e+04</td>\n",
              "      <td>88.000000</td>\n",
              "      <td>7.000000</td>\n",
              "      <td>7.000000</td>\n",
              "      <td>1135.000000</td>\n",
              "      <td>187.000000</td>\n",
              "      <td>4.000000</td>\n",
              "    </tr>\n",
              "    <tr>\n",
              "      <th>50%</th>\n",
              "      <td>1.586610e+05</td>\n",
              "      <td>450.000000</td>\n",
              "      <td>38.000000</td>\n",
              "      <td>46.000000</td>\n",
              "      <td>1699.500000</td>\n",
              "      <td>325.000000</td>\n",
              "      <td>4.000000</td>\n",
              "    </tr>\n",
              "    <tr>\n",
              "      <th>75%</th>\n",
              "      <td>5.829575e+05</td>\n",
              "      <td>1861.500000</td>\n",
              "      <td>166.250000</td>\n",
              "      <td>224.000000</td>\n",
              "      <td>2064.000000</td>\n",
              "      <td>723.000000</td>\n",
              "      <td>6.000000</td>\n",
              "    </tr>\n",
              "    <tr>\n",
              "      <th>max</th>\n",
              "      <td>1.380479e+08</td>\n",
              "      <td>283824.000000</td>\n",
              "      <td>49449.000000</td>\n",
              "      <td>75045.000000</td>\n",
              "      <td>2383.000000</td>\n",
              "      <td>42317.000000</td>\n",
              "      <td>8.000000</td>\n",
              "    </tr>\n",
              "  </tbody>\n",
              "</table>\n",
              "</div>"
            ],
            "text/plain": [
              "              views          likes  ...      duration      category\n",
              "count  1.463600e+04   14636.000000  ...  14636.000000  14636.000000\n",
              "mean   7.107934e+05    2784.093946  ...   1040.232441      4.607065\n",
              "std    2.731062e+06    8936.295816  ...   2316.888900      1.576242\n",
              "min    4.900000e+01       0.000000  ...      0.000000      1.000000\n",
              "25%    3.151425e+04      88.000000  ...    187.000000      4.000000\n",
              "50%    1.586610e+05     450.000000  ...    325.000000      4.000000\n",
              "75%    5.829575e+05    1861.500000  ...    723.000000      6.000000\n",
              "max    1.380479e+08  283824.000000  ...  42317.000000      8.000000\n",
              "\n",
              "[8 rows x 7 columns]"
            ]
          },
          "metadata": {
            "tags": []
          },
          "execution_count": 152
        }
      ]
    },
    {
      "cell_type": "code",
      "metadata": {
        "colab": {
          "base_uri": "https://localhost:8080/"
        },
        "id": "S9T80osTAXt2",
        "outputId": "88bb2155-6885-4d5a-d2f4-372270cec953"
      },
      "source": [
        "data_train.isnull().any()"
      ],
      "execution_count": 153,
      "outputs": [
        {
          "output_type": "execute_result",
          "data": {
            "text/plain": [
              "views        False\n",
              "likes        False\n",
              "dislikes     False\n",
              "comment      False\n",
              "published    False\n",
              "duration     False\n",
              "category     False\n",
              "dtype: bool"
            ]
          },
          "metadata": {
            "tags": []
          },
          "execution_count": 153
        }
      ]
    },
    {
      "cell_type": "code",
      "metadata": {
        "colab": {
          "base_uri": "https://localhost:8080/"
        },
        "id": "zyc0oS0KAXt2",
        "outputId": "b414d342-cb46-46a8-a6ce-39b2019af41c"
      },
      "source": [
        "linear_regression = linear_model.LinearRegression()\n",
        "linear_regression.fit(x_train, y_train)\n",
        "print_error(x_test, y_test, linear_regression)"
      ],
      "execution_count": 154,
      "outputs": [
        {
          "output_type": "stream",
          "text": [
            "Mean Absolute Error: 3707.378005824532\n",
            "Mean Squared Error: 835663131.1210337\n",
            "Root Mean Squared Error: 28907.83857573986\n"
          ],
          "name": "stdout"
        }
      ]
    },
    {
      "cell_type": "code",
      "metadata": {
        "colab": {
          "base_uri": "https://localhost:8080/"
        },
        "id": "eJhSMRinAXt2",
        "outputId": "a462b2cf-b190-4051-ca6e-2f3931423796"
      },
      "source": [
        "#Support vector Regressioin\n",
        "from sklearn.svm import SVR\n",
        "supportvector_regressor = SVR()\n",
        "supportvector_regressor.fit(x_train, y_train)\n",
        "print_error(x_test , y_test , supportvector_regressor)"
      ],
      "execution_count": 155,
      "outputs": [
        {
          "output_type": "stream",
          "text": [
            "/usr/local/lib/python3.7/dist-packages/sklearn/utils/validation.py:760: DataConversionWarning: A column-vector y was passed when a 1d array was expected. Please change the shape of y to (n_samples, ), for example using ravel().\n",
            "  y = column_or_1d(y, warn=True)\n"
          ],
          "name": "stderr"
        },
        {
          "output_type": "stream",
          "text": [
            "Mean Absolute Error: 1696.9438599505638\n",
            "Mean Squared Error: 833685776.029172\n",
            "Root Mean Squared Error: 28873.617300732723\n"
          ],
          "name": "stdout"
        }
      ]
    },
    {
      "cell_type": "markdown",
      "metadata": {
        "id": "REYnLLNJAXt2"
      },
      "source": [
        "# 7.Using Decision Tree Regressor and Random Forest Regressors."
      ]
    },
    {
      "cell_type": "code",
      "metadata": {
        "colab": {
          "base_uri": "https://localhost:8080/"
        },
        "id": "gmcYexDVAXt2",
        "outputId": "e9c0462d-e0b7-4595-c2b9-d8ee131c03fe"
      },
      "source": [
        "#Decision Tree Regressor\n",
        "\n",
        "from sklearn.tree import DecisionTreeRegressor\n",
        "decision_tree = DecisionTreeRegressor()\n",
        "decision_tree.fit(x_train ,y_train)\n",
        "print_error(x_test , y_test , decision_tree)"
      ],
      "execution_count": 156,
      "outputs": [
        {
          "output_type": "stream",
          "text": [
            "Mean Absolute Error: 2968.448087431694\n",
            "Mean Squared Error: 1207143952.0403006\n",
            "Root Mean Squared Error: 34743.9772052697\n"
          ],
          "name": "stdout"
        }
      ]
    },
    {
      "cell_type": "code",
      "metadata": {
        "colab": {
          "base_uri": "https://localhost:8080/"
        },
        "id": "ACYXzkoiAXt2",
        "outputId": "2fe32066-3fc6-4701-aa8b-63e9cc15951a"
      },
      "source": [
        "#Random Forest Regressor\n",
        "\n",
        "from sklearn.ensemble import RandomForestRegressor\n",
        "n_estimators = 200\n",
        "max_depth = 25\n",
        "min_samples_split = 15\n",
        "min_samples_leaf = 2\n",
        "random_forest = RandomForestRegressor(n_estimators = n_estimators , max_depth = max_depth, min_samples_split =  min_samples_split  , min_samples_leaf = min_samples_leaf )\n",
        "random_forest.fit(x_train,y_train)\n",
        "print_error(x_test , y_test , random_forest)"
      ],
      "execution_count": 157,
      "outputs": [
        {
          "output_type": "stream",
          "text": [
            "/usr/local/lib/python3.7/dist-packages/ipykernel_launcher.py:9: DataConversionWarning: A column-vector y was passed when a 1d array was expected. Please change the shape of y to (n_samples,), for example using ravel().\n",
            "  if __name__ == '__main__':\n"
          ],
          "name": "stderr"
        },
        {
          "output_type": "stream",
          "text": [
            "Mean Absolute Error: 3394.9209315119365\n",
            "Mean Squared Error: 723338080.995034\n",
            "Root Mean Squared Error: 26894.945268489282\n"
          ],
          "name": "stdout"
        }
      ]
    },
    {
      "cell_type": "markdown",
      "metadata": {
        "id": "K0xn-M2dAXt2"
      },
      "source": [
        "# 8.Building An Artificial Neural Network & Training it With Different Layers & Hyperparameteres using Keras"
      ]
    },
    {
      "cell_type": "code",
      "metadata": {
        "colab": {
          "base_uri": "https://localhost:8080/"
        },
        "id": "E7bh6sk_AXt3",
        "outputId": "13d90344-883d-4f2a-f3c9-5e395e28b5ba"
      },
      "source": [
        "#Artiificial Neural Network\n",
        "\n",
        "import keras\n",
        "from keras.layers import Dense\n",
        "\n",
        "ann = keras.models.Sequential([\n",
        "                              Dense(6,activation = \"relu\", \n",
        "                              input_shape = x_train.shape[1:]),\n",
        "                              Dense(6, activation = \"relu\"), \n",
        "                              Dense(1)\n",
        "                             ])\n",
        "\n",
        "optimizer = keras.optimizers.Adam()\n",
        "loss = keras.losses.mean_squared_error\n",
        "ann.compile(optimizer = optimizer , loss = loss , metrics = [\"mean_squared_error\"])\n",
        "\n",
        "history = ann.fit(x_train , y_train , epochs = 100)\n"
      ],
      "execution_count": 158,
      "outputs": [
        {
          "output_type": "stream",
          "text": [
            "Epoch 1/100\n",
            "366/366 [==============================] - 1s 1ms/step - loss: 929298527.5916 - mean_squared_error: 929298527.5916\n",
            "Epoch 2/100\n",
            "366/366 [==============================] - 0s 1ms/step - loss: 544518432.5569 - mean_squared_error: 544518432.5569\n",
            "Epoch 3/100\n",
            "366/366 [==============================] - 0s 1ms/step - loss: 443491859.5215 - mean_squared_error: 443491859.5215\n",
            "Epoch 4/100\n",
            "366/366 [==============================] - 0s 1ms/step - loss: 512300448.6277 - mean_squared_error: 512300448.6277\n",
            "Epoch 5/100\n",
            "366/366 [==============================] - 0s 1ms/step - loss: 906854455.5422 - mean_squared_error: 906854455.5422\n",
            "Epoch 6/100\n",
            "366/366 [==============================] - 0s 1ms/step - loss: 1116222833.3120 - mean_squared_error: 1116222833.3120\n",
            "Epoch 7/100\n",
            "366/366 [==============================] - 0s 1ms/step - loss: 1381839510.3890 - mean_squared_error: 1381839510.3890\n",
            "Epoch 8/100\n",
            "366/366 [==============================] - 0s 1ms/step - loss: 1153374801.7501 - mean_squared_error: 1153374801.7501\n",
            "Epoch 9/100\n",
            "366/366 [==============================] - 0s 1ms/step - loss: 661681848.9428 - mean_squared_error: 661681848.9428\n",
            "Epoch 10/100\n",
            "366/366 [==============================] - 0s 1ms/step - loss: 596357228.7507 - mean_squared_error: 596357228.7507\n",
            "Epoch 11/100\n",
            "366/366 [==============================] - 0s 1ms/step - loss: 512389161.9506 - mean_squared_error: 512389161.9506\n",
            "Epoch 12/100\n",
            "366/366 [==============================] - 0s 1ms/step - loss: 639359675.4905 - mean_squared_error: 639359675.4905\n",
            "Epoch 13/100\n",
            "366/366 [==============================] - 0s 1ms/step - loss: 323974098.4094 - mean_squared_error: 323974098.4094\n",
            "Epoch 14/100\n",
            "366/366 [==============================] - 0s 1ms/step - loss: 271838379.3488 - mean_squared_error: 271838379.3488\n",
            "Epoch 15/100\n",
            "366/366 [==============================] - 0s 1ms/step - loss: 1481622195.4898 - mean_squared_error: 1481622195.4898\n",
            "Epoch 16/100\n",
            "366/366 [==============================] - 0s 1ms/step - loss: 772459383.1063 - mean_squared_error: 772459383.1063\n",
            "Epoch 17/100\n",
            "366/366 [==============================] - 0s 1ms/step - loss: 611403479.4877 - mean_squared_error: 611403479.4877\n",
            "Epoch 18/100\n",
            "366/366 [==============================] - 0s 1ms/step - loss: 683166255.5974 - mean_squared_error: 683166255.5974\n",
            "Epoch 19/100\n",
            "366/366 [==============================] - 0s 1ms/step - loss: 298506847.8956 - mean_squared_error: 298506847.8956\n",
            "Epoch 20/100\n",
            "366/366 [==============================] - 0s 1ms/step - loss: 395513841.7360 - mean_squared_error: 395513841.7360\n",
            "Epoch 21/100\n",
            "366/366 [==============================] - 0s 1ms/step - loss: 345855856.6376 - mean_squared_error: 345855856.6376\n",
            "Epoch 22/100\n",
            "366/366 [==============================] - 0s 1ms/step - loss: 791365196.7820 - mean_squared_error: 791365196.7820\n",
            "Epoch 23/100\n",
            "366/366 [==============================] - 0s 1ms/step - loss: 832811519.1499 - mean_squared_error: 832811519.1499\n",
            "Epoch 24/100\n",
            "366/366 [==============================] - 0s 1ms/step - loss: 566502791.2180 - mean_squared_error: 566502791.2180\n",
            "Epoch 25/100\n",
            "366/366 [==============================] - 0s 1ms/step - loss: 485833940.2725 - mean_squared_error: 485833940.2725\n",
            "Epoch 26/100\n",
            "366/366 [==============================] - 0s 1ms/step - loss: 695230539.3658 - mean_squared_error: 695230539.3658\n",
            "Epoch 27/100\n",
            "366/366 [==============================] - 0s 1ms/step - loss: 937765344.9629 - mean_squared_error: 937765344.9629\n",
            "Epoch 28/100\n",
            "366/366 [==============================] - 0s 1ms/step - loss: 479251158.2234 - mean_squared_error: 479251158.2234\n",
            "Epoch 29/100\n",
            "366/366 [==============================] - 0s 1ms/step - loss: 826729038.0518 - mean_squared_error: 826729038.0518\n",
            "Epoch 30/100\n",
            "366/366 [==============================] - 0s 1ms/step - loss: 1039152215.2405 - mean_squared_error: 1039152215.2405\n",
            "Epoch 31/100\n",
            "366/366 [==============================] - 0s 1ms/step - loss: 1232078572.5559 - mean_squared_error: 1232078572.5559\n",
            "Epoch 32/100\n",
            "366/366 [==============================] - 0s 1ms/step - loss: 619567604.7916 - mean_squared_error: 619567604.7916\n",
            "Epoch 33/100\n",
            "366/366 [==============================] - 0s 1ms/step - loss: 644725301.1751 - mean_squared_error: 644725301.1751\n",
            "Epoch 34/100\n",
            "366/366 [==============================] - 0s 1ms/step - loss: 610104300.5504 - mean_squared_error: 610104300.5504\n",
            "Epoch 35/100\n",
            "366/366 [==============================] - 0s 1ms/step - loss: 669082843.7384 - mean_squared_error: 669082843.7384\n",
            "Epoch 36/100\n",
            "366/366 [==============================] - 0s 1ms/step - loss: 888561211.5770 - mean_squared_error: 888561211.5770\n",
            "Epoch 37/100\n",
            "366/366 [==============================] - 0s 1ms/step - loss: 564003769.5422 - mean_squared_error: 564003769.5422\n",
            "Epoch 38/100\n",
            "366/366 [==============================] - 0s 1ms/step - loss: 604976510.3447 - mean_squared_error: 604976510.3447\n",
            "Epoch 39/100\n",
            "366/366 [==============================] - 0s 1ms/step - loss: 1229839999.1785 - mean_squared_error: 1229839999.1785\n",
            "Epoch 40/100\n",
            "366/366 [==============================] - 0s 1ms/step - loss: 1555475875.5518 - mean_squared_error: 1555475875.5518\n",
            "Epoch 41/100\n",
            "366/366 [==============================] - 0s 1ms/step - loss: 391756052.7868 - mean_squared_error: 391756052.7868\n",
            "Epoch 42/100\n",
            "366/366 [==============================] - 0s 1ms/step - loss: 963442371.8937 - mean_squared_error: 963442371.8937\n",
            "Epoch 43/100\n",
            "366/366 [==============================] - 0s 1ms/step - loss: 797502783.8481 - mean_squared_error: 797502783.8481\n",
            "Epoch 44/100\n",
            "366/366 [==============================] - 0s 1ms/step - loss: 1516116337.9183 - mean_squared_error: 1516116337.9183\n",
            "Epoch 45/100\n",
            "366/366 [==============================] - 0s 1ms/step - loss: 769875639.5640 - mean_squared_error: 769875639.5640\n",
            "Epoch 46/100\n",
            "366/366 [==============================] - 0s 1ms/step - loss: 1203217435.4407 - mean_squared_error: 1203217435.4407\n",
            "Epoch 47/100\n",
            "366/366 [==============================] - 0s 1ms/step - loss: 586103744.7984 - mean_squared_error: 586103744.7984\n",
            "Epoch 48/100\n",
            "366/366 [==============================] - 0s 1ms/step - loss: 932665823.6975 - mean_squared_error: 932665823.6975\n",
            "Epoch 49/100\n",
            "366/366 [==============================] - 0s 1ms/step - loss: 805927763.2480 - mean_squared_error: 805927763.2480\n",
            "Epoch 50/100\n",
            "366/366 [==============================] - 0s 1ms/step - loss: 993311631.1110 - mean_squared_error: 993311631.1110\n",
            "Epoch 51/100\n",
            "366/366 [==============================] - 0s 1ms/step - loss: 775445321.6635 - mean_squared_error: 775445321.6635\n",
            "Epoch 52/100\n",
            "366/366 [==============================] - 0s 1ms/step - loss: 608848625.4380 - mean_squared_error: 608848625.4380\n",
            "Epoch 53/100\n",
            "366/366 [==============================] - 0s 1ms/step - loss: 657845047.2970 - mean_squared_error: 657845047.2970\n",
            "Epoch 54/100\n",
            "366/366 [==============================] - 0s 1ms/step - loss: 810561265.5960 - mean_squared_error: 810561265.5960\n",
            "Epoch 55/100\n",
            "366/366 [==============================] - 0s 1ms/step - loss: 560893399.0627 - mean_squared_error: 560893399.0627\n",
            "Epoch 56/100\n",
            "366/366 [==============================] - 0s 1ms/step - loss: 1359462214.9537 - mean_squared_error: 1359462214.9537\n",
            "Epoch 57/100\n",
            "366/366 [==============================] - 0s 1ms/step - loss: 577560684.3161 - mean_squared_error: 577560684.3161\n",
            "Epoch 58/100\n",
            "366/366 [==============================] - 0s 1ms/step - loss: 627967119.1281 - mean_squared_error: 627967119.1281\n",
            "Epoch 59/100\n",
            "366/366 [==============================] - 0s 1ms/step - loss: 1290542735.8243 - mean_squared_error: 1290542735.8243\n",
            "Epoch 60/100\n",
            "366/366 [==============================] - 0s 1ms/step - loss: 1528558673.2793 - mean_squared_error: 1528558673.2793\n",
            "Epoch 61/100\n",
            "366/366 [==============================] - 0s 1ms/step - loss: 544994660.4905 - mean_squared_error: 544994660.4905\n",
            "Epoch 62/100\n",
            "366/366 [==============================] - 0s 1ms/step - loss: 390534312.1962 - mean_squared_error: 390534312.1962\n",
            "Epoch 63/100\n",
            "366/366 [==============================] - 0s 1ms/step - loss: 431748501.6689 - mean_squared_error: 431748501.6689\n",
            "Epoch 64/100\n",
            "366/366 [==============================] - 0s 1ms/step - loss: 638827115.6294 - mean_squared_error: 638827115.6294\n",
            "Epoch 65/100\n",
            "366/366 [==============================] - 0s 1ms/step - loss: 666494516.9455 - mean_squared_error: 666494516.9455\n",
            "Epoch 66/100\n",
            "366/366 [==============================] - 0s 1ms/step - loss: 1131736047.4550 - mean_squared_error: 1131736047.4550\n",
            "Epoch 67/100\n",
            "366/366 [==============================] - 0s 1ms/step - loss: 735752510.3760 - mean_squared_error: 735752510.3760\n",
            "Epoch 68/100\n",
            "366/366 [==============================] - 0s 1ms/step - loss: 598992481.8311 - mean_squared_error: 598992481.8311\n",
            "Epoch 69/100\n",
            "366/366 [==============================] - 0s 1ms/step - loss: 701398897.9373 - mean_squared_error: 701398897.9373\n",
            "Epoch 70/100\n",
            "366/366 [==============================] - 0s 1ms/step - loss: 638021918.7929 - mean_squared_error: 638021918.7929\n",
            "Epoch 71/100\n",
            "366/366 [==============================] - 0s 1ms/step - loss: 875202587.2881 - mean_squared_error: 875202587.2881\n",
            "Epoch 72/100\n",
            "366/366 [==============================] - 0s 1ms/step - loss: 643525709.8011 - mean_squared_error: 643525709.8011\n",
            "Epoch 73/100\n",
            "366/366 [==============================] - 0s 1ms/step - loss: 429285725.0259 - mean_squared_error: 429285725.0259\n",
            "Epoch 74/100\n",
            "366/366 [==============================] - 0s 1ms/step - loss: 633227705.2337 - mean_squared_error: 633227705.2337\n",
            "Epoch 75/100\n",
            "366/366 [==============================] - 0s 1ms/step - loss: 1127013920.5232 - mean_squared_error: 1127013920.5232\n",
            "Epoch 76/100\n",
            "366/366 [==============================] - 0s 1ms/step - loss: 1680206649.2820 - mean_squared_error: 1680206649.2820\n",
            "Epoch 77/100\n",
            "366/366 [==============================] - 0s 1ms/step - loss: 659774523.8985 - mean_squared_error: 659774523.8985\n",
            "Epoch 78/100\n",
            "366/366 [==============================] - 0s 1ms/step - loss: 372619981.5422 - mean_squared_error: 372619981.5422\n",
            "Epoch 79/100\n",
            "366/366 [==============================] - 0s 1ms/step - loss: 1153796161.1580 - mean_squared_error: 1153796161.1580\n",
            "Epoch 80/100\n",
            "366/366 [==============================] - 0s 1ms/step - loss: 666565052.7629 - mean_squared_error: 666565052.7629\n",
            "Epoch 81/100\n",
            "366/366 [==============================] - 0s 1ms/step - loss: 573218075.1662 - mean_squared_error: 573218075.1662\n",
            "Epoch 82/100\n",
            "366/366 [==============================] - 0s 1ms/step - loss: 916386012.7016 - mean_squared_error: 916386012.7016\n",
            "Epoch 83/100\n",
            "366/366 [==============================] - 0s 1ms/step - loss: 941393478.1689 - mean_squared_error: 941393478.1689\n",
            "Epoch 84/100\n",
            "366/366 [==============================] - 0s 1ms/step - loss: 768630039.3297 - mean_squared_error: 768630039.3297\n",
            "Epoch 85/100\n",
            "366/366 [==============================] - 0s 1ms/step - loss: 971582375.8665 - mean_squared_error: 971582375.8665\n",
            "Epoch 86/100\n",
            "366/366 [==============================] - 0s 1ms/step - loss: 1536912904.0559 - mean_squared_error: 1536912904.0559\n",
            "Epoch 87/100\n",
            "366/366 [==============================] - 0s 1ms/step - loss: 880923559.6076 - mean_squared_error: 880923559.6076\n",
            "Epoch 88/100\n",
            "366/366 [==============================] - 0s 1ms/step - loss: 620247837.6737 - mean_squared_error: 620247837.6737\n",
            "Epoch 89/100\n",
            "366/366 [==============================] - 0s 1ms/step - loss: 942701379.7357 - mean_squared_error: 942701379.7357\n",
            "Epoch 90/100\n",
            "366/366 [==============================] - 0s 1ms/step - loss: 577668691.3134 - mean_squared_error: 577668691.3134\n",
            "Epoch 91/100\n",
            "366/366 [==============================] - 0s 1ms/step - loss: 839107764.3161 - mean_squared_error: 839107764.3161\n",
            "Epoch 92/100\n",
            "366/366 [==============================] - 0s 1ms/step - loss: 444128089.5136 - mean_squared_error: 444128089.5136\n",
            "Epoch 93/100\n",
            "366/366 [==============================] - 0s 1ms/step - loss: 1011477494.9707 - mean_squared_error: 1011477494.9707\n",
            "Epoch 94/100\n",
            "366/366 [==============================] - 0s 1ms/step - loss: 871289705.2132 - mean_squared_error: 871289705.2132\n",
            "Epoch 95/100\n",
            "366/366 [==============================] - 0s 1ms/step - loss: 684175022.4925 - mean_squared_error: 684175022.4925\n",
            "Epoch 96/100\n",
            "366/366 [==============================] - 0s 1ms/step - loss: 497707327.2589 - mean_squared_error: 497707327.2589\n",
            "Epoch 97/100\n",
            "366/366 [==============================] - 0s 1ms/step - loss: 602085578.8501 - mean_squared_error: 602085578.8501\n",
            "Epoch 98/100\n",
            "366/366 [==============================] - 0s 1ms/step - loss: 1164398298.2241 - mean_squared_error: 1164398298.2241\n",
            "Epoch 99/100\n",
            "366/366 [==============================] - 0s 1ms/step - loss: 535740202.0327 - mean_squared_error: 535740202.0327\n",
            "Epoch 100/100\n",
            "366/366 [==============================] - 0s 1ms/step - loss: 510503161.6049 - mean_squared_error: 510503161.6049\n"
          ],
          "name": "stdout"
        }
      ]
    },
    {
      "cell_type": "code",
      "metadata": {
        "colab": {
          "base_uri": "https://localhost:8080/"
        },
        "id": "b-dyURKyAXt3",
        "outputId": "b4bba6b5-5c5c-4333-bc11-68859ef43448"
      },
      "source": [
        "ann.summary()"
      ],
      "execution_count": 159,
      "outputs": [
        {
          "output_type": "stream",
          "text": [
            "Model: \"sequential_1\"\n",
            "_________________________________________________________________\n",
            "Layer (type)                 Output Shape              Param #   \n",
            "=================================================================\n",
            "dense_3 (Dense)              (None, 6)                 48        \n",
            "_________________________________________________________________\n",
            "dense_4 (Dense)              (None, 6)                 42        \n",
            "_________________________________________________________________\n",
            "dense_5 (Dense)              (None, 1)                 7         \n",
            "=================================================================\n",
            "Total params: 97\n",
            "Trainable params: 97\n",
            "Non-trainable params: 0\n",
            "_________________________________________________________________\n"
          ],
          "name": "stdout"
        }
      ]
    },
    {
      "cell_type": "code",
      "metadata": {
        "colab": {
          "base_uri": "https://localhost:8080/"
        },
        "id": "sBeUXWkyAXt3",
        "outputId": "c2ee4c60-7db3-4d31-d516-c0474971bfb1"
      },
      "source": [
        "print_error(x_test , y_test , ann)"
      ],
      "execution_count": 160,
      "outputs": [
        {
          "output_type": "stream",
          "text": [
            "Mean Absolute Error: 3300.478392258368\n",
            "Mean Squared Error: 829682649.3830595\n",
            "Root Mean Squared Error: 28804.21235484594\n"
          ],
          "name": "stdout"
        }
      ]
    },
    {
      "cell_type": "markdown",
      "metadata": {
        "id": "dh-wV7_2AXt3"
      },
      "source": [
        "# 9.Picking the best Model based on error as well as generalisation."
      ]
    },
    {
      "cell_type": "code",
      "metadata": {
        "colab": {
          "base_uri": "https://localhost:8080/"
        },
        "id": "DN4ESYs4AXt3",
        "outputId": "dcc19281-20a1-45bc-914c-fa4ab3d9be93"
      },
      "source": [
        "# 1. Lineae Regression\n",
        "print_error(x_test, y_test, linear_regression)"
      ],
      "execution_count": 161,
      "outputs": [
        {
          "output_type": "stream",
          "text": [
            "Mean Absolute Error: 3707.378005824532\n",
            "Mean Squared Error: 835663131.1210337\n",
            "Root Mean Squared Error: 28907.83857573986\n"
          ],
          "name": "stdout"
        }
      ]
    },
    {
      "cell_type": "code",
      "metadata": {
        "colab": {
          "base_uri": "https://localhost:8080/"
        },
        "id": "5Uj_jm4nAXt3",
        "outputId": "49939050-150e-4ad8-fa01-d284ffb67852"
      },
      "source": [
        "# 2. Support Vector Regressor\n",
        "print_error(x_test , y_test , supportvector_regressor)"
      ],
      "execution_count": 162,
      "outputs": [
        {
          "output_type": "stream",
          "text": [
            "Mean Absolute Error: 1696.9438599505638\n",
            "Mean Squared Error: 833685776.029172\n",
            "Root Mean Squared Error: 28873.617300732723\n"
          ],
          "name": "stdout"
        }
      ]
    },
    {
      "cell_type": "code",
      "metadata": {
        "colab": {
          "base_uri": "https://localhost:8080/"
        },
        "id": "2OabZ3XoAXt3",
        "outputId": "79b640c1-36af-44e1-b1d6-992c7b39d420"
      },
      "source": [
        "# 3. Decision Tree Regressor\n",
        "print_error(x_test , y_test , decision_tree)"
      ],
      "execution_count": 163,
      "outputs": [
        {
          "output_type": "stream",
          "text": [
            "Mean Absolute Error: 2968.448087431694\n",
            "Mean Squared Error: 1207143952.0403006\n",
            "Root Mean Squared Error: 34743.9772052697\n"
          ],
          "name": "stdout"
        }
      ]
    },
    {
      "cell_type": "code",
      "metadata": {
        "colab": {
          "base_uri": "https://localhost:8080/"
        },
        "id": "_fMkGDd-AXt3",
        "outputId": "5efce1cc-df3d-492f-a0dc-2f86e4c2cd7f"
      },
      "source": [
        "# 4. Random Forest Regressor\n",
        "print_error(x_test , y_test , random_forest)"
      ],
      "execution_count": 164,
      "outputs": [
        {
          "output_type": "stream",
          "text": [
            "Mean Absolute Error: 3394.9209315119365\n",
            "Mean Squared Error: 723338080.995034\n",
            "Root Mean Squared Error: 26894.945268489282\n"
          ],
          "name": "stdout"
        }
      ]
    },
    {
      "cell_type": "markdown",
      "metadata": {
        "id": "T1Bx8zJJAXt4"
      },
      "source": [
        "#Decision tree regression is best Model based on errors and also by gerneralization."
      ]
    },
    {
      "cell_type": "markdown",
      "metadata": {
        "id": "H2o5rVmzAXt4"
      },
      "source": [
        "# 10.Saving the model and predicting on test set."
      ]
    },
    {
      "cell_type": "code",
      "metadata": {
        "colab": {
          "base_uri": "https://localhost:8080/"
        },
        "id": "VbUJmmu6AXt4",
        "outputId": "3e7bdc62-44be-47cf-98b5-2a1b11dca64e"
      },
      "source": [
        "#Saving Scikitlearn models\n",
        "import joblib\n",
        "joblib.dump(decision_tree , \"decisiontree_youtubeadview.pkl\")\n"
      ],
      "execution_count": 165,
      "outputs": [
        {
          "output_type": "execute_result",
          "data": {
            "text/plain": [
              "['decisiontree_youtubeadview.pkl']"
            ]
          },
          "metadata": {
            "tags": []
          },
          "execution_count": 165
        }
      ]
    },
    {
      "cell_type": "code",
      "metadata": {
        "id": "__1__u7WAXt4"
      },
      "source": [
        "#Saving keras Artificial Neural Network Model\n",
        "ann.save(\"ann_youtubeadview.h5\")"
      ],
      "execution_count": 166,
      "outputs": []
    },
    {
      "cell_type": "markdown",
      "metadata": {
        "id": "GqE9beDcAXt4"
      },
      "source": [
        "# Testing"
      ]
    },
    {
      "cell_type": "code",
      "metadata": {
        "colab": {
          "base_uri": "https://localhost:8080/",
          "height": 417
        },
        "id": "PN839uYTAXt4",
        "outputId": "3936ab92-239f-47e9-86dd-f49d544d93dd"
      },
      "source": [
        "#importing the libraries\n",
        "import numpy as np\n",
        "import pandas as pd\n",
        "import matplotlib.cm as cm\n",
        "import matplotlib.pyplot as plt\n",
        "\n",
        "#importing the datasets\n",
        "data_test = pd.read_csv(\"test.csv\")\n",
        "\n",
        "#Displaying the imported dataset\n",
        "data_test\n"
      ],
      "execution_count": 167,
      "outputs": [
        {
          "output_type": "execute_result",
          "data": {
            "text/html": [
              "<div>\n",
              "<style scoped>\n",
              "    .dataframe tbody tr th:only-of-type {\n",
              "        vertical-align: middle;\n",
              "    }\n",
              "\n",
              "    .dataframe tbody tr th {\n",
              "        vertical-align: top;\n",
              "    }\n",
              "\n",
              "    .dataframe thead th {\n",
              "        text-align: right;\n",
              "    }\n",
              "</style>\n",
              "<table border=\"1\" class=\"dataframe\">\n",
              "  <thead>\n",
              "    <tr style=\"text-align: right;\">\n",
              "      <th></th>\n",
              "      <th>vidid</th>\n",
              "      <th>views</th>\n",
              "      <th>likes</th>\n",
              "      <th>dislikes</th>\n",
              "      <th>comment</th>\n",
              "      <th>published</th>\n",
              "      <th>duration</th>\n",
              "      <th>category</th>\n",
              "    </tr>\n",
              "  </thead>\n",
              "  <tbody>\n",
              "    <tr>\n",
              "      <th>0</th>\n",
              "      <td>VID_1054</td>\n",
              "      <td>440238</td>\n",
              "      <td>6153</td>\n",
              "      <td>218</td>\n",
              "      <td>1377</td>\n",
              "      <td>2017-02-18</td>\n",
              "      <td>PT7M29S</td>\n",
              "      <td>B</td>\n",
              "    </tr>\n",
              "    <tr>\n",
              "      <th>1</th>\n",
              "      <td>VID_18629</td>\n",
              "      <td>1040132</td>\n",
              "      <td>8171</td>\n",
              "      <td>340</td>\n",
              "      <td>1047</td>\n",
              "      <td>2016-06-28</td>\n",
              "      <td>PT6M29S</td>\n",
              "      <td>F</td>\n",
              "    </tr>\n",
              "    <tr>\n",
              "      <th>2</th>\n",
              "      <td>VID_13967</td>\n",
              "      <td>28534</td>\n",
              "      <td>31</td>\n",
              "      <td>11</td>\n",
              "      <td>1</td>\n",
              "      <td>2014-03-10</td>\n",
              "      <td>PT37M54S</td>\n",
              "      <td>D</td>\n",
              "    </tr>\n",
              "    <tr>\n",
              "      <th>3</th>\n",
              "      <td>VID_19442</td>\n",
              "      <td>1316715</td>\n",
              "      <td>2284</td>\n",
              "      <td>250</td>\n",
              "      <td>274</td>\n",
              "      <td>2010-06-05</td>\n",
              "      <td>PT9M55S</td>\n",
              "      <td>G</td>\n",
              "    </tr>\n",
              "    <tr>\n",
              "      <th>4</th>\n",
              "      <td>VID_770</td>\n",
              "      <td>1893173</td>\n",
              "      <td>2519</td>\n",
              "      <td>225</td>\n",
              "      <td>116</td>\n",
              "      <td>2016-09-03</td>\n",
              "      <td>PT3M8S</td>\n",
              "      <td>B</td>\n",
              "    </tr>\n",
              "    <tr>\n",
              "      <th>...</th>\n",
              "      <td>...</td>\n",
              "      <td>...</td>\n",
              "      <td>...</td>\n",
              "      <td>...</td>\n",
              "      <td>...</td>\n",
              "      <td>...</td>\n",
              "      <td>...</td>\n",
              "      <td>...</td>\n",
              "    </tr>\n",
              "    <tr>\n",
              "      <th>8759</th>\n",
              "      <td>VID_2944</td>\n",
              "      <td>111205</td>\n",
              "      <td>471</td>\n",
              "      <td>14</td>\n",
              "      <td>101</td>\n",
              "      <td>2011-04-19</td>\n",
              "      <td>PT3M14S</td>\n",
              "      <td>C</td>\n",
              "    </tr>\n",
              "    <tr>\n",
              "      <th>8760</th>\n",
              "      <td>VID_8195</td>\n",
              "      <td>1074457</td>\n",
              "      <td>1024</td>\n",
              "      <td>195</td>\n",
              "      <td>65</td>\n",
              "      <td>2016-06-03</td>\n",
              "      <td>PT2H18M35S</td>\n",
              "      <td>D</td>\n",
              "    </tr>\n",
              "    <tr>\n",
              "      <th>8761</th>\n",
              "      <td>VID_18973</td>\n",
              "      <td>1891692</td>\n",
              "      <td>4606</td>\n",
              "      <td>1109</td>\n",
              "      <td>191</td>\n",
              "      <td>2016-06-26</td>\n",
              "      <td>PT7M14S</td>\n",
              "      <td>F</td>\n",
              "    </tr>\n",
              "    <tr>\n",
              "      <th>8762</th>\n",
              "      <td>VID_5849</td>\n",
              "      <td>714859</td>\n",
              "      <td>1639</td>\n",
              "      <td>151</td>\n",
              "      <td>382</td>\n",
              "      <td>2016-03-23</td>\n",
              "      <td>PT3M15S</td>\n",
              "      <td>D</td>\n",
              "    </tr>\n",
              "    <tr>\n",
              "      <th>8763</th>\n",
              "      <td>VID_8494</td>\n",
              "      <td>5297</td>\n",
              "      <td>12</td>\n",
              "      <td>1</td>\n",
              "      <td>0</td>\n",
              "      <td>2016-12-19</td>\n",
              "      <td>PT10M14S</td>\n",
              "      <td>D</td>\n",
              "    </tr>\n",
              "  </tbody>\n",
              "</table>\n",
              "<p>8764 rows × 8 columns</p>\n",
              "</div>"
            ],
            "text/plain": [
              "          vidid    views likes  ...   published    duration category\n",
              "0      VID_1054   440238  6153  ...  2017-02-18     PT7M29S        B\n",
              "1     VID_18629  1040132  8171  ...  2016-06-28     PT6M29S        F\n",
              "2     VID_13967    28534    31  ...  2014-03-10    PT37M54S        D\n",
              "3     VID_19442  1316715  2284  ...  2010-06-05     PT9M55S        G\n",
              "4       VID_770  1893173  2519  ...  2016-09-03      PT3M8S        B\n",
              "...         ...      ...   ...  ...         ...         ...      ...\n",
              "8759   VID_2944   111205   471  ...  2011-04-19     PT3M14S        C\n",
              "8760   VID_8195  1074457  1024  ...  2016-06-03  PT2H18M35S        D\n",
              "8761  VID_18973  1891692  4606  ...  2016-06-26     PT7M14S        F\n",
              "8762   VID_5849   714859  1639  ...  2016-03-23     PT3M15S        D\n",
              "8763   VID_8494     5297    12  ...  2016-12-19    PT10M14S        D\n",
              "\n",
              "[8764 rows x 8 columns]"
            ]
          },
          "metadata": {
            "tags": []
          },
          "execution_count": 167
        }
      ]
    },
    {
      "cell_type": "code",
      "metadata": {
        "colab": {
          "base_uri": "https://localhost:8080/"
        },
        "id": "mAdLZAENAXt4",
        "outputId": "17aee692-c4cf-4630-a81d-4931ab942ee6"
      },
      "source": [
        "#describing the dataset\n",
        "data_test.describe"
      ],
      "execution_count": 168,
      "outputs": [
        {
          "output_type": "execute_result",
          "data": {
            "text/plain": [
              "<bound method NDFrame.describe of           vidid    views likes  ...   published    duration category\n",
              "0      VID_1054   440238  6153  ...  2017-02-18     PT7M29S        B\n",
              "1     VID_18629  1040132  8171  ...  2016-06-28     PT6M29S        F\n",
              "2     VID_13967    28534    31  ...  2014-03-10    PT37M54S        D\n",
              "3     VID_19442  1316715  2284  ...  2010-06-05     PT9M55S        G\n",
              "4       VID_770  1893173  2519  ...  2016-09-03      PT3M8S        B\n",
              "...         ...      ...   ...  ...         ...         ...      ...\n",
              "8759   VID_2944   111205   471  ...  2011-04-19     PT3M14S        C\n",
              "8760   VID_8195  1074457  1024  ...  2016-06-03  PT2H18M35S        D\n",
              "8761  VID_18973  1891692  4606  ...  2016-06-26     PT7M14S        F\n",
              "8762   VID_5849   714859  1639  ...  2016-03-23     PT3M15S        D\n",
              "8763   VID_8494     5297    12  ...  2016-12-19    PT10M14S        D\n",
              "\n",
              "[8764 rows x 8 columns]>"
            ]
          },
          "metadata": {
            "tags": []
          },
          "execution_count": 168
        }
      ]
    },
    {
      "cell_type": "code",
      "metadata": {
        "colab": {
          "base_uri": "https://localhost:8080/",
          "height": 203
        },
        "id": "qM-1hzB-AXt4",
        "outputId": "1f6ba79e-f89e-4725-b344-07abd6a55822"
      },
      "source": [
        "#removing chharacter \"F\" present in data\n",
        "data_test = data_test[data_test.views != 'F']\n",
        "data_test = data_test[data_test.likes != 'F']\n",
        "data_test = data_test[data_test.dislikes != 'F']\n",
        "data_test = data_test[data_test.comment != 'F']\n",
        "\n",
        "data_test.head()"
      ],
      "execution_count": 169,
      "outputs": [
        {
          "output_type": "execute_result",
          "data": {
            "text/html": [
              "<div>\n",
              "<style scoped>\n",
              "    .dataframe tbody tr th:only-of-type {\n",
              "        vertical-align: middle;\n",
              "    }\n",
              "\n",
              "    .dataframe tbody tr th {\n",
              "        vertical-align: top;\n",
              "    }\n",
              "\n",
              "    .dataframe thead th {\n",
              "        text-align: right;\n",
              "    }\n",
              "</style>\n",
              "<table border=\"1\" class=\"dataframe\">\n",
              "  <thead>\n",
              "    <tr style=\"text-align: right;\">\n",
              "      <th></th>\n",
              "      <th>vidid</th>\n",
              "      <th>views</th>\n",
              "      <th>likes</th>\n",
              "      <th>dislikes</th>\n",
              "      <th>comment</th>\n",
              "      <th>published</th>\n",
              "      <th>duration</th>\n",
              "      <th>category</th>\n",
              "    </tr>\n",
              "  </thead>\n",
              "  <tbody>\n",
              "    <tr>\n",
              "      <th>0</th>\n",
              "      <td>VID_1054</td>\n",
              "      <td>440238</td>\n",
              "      <td>6153</td>\n",
              "      <td>218</td>\n",
              "      <td>1377</td>\n",
              "      <td>2017-02-18</td>\n",
              "      <td>PT7M29S</td>\n",
              "      <td>B</td>\n",
              "    </tr>\n",
              "    <tr>\n",
              "      <th>1</th>\n",
              "      <td>VID_18629</td>\n",
              "      <td>1040132</td>\n",
              "      <td>8171</td>\n",
              "      <td>340</td>\n",
              "      <td>1047</td>\n",
              "      <td>2016-06-28</td>\n",
              "      <td>PT6M29S</td>\n",
              "      <td>F</td>\n",
              "    </tr>\n",
              "    <tr>\n",
              "      <th>2</th>\n",
              "      <td>VID_13967</td>\n",
              "      <td>28534</td>\n",
              "      <td>31</td>\n",
              "      <td>11</td>\n",
              "      <td>1</td>\n",
              "      <td>2014-03-10</td>\n",
              "      <td>PT37M54S</td>\n",
              "      <td>D</td>\n",
              "    </tr>\n",
              "    <tr>\n",
              "      <th>3</th>\n",
              "      <td>VID_19442</td>\n",
              "      <td>1316715</td>\n",
              "      <td>2284</td>\n",
              "      <td>250</td>\n",
              "      <td>274</td>\n",
              "      <td>2010-06-05</td>\n",
              "      <td>PT9M55S</td>\n",
              "      <td>G</td>\n",
              "    </tr>\n",
              "    <tr>\n",
              "      <th>4</th>\n",
              "      <td>VID_770</td>\n",
              "      <td>1893173</td>\n",
              "      <td>2519</td>\n",
              "      <td>225</td>\n",
              "      <td>116</td>\n",
              "      <td>2016-09-03</td>\n",
              "      <td>PT3M8S</td>\n",
              "      <td>B</td>\n",
              "    </tr>\n",
              "  </tbody>\n",
              "</table>\n",
              "</div>"
            ],
            "text/plain": [
              "       vidid    views likes dislikes comment   published  duration category\n",
              "0   VID_1054   440238  6153      218    1377  2017-02-18   PT7M29S        B\n",
              "1  VID_18629  1040132  8171      340    1047  2016-06-28   PT6M29S        F\n",
              "2  VID_13967    28534    31       11       1  2014-03-10  PT37M54S        D\n",
              "3  VID_19442  1316715  2284      250     274  2010-06-05   PT9M55S        G\n",
              "4    VID_770  1893173  2519      225     116  2016-09-03    PT3M8S        B"
            ]
          },
          "metadata": {
            "tags": []
          },
          "execution_count": 169
        }
      ]
    },
    {
      "cell_type": "code",
      "metadata": {
        "colab": {
          "base_uri": "https://localhost:8080/",
          "height": 203
        },
        "id": "68YLwxWbAXt4",
        "outputId": "c52a3d41-7d1f-4744-f6ed-eeddf4275181"
      },
      "source": [
        "#Assigning each category a number for category feature\n",
        "category = {'A':1 , 'B':2 , 'C':3 , 'D':4 , 'E':5 , 'F':6 , 'G':7 , 'H':8}\n",
        "data_test[\"category\"] = data_test[\"category\"].map(category)\n",
        "\n",
        "#Dataset after cleaning and categorizing the features\n",
        "data_test.head()"
      ],
      "execution_count": 170,
      "outputs": [
        {
          "output_type": "execute_result",
          "data": {
            "text/html": [
              "<div>\n",
              "<style scoped>\n",
              "    .dataframe tbody tr th:only-of-type {\n",
              "        vertical-align: middle;\n",
              "    }\n",
              "\n",
              "    .dataframe tbody tr th {\n",
              "        vertical-align: top;\n",
              "    }\n",
              "\n",
              "    .dataframe thead th {\n",
              "        text-align: right;\n",
              "    }\n",
              "</style>\n",
              "<table border=\"1\" class=\"dataframe\">\n",
              "  <thead>\n",
              "    <tr style=\"text-align: right;\">\n",
              "      <th></th>\n",
              "      <th>vidid</th>\n",
              "      <th>views</th>\n",
              "      <th>likes</th>\n",
              "      <th>dislikes</th>\n",
              "      <th>comment</th>\n",
              "      <th>published</th>\n",
              "      <th>duration</th>\n",
              "      <th>category</th>\n",
              "    </tr>\n",
              "  </thead>\n",
              "  <tbody>\n",
              "    <tr>\n",
              "      <th>0</th>\n",
              "      <td>VID_1054</td>\n",
              "      <td>440238</td>\n",
              "      <td>6153</td>\n",
              "      <td>218</td>\n",
              "      <td>1377</td>\n",
              "      <td>2017-02-18</td>\n",
              "      <td>PT7M29S</td>\n",
              "      <td>2</td>\n",
              "    </tr>\n",
              "    <tr>\n",
              "      <th>1</th>\n",
              "      <td>VID_18629</td>\n",
              "      <td>1040132</td>\n",
              "      <td>8171</td>\n",
              "      <td>340</td>\n",
              "      <td>1047</td>\n",
              "      <td>2016-06-28</td>\n",
              "      <td>PT6M29S</td>\n",
              "      <td>6</td>\n",
              "    </tr>\n",
              "    <tr>\n",
              "      <th>2</th>\n",
              "      <td>VID_13967</td>\n",
              "      <td>28534</td>\n",
              "      <td>31</td>\n",
              "      <td>11</td>\n",
              "      <td>1</td>\n",
              "      <td>2014-03-10</td>\n",
              "      <td>PT37M54S</td>\n",
              "      <td>4</td>\n",
              "    </tr>\n",
              "    <tr>\n",
              "      <th>3</th>\n",
              "      <td>VID_19442</td>\n",
              "      <td>1316715</td>\n",
              "      <td>2284</td>\n",
              "      <td>250</td>\n",
              "      <td>274</td>\n",
              "      <td>2010-06-05</td>\n",
              "      <td>PT9M55S</td>\n",
              "      <td>7</td>\n",
              "    </tr>\n",
              "    <tr>\n",
              "      <th>4</th>\n",
              "      <td>VID_770</td>\n",
              "      <td>1893173</td>\n",
              "      <td>2519</td>\n",
              "      <td>225</td>\n",
              "      <td>116</td>\n",
              "      <td>2016-09-03</td>\n",
              "      <td>PT3M8S</td>\n",
              "      <td>2</td>\n",
              "    </tr>\n",
              "  </tbody>\n",
              "</table>\n",
              "</div>"
            ],
            "text/plain": [
              "       vidid    views likes dislikes comment   published  duration  category\n",
              "0   VID_1054   440238  6153      218    1377  2017-02-18   PT7M29S         2\n",
              "1  VID_18629  1040132  8171      340    1047  2016-06-28   PT6M29S         6\n",
              "2  VID_13967    28534    31       11       1  2014-03-10  PT37M54S         4\n",
              "3  VID_19442  1316715  2284      250     274  2010-06-05   PT9M55S         7\n",
              "4    VID_770  1893173  2519      225     116  2016-09-03    PT3M8S         2"
            ]
          },
          "metadata": {
            "tags": []
          },
          "execution_count": 170
        }
      ]
    },
    {
      "cell_type": "code",
      "metadata": {
        "id": "hG0yqfQCAXt5"
      },
      "source": [
        "#Converting all floating point numbers to integers for views, likes, comments, dislikes, and adviews\n",
        "\n",
        "data_test[\"views\"] = pd.to_numeric(data_test[\"views\"])\n",
        "data_test[\"comment\"] = pd.to_numeric(data_test[\"comment\"])\n",
        "data_test[\"likes\"] = pd.to_numeric(data_test[\"likes\"])\n",
        "data_test[\"dislikes\"] = pd.to_numeric(data_test[\"dislikes\"])\n",
        "\n",
        "column_vidid = data_test[\"vidid\"]"
      ],
      "execution_count": 171,
      "outputs": []
    },
    {
      "cell_type": "code",
      "metadata": {
        "colab": {
          "base_uri": "https://localhost:8080/",
          "height": 203
        },
        "id": "yGqSLgjbAXt5",
        "outputId": "ff620e7f-8d58-4b86-8d0c-1905e9594d6a"
      },
      "source": [
        "#Encoding features like category, duration and vidid\n",
        "\n",
        "from sklearn.preprocessing import LabelEncoder\n",
        "data_test['duration'] = LabelEncoder().fit_transform(data_test['duration'])\n",
        "data_test['vidid'] = LabelEncoder().fit_transform(data_test['vidid'])\n",
        "data_test['published'] = LabelEncoder().fit_transform(data_test['published'])\n",
        "\n",
        "data_test.head()"
      ],
      "execution_count": 172,
      "outputs": [
        {
          "output_type": "execute_result",
          "data": {
            "text/html": [
              "<div>\n",
              "<style scoped>\n",
              "    .dataframe tbody tr th:only-of-type {\n",
              "        vertical-align: middle;\n",
              "    }\n",
              "\n",
              "    .dataframe tbody tr th {\n",
              "        vertical-align: top;\n",
              "    }\n",
              "\n",
              "    .dataframe thead th {\n",
              "        text-align: right;\n",
              "    }\n",
              "</style>\n",
              "<table border=\"1\" class=\"dataframe\">\n",
              "  <thead>\n",
              "    <tr style=\"text-align: right;\">\n",
              "      <th></th>\n",
              "      <th>vidid</th>\n",
              "      <th>views</th>\n",
              "      <th>likes</th>\n",
              "      <th>dislikes</th>\n",
              "      <th>comment</th>\n",
              "      <th>published</th>\n",
              "      <th>duration</th>\n",
              "      <th>category</th>\n",
              "    </tr>\n",
              "  </thead>\n",
              "  <tbody>\n",
              "    <tr>\n",
              "      <th>0</th>\n",
              "      <td>231</td>\n",
              "      <td>440238</td>\n",
              "      <td>6153</td>\n",
              "      <td>218</td>\n",
              "      <td>1377</td>\n",
              "      <td>2053</td>\n",
              "      <td>2115</td>\n",
              "      <td>2</td>\n",
              "    </tr>\n",
              "    <tr>\n",
              "      <th>1</th>\n",
              "      <td>3444</td>\n",
              "      <td>1040132</td>\n",
              "      <td>8171</td>\n",
              "      <td>340</td>\n",
              "      <td>1047</td>\n",
              "      <td>1825</td>\n",
              "      <td>2055</td>\n",
              "      <td>6</td>\n",
              "    </tr>\n",
              "    <tr>\n",
              "      <th>2</th>\n",
              "      <td>1593</td>\n",
              "      <td>28534</td>\n",
              "      <td>31</td>\n",
              "      <td>11</td>\n",
              "      <td>1</td>\n",
              "      <td>1009</td>\n",
              "      <td>1506</td>\n",
              "      <td>4</td>\n",
              "    </tr>\n",
              "    <tr>\n",
              "      <th>3</th>\n",
              "      <td>3775</td>\n",
              "      <td>1316715</td>\n",
              "      <td>2284</td>\n",
              "      <td>250</td>\n",
              "      <td>274</td>\n",
              "      <td>116</td>\n",
              "      <td>2265</td>\n",
              "      <td>7</td>\n",
              "    </tr>\n",
              "    <tr>\n",
              "      <th>4</th>\n",
              "      <td>7644</td>\n",
              "      <td>1893173</td>\n",
              "      <td>2519</td>\n",
              "      <td>225</td>\n",
              "      <td>116</td>\n",
              "      <td>1892</td>\n",
              "      <td>1625</td>\n",
              "      <td>2</td>\n",
              "    </tr>\n",
              "  </tbody>\n",
              "</table>\n",
              "</div>"
            ],
            "text/plain": [
              "   vidid    views  likes  dislikes  comment  published  duration  category\n",
              "0    231   440238   6153       218     1377       2053      2115         2\n",
              "1   3444  1040132   8171       340     1047       1825      2055         6\n",
              "2   1593    28534     31        11        1       1009      1506         4\n",
              "3   3775  1316715   2284       250      274        116      2265         7\n",
              "4   7644  1893173   2519       225      116       1892      1625         2"
            ]
          },
          "metadata": {
            "tags": []
          },
          "execution_count": 172
        }
      ]
    },
    {
      "cell_type": "code",
      "metadata": {
        "id": "y-T0JifcAXt5"
      },
      "source": [
        "#Converting Time_in_sec for duration\n",
        "import datetime\n",
        "import time\n",
        "\n",
        "#defining a functionc\"checki\" to check the duration of the adds\n",
        "def checki(x):\n",
        "  y = x[2:]\n",
        "  h = ''\n",
        "  m = ''\n",
        "  s = ''\n",
        "  mm = ''\n",
        "  p = ['H' , 'M' , 'S']\n",
        "  \n",
        "  for i in y:\n",
        "    if i not in p:\n",
        "      mm+=i\n",
        "    else:\n",
        "      if (i == \"H\"):\n",
        "        h = mm\n",
        "        mm = ''\n",
        "      elif (i == \"M\"):\n",
        "        m = mm\n",
        "        mm = ''\n",
        "      else:\n",
        "        s = mm\n",
        "        mm = ''\n",
        "  \n",
        "  if (h == ''):\n",
        "    h = '00'\n",
        "  if (m == ''):\n",
        "    m = '00'\n",
        "  if (s == ''):\n",
        "    s = '00'\n",
        "\n",
        "  bp = h+':'+m+':'+s\n",
        "  return bp"
      ],
      "execution_count": 173,
      "outputs": []
    },
    {
      "cell_type": "code",
      "metadata": {
        "colab": {
          "base_uri": "https://localhost:8080/",
          "height": 203
        },
        "id": "FaWXlnshAXt5",
        "outputId": "cf160f4b-a1b8-4659-85ab-8abe8699faa5"
      },
      "source": [
        "#reloading the csv file to the project and assiging it to train\n",
        "test = pd.read_csv(\"test.csv\")\n",
        "mp = pd.read_csv(\"test.csv\")[\"duration\"]\n",
        "\n",
        "#applying the \"checki\" function to the csv file\n",
        "time = mp.apply(checki)\n",
        "\n",
        "#defining a function \"func_sec\" to transform the time into seconds\n",
        "def func_sec(time_string):\n",
        "  h, m, s =time_string.split(':')\n",
        "  return int(h) * 3600 + int(m) * 60 + int(s)\n",
        "\n",
        "#calling the function \"func_sec\" and applying to the above function variable _time_\n",
        "time1 = time.apply(func_sec)\n",
        "\n",
        "#applying the above all functions to the the dataset (\"data_train\")\n",
        "data_test[\"duration\"] = time1\n",
        "\n",
        "#displaying the newly modified dataset\n",
        "data_test.head()"
      ],
      "execution_count": 174,
      "outputs": [
        {
          "output_type": "execute_result",
          "data": {
            "text/html": [
              "<div>\n",
              "<style scoped>\n",
              "    .dataframe tbody tr th:only-of-type {\n",
              "        vertical-align: middle;\n",
              "    }\n",
              "\n",
              "    .dataframe tbody tr th {\n",
              "        vertical-align: top;\n",
              "    }\n",
              "\n",
              "    .dataframe thead th {\n",
              "        text-align: right;\n",
              "    }\n",
              "</style>\n",
              "<table border=\"1\" class=\"dataframe\">\n",
              "  <thead>\n",
              "    <tr style=\"text-align: right;\">\n",
              "      <th></th>\n",
              "      <th>vidid</th>\n",
              "      <th>views</th>\n",
              "      <th>likes</th>\n",
              "      <th>dislikes</th>\n",
              "      <th>comment</th>\n",
              "      <th>published</th>\n",
              "      <th>duration</th>\n",
              "      <th>category</th>\n",
              "    </tr>\n",
              "  </thead>\n",
              "  <tbody>\n",
              "    <tr>\n",
              "      <th>0</th>\n",
              "      <td>231</td>\n",
              "      <td>440238</td>\n",
              "      <td>6153</td>\n",
              "      <td>218</td>\n",
              "      <td>1377</td>\n",
              "      <td>2053</td>\n",
              "      <td>449</td>\n",
              "      <td>2</td>\n",
              "    </tr>\n",
              "    <tr>\n",
              "      <th>1</th>\n",
              "      <td>3444</td>\n",
              "      <td>1040132</td>\n",
              "      <td>8171</td>\n",
              "      <td>340</td>\n",
              "      <td>1047</td>\n",
              "      <td>1825</td>\n",
              "      <td>389</td>\n",
              "      <td>6</td>\n",
              "    </tr>\n",
              "    <tr>\n",
              "      <th>2</th>\n",
              "      <td>1593</td>\n",
              "      <td>28534</td>\n",
              "      <td>31</td>\n",
              "      <td>11</td>\n",
              "      <td>1</td>\n",
              "      <td>1009</td>\n",
              "      <td>2274</td>\n",
              "      <td>4</td>\n",
              "    </tr>\n",
              "    <tr>\n",
              "      <th>3</th>\n",
              "      <td>3775</td>\n",
              "      <td>1316715</td>\n",
              "      <td>2284</td>\n",
              "      <td>250</td>\n",
              "      <td>274</td>\n",
              "      <td>116</td>\n",
              "      <td>595</td>\n",
              "      <td>7</td>\n",
              "    </tr>\n",
              "    <tr>\n",
              "      <th>4</th>\n",
              "      <td>7644</td>\n",
              "      <td>1893173</td>\n",
              "      <td>2519</td>\n",
              "      <td>225</td>\n",
              "      <td>116</td>\n",
              "      <td>1892</td>\n",
              "      <td>188</td>\n",
              "      <td>2</td>\n",
              "    </tr>\n",
              "  </tbody>\n",
              "</table>\n",
              "</div>"
            ],
            "text/plain": [
              "   vidid    views  likes  dislikes  comment  published  duration  category\n",
              "0    231   440238   6153       218     1377       2053       449         2\n",
              "1   3444  1040132   8171       340     1047       1825       389         6\n",
              "2   1593    28534     31        11        1       1009      2274         4\n",
              "3   3775  1316715   2284       250      274        116       595         7\n",
              "4   7644  1893173   2519       225      116       1892       188         2"
            ]
          },
          "metadata": {
            "tags": []
          },
          "execution_count": 174
        }
      ]
    },
    {
      "cell_type": "code",
      "metadata": {
        "colab": {
          "base_uri": "https://localhost:8080/",
          "height": 203
        },
        "id": "NBJghUezAXt5",
        "outputId": "b48a1ba8-83bc-4fd6-fed0-d16f345378f2"
      },
      "source": [
        "data_test = data_test.drop([\"vidid\"] , axis = 1)\n",
        "data_test.head()"
      ],
      "execution_count": 175,
      "outputs": [
        {
          "output_type": "execute_result",
          "data": {
            "text/html": [
              "<div>\n",
              "<style scoped>\n",
              "    .dataframe tbody tr th:only-of-type {\n",
              "        vertical-align: middle;\n",
              "    }\n",
              "\n",
              "    .dataframe tbody tr th {\n",
              "        vertical-align: top;\n",
              "    }\n",
              "\n",
              "    .dataframe thead th {\n",
              "        text-align: right;\n",
              "    }\n",
              "</style>\n",
              "<table border=\"1\" class=\"dataframe\">\n",
              "  <thead>\n",
              "    <tr style=\"text-align: right;\">\n",
              "      <th></th>\n",
              "      <th>views</th>\n",
              "      <th>likes</th>\n",
              "      <th>dislikes</th>\n",
              "      <th>comment</th>\n",
              "      <th>published</th>\n",
              "      <th>duration</th>\n",
              "      <th>category</th>\n",
              "    </tr>\n",
              "  </thead>\n",
              "  <tbody>\n",
              "    <tr>\n",
              "      <th>0</th>\n",
              "      <td>440238</td>\n",
              "      <td>6153</td>\n",
              "      <td>218</td>\n",
              "      <td>1377</td>\n",
              "      <td>2053</td>\n",
              "      <td>449</td>\n",
              "      <td>2</td>\n",
              "    </tr>\n",
              "    <tr>\n",
              "      <th>1</th>\n",
              "      <td>1040132</td>\n",
              "      <td>8171</td>\n",
              "      <td>340</td>\n",
              "      <td>1047</td>\n",
              "      <td>1825</td>\n",
              "      <td>389</td>\n",
              "      <td>6</td>\n",
              "    </tr>\n",
              "    <tr>\n",
              "      <th>2</th>\n",
              "      <td>28534</td>\n",
              "      <td>31</td>\n",
              "      <td>11</td>\n",
              "      <td>1</td>\n",
              "      <td>1009</td>\n",
              "      <td>2274</td>\n",
              "      <td>4</td>\n",
              "    </tr>\n",
              "    <tr>\n",
              "      <th>3</th>\n",
              "      <td>1316715</td>\n",
              "      <td>2284</td>\n",
              "      <td>250</td>\n",
              "      <td>274</td>\n",
              "      <td>116</td>\n",
              "      <td>595</td>\n",
              "      <td>7</td>\n",
              "    </tr>\n",
              "    <tr>\n",
              "      <th>4</th>\n",
              "      <td>1893173</td>\n",
              "      <td>2519</td>\n",
              "      <td>225</td>\n",
              "      <td>116</td>\n",
              "      <td>1892</td>\n",
              "      <td>188</td>\n",
              "      <td>2</td>\n",
              "    </tr>\n",
              "  </tbody>\n",
              "</table>\n",
              "</div>"
            ],
            "text/plain": [
              "     views  likes  dislikes  comment  published  duration  category\n",
              "0   440238   6153       218     1377       2053       449         2\n",
              "1  1040132   8171       340     1047       1825       389         6\n",
              "2    28534     31        11        1       1009      2274         4\n",
              "3  1316715   2284       250      274        116       595         7\n",
              "4  1893173   2519       225      116       1892       188         2"
            ]
          },
          "metadata": {
            "tags": []
          },
          "execution_count": 175
        }
      ]
    },
    {
      "cell_type": "code",
      "metadata": {
        "id": "DGuClJ-KAXt5"
      },
      "source": [
        "from sklearn.model_selection import train_test_split\n",
        "x_train , x_test , y_train , y_test = train_test_split ( data_train , Y_train , test_size = 0.2 , random_state = 42)"
      ],
      "execution_count": 176,
      "outputs": []
    },
    {
      "cell_type": "code",
      "metadata": {
        "colab": {
          "base_uri": "https://localhost:8080/",
          "height": 417
        },
        "id": "xcI6I_5TAXt6",
        "outputId": "f87c5272-0681-4d5f-e9bb-8002db4df73d"
      },
      "source": [
        "x_test"
      ],
      "execution_count": 177,
      "outputs": [
        {
          "output_type": "execute_result",
          "data": {
            "text/html": [
              "<div>\n",
              "<style scoped>\n",
              "    .dataframe tbody tr th:only-of-type {\n",
              "        vertical-align: middle;\n",
              "    }\n",
              "\n",
              "    .dataframe tbody tr th {\n",
              "        vertical-align: top;\n",
              "    }\n",
              "\n",
              "    .dataframe thead th {\n",
              "        text-align: right;\n",
              "    }\n",
              "</style>\n",
              "<table border=\"1\" class=\"dataframe\">\n",
              "  <thead>\n",
              "    <tr style=\"text-align: right;\">\n",
              "      <th></th>\n",
              "      <th>views</th>\n",
              "      <th>likes</th>\n",
              "      <th>dislikes</th>\n",
              "      <th>comment</th>\n",
              "      <th>published</th>\n",
              "      <th>duration</th>\n",
              "      <th>category</th>\n",
              "    </tr>\n",
              "  </thead>\n",
              "  <tbody>\n",
              "    <tr>\n",
              "      <th>4912</th>\n",
              "      <td>630898</td>\n",
              "      <td>1625</td>\n",
              "      <td>117</td>\n",
              "      <td>80</td>\n",
              "      <td>370</td>\n",
              "      <td>365</td>\n",
              "      <td>4</td>\n",
              "    </tr>\n",
              "    <tr>\n",
              "      <th>4921</th>\n",
              "      <td>384</td>\n",
              "      <td>2</td>\n",
              "      <td>0</td>\n",
              "      <td>0</td>\n",
              "      <td>2047</td>\n",
              "      <td>15</td>\n",
              "      <td>5</td>\n",
              "    </tr>\n",
              "    <tr>\n",
              "      <th>3813</th>\n",
              "      <td>36772</td>\n",
              "      <td>138</td>\n",
              "      <td>4</td>\n",
              "      <td>7</td>\n",
              "      <td>1281</td>\n",
              "      <td>904</td>\n",
              "      <td>2</td>\n",
              "    </tr>\n",
              "    <tr>\n",
              "      <th>9091</th>\n",
              "      <td>73482</td>\n",
              "      <td>74</td>\n",
              "      <td>21</td>\n",
              "      <td>4</td>\n",
              "      <td>345</td>\n",
              "      <td>1308</td>\n",
              "      <td>4</td>\n",
              "    </tr>\n",
              "    <tr>\n",
              "      <th>8485</th>\n",
              "      <td>86827</td>\n",
              "      <td>257</td>\n",
              "      <td>5</td>\n",
              "      <td>128</td>\n",
              "      <td>1999</td>\n",
              "      <td>481</td>\n",
              "      <td>4</td>\n",
              "    </tr>\n",
              "    <tr>\n",
              "      <th>...</th>\n",
              "      <td>...</td>\n",
              "      <td>...</td>\n",
              "      <td>...</td>\n",
              "      <td>...</td>\n",
              "      <td>...</td>\n",
              "      <td>...</td>\n",
              "      <td>...</td>\n",
              "    </tr>\n",
              "    <tr>\n",
              "      <th>3788</th>\n",
              "      <td>40389</td>\n",
              "      <td>250</td>\n",
              "      <td>7</td>\n",
              "      <td>9</td>\n",
              "      <td>2230</td>\n",
              "      <td>189</td>\n",
              "      <td>4</td>\n",
              "    </tr>\n",
              "    <tr>\n",
              "      <th>4993</th>\n",
              "      <td>127443</td>\n",
              "      <td>61</td>\n",
              "      <td>10</td>\n",
              "      <td>0</td>\n",
              "      <td>501</td>\n",
              "      <td>143</td>\n",
              "      <td>4</td>\n",
              "    </tr>\n",
              "    <tr>\n",
              "      <th>6953</th>\n",
              "      <td>85311</td>\n",
              "      <td>25</td>\n",
              "      <td>12</td>\n",
              "      <td>1</td>\n",
              "      <td>599</td>\n",
              "      <td>408</td>\n",
              "      <td>5</td>\n",
              "    </tr>\n",
              "    <tr>\n",
              "      <th>769</th>\n",
              "      <td>67541</td>\n",
              "      <td>691</td>\n",
              "      <td>19</td>\n",
              "      <td>66</td>\n",
              "      <td>2130</td>\n",
              "      <td>363</td>\n",
              "      <td>4</td>\n",
              "    </tr>\n",
              "    <tr>\n",
              "      <th>10392</th>\n",
              "      <td>231471</td>\n",
              "      <td>226</td>\n",
              "      <td>29</td>\n",
              "      <td>31</td>\n",
              "      <td>387</td>\n",
              "      <td>683</td>\n",
              "      <td>5</td>\n",
              "    </tr>\n",
              "  </tbody>\n",
              "</table>\n",
              "<p>2928 rows × 7 columns</p>\n",
              "</div>"
            ],
            "text/plain": [
              "        views  likes  dislikes  comment  published  duration  category\n",
              "4912   630898   1625       117       80        370       365         4\n",
              "4921      384      2         0        0       2047        15         5\n",
              "3813    36772    138         4        7       1281       904         2\n",
              "9091    73482     74        21        4        345      1308         4\n",
              "8485    86827    257         5      128       1999       481         4\n",
              "...       ...    ...       ...      ...        ...       ...       ...\n",
              "3788    40389    250         7        9       2230       189         4\n",
              "4993   127443     61        10        0        501       143         4\n",
              "6953    85311     25        12        1        599       408         5\n",
              "769     67541    691        19       66       2130       363         4\n",
              "10392  231471    226        29       31        387       683         5\n",
              "\n",
              "[2928 rows x 7 columns]"
            ]
          },
          "metadata": {
            "tags": []
          },
          "execution_count": 177
        }
      ]
    },
    {
      "cell_type": "code",
      "metadata": {
        "colab": {
          "base_uri": "https://localhost:8080/"
        },
        "id": "V_45B4eZAXt6",
        "outputId": "b6bb2f17-aeaa-4c47-ad54-ff2438cc0392"
      },
      "source": [
        "#Normaliseing the data\n",
        "from sklearn.preprocessing import MinMaxScaler\n",
        "scaler = MinMaxScaler()\n",
        "X_test = scaler.fit_transform(x_test)\n",
        "\n",
        "X_test.mean()"
      ],
      "execution_count": 178,
      "outputs": [
        {
          "output_type": "execute_result",
          "data": {
            "text/plain": [
              "0.17614792076344343"
            ]
          },
          "metadata": {
            "tags": []
          },
          "execution_count": 178
        }
      ]
    },
    {
      "cell_type": "code",
      "metadata": {
        "id": "qvJEVcPSAXt6"
      },
      "source": [
        "#Evaluation metrics\n",
        "from sklearn import  metrics\n",
        "\n",
        "def print_error(x_test, y_test, model_name):\n",
        "    prediction = model_name.predict(x_test)\n",
        "    \n",
        "    print('Mean Absolute Error:', metrics.mean_absolute_error(y_test, prediction))\n",
        "    print('Mean Squared Error:', metrics.mean_squared_error(y_test, prediction))\n",
        "    print('Root Mean Squared Error:', np.sqrt(metrics.mean_squared_error(y_test, prediction)))"
      ],
      "execution_count": 179,
      "outputs": []
    },
    {
      "cell_type": "code",
      "metadata": {
        "colab": {
          "base_uri": "https://localhost:8080/"
        },
        "id": "jMw4n_8sAXt6",
        "outputId": "f35cd5e8-f784-4c6c-8dd1-175349feabac"
      },
      "source": [
        "#Decision Tree Regressor\n",
        "from sklearn.tree import DecisionTreeRegressor\n",
        "decision_tree = DecisionTreeRegressor()\n",
        "decision_tree.fit(x_train ,y_train)\n",
        "print_error(x_test , y_test , decision_tree)"
      ],
      "execution_count": 180,
      "outputs": [
        {
          "output_type": "stream",
          "text": [
            "Mean Absolute Error: 3492.438866120219\n",
            "Mean Squared Error: 2205614845.901298\n",
            "Root Mean Squared Error: 46963.97391513306\n"
          ],
          "name": "stdout"
        }
      ]
    },
    {
      "cell_type": "code",
      "metadata": {
        "id": "ZabIzG_YAXt6"
      },
      "source": [
        "#Fitting DT classifier to Training Set\n",
        "from sklearn.tree import DecisionTreeClassifier\n",
        "model= DecisionTreeClassifier()"
      ],
      "execution_count": 181,
      "outputs": []
    },
    {
      "cell_type": "code",
      "metadata": {
        "colab": {
          "base_uri": "https://localhost:8080/"
        },
        "id": "Rv09i-nXAXt6",
        "outputId": "e164b999-c2fe-49e0-8317-8276f500627b"
      },
      "source": [
        "model.fit(x_train,y_train)"
      ],
      "execution_count": 182,
      "outputs": [
        {
          "output_type": "execute_result",
          "data": {
            "text/plain": [
              "DecisionTreeClassifier(ccp_alpha=0.0, class_weight=None, criterion='gini',\n",
              "                       max_depth=None, max_features=None, max_leaf_nodes=None,\n",
              "                       min_impurity_decrease=0.0, min_impurity_split=None,\n",
              "                       min_samples_leaf=1, min_samples_split=2,\n",
              "                       min_weight_fraction_leaf=0.0, presort='deprecated',\n",
              "                       random_state=None, splitter='best')"
            ]
          },
          "metadata": {
            "tags": []
          },
          "execution_count": 182
        }
      ]
    },
    {
      "cell_type": "code",
      "metadata": {
        "colab": {
          "base_uri": "https://localhost:8080/"
        },
        "id": "wB4nBxWLAXt6",
        "outputId": "087931bf-52e1-402c-8cda-d16368d0cedf"
      },
      "source": [
        "#Predicting the Test Set Results\n",
        "y_pred = model.predict(x_test)\n",
        "y_pred"
      ],
      "execution_count": 183,
      "outputs": [
        {
          "output_type": "execute_result",
          "data": {
            "text/plain": [
              "array([17,  9,  7, ...,  3,  1,  3])"
            ]
          },
          "metadata": {
            "tags": []
          },
          "execution_count": 183
        }
      ]
    },
    {
      "cell_type": "code",
      "metadata": {
        "colab": {
          "base_uri": "https://localhost:8080/"
        },
        "id": "_2siR42QAXt7",
        "outputId": "9353bb19-b131-4209-b5e0-687dd98e7838"
      },
      "source": [
        "from sklearn.metrics import confusion_matrix\n",
        "cm = confusion_matrix(y_test,y_pred)\n",
        "cm"
      ],
      "execution_count": 184,
      "outputs": [
        {
          "output_type": "execute_result",
          "data": {
            "text/plain": [
              "array([[637, 209,  74, ...,   0,   0,   0],\n",
              "       [204,  67,  33, ...,   0,   0,   0],\n",
              "       [ 85,  33,  19, ...,   0,   0,   0],\n",
              "       ...,\n",
              "       [  1,   0,   0, ...,   0,   0,   0],\n",
              "       [  0,   0,   0, ...,   0,   0,   1],\n",
              "       [  0,   0,   0, ...,   0,   0,   0]])"
            ]
          },
          "metadata": {
            "tags": []
          },
          "execution_count": 184
        }
      ]
    },
    {
      "cell_type": "code",
      "metadata": {
        "id": "21DHOpDwAXt7"
      },
      "source": [
        "#Saveing that as \"Predictions.csv\"\n",
        "import numpy as np\n",
        "import pandas as pd\n",
        "y_pred = pd.DataFrame(y_pred, columns=['y_pred']).to_csv('Predictions.csv')"
      ],
      "execution_count": 186,
      "outputs": []
    },
    {
      "cell_type": "code",
      "metadata": {
        "id": "pHn6KccbAXt7"
      },
      "source": [
        ""
      ],
      "execution_count": 185,
      "outputs": []
    },
    {
      "cell_type": "code",
      "metadata": {
        "id": "8GkzpbzsAXt7"
      },
      "source": [
        ""
      ],
      "execution_count": 185,
      "outputs": []
    }
  ]
}